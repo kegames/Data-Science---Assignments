{
 "cells": [
  {
   "cell_type": "code",
   "execution_count": 1,
   "metadata": {},
   "outputs": [],
   "source": [
    "import os\n",
    "os.chdir('')\n",
    "# Set up a working directory to the folder where your datasets are included\n",
    "# The figures, etc that are produced from your program will be stored in the folder as well"
   ]
  },
  {
   "cell_type": "code",
   "execution_count": 2,
   "metadata": {},
   "outputs": [
    {
     "name": "stdout",
     "output_type": "stream",
     "text": [
      "Requirement already satisfied: numpy in c:\\users\\kgame\\anaconda3\\lib\\site-packages (1.20.1)\n",
      "Requirement already satisfied: pandas in c:\\users\\kgame\\anaconda3\\lib\\site-packages (1.2.4)\n",
      "Requirement already satisfied: python-dateutil>=2.7.3 in c:\\users\\kgame\\anaconda3\\lib\\site-packages (from pandas) (2.8.1)\n",
      "Requirement already satisfied: numpy>=1.16.5 in c:\\users\\kgame\\anaconda3\\lib\\site-packages (from pandas) (1.20.1)\n",
      "Requirement already satisfied: pytz>=2017.3 in c:\\users\\kgame\\anaconda3\\lib\\site-packages (from pandas) (2021.1)\n",
      "Requirement already satisfied: six>=1.5 in c:\\users\\kgame\\anaconda3\\lib\\site-packages (from python-dateutil>=2.7.3->pandas) (1.15.0)\n"
     ]
    }
   ],
   "source": [
    "# install modules and packages\n",
    "!pip install numpy\n",
    "!pip install pandas\n",
    "\n",
    "\n",
    "import numpy as np # module for data manipulation (similar to matlab)\n",
    "import pandas as pd # module for data manipulation (similar to stata)\n",
    "import math # math fns"
   ]
  },
  {
   "cell_type": "code",
   "execution_count": 3,
   "metadata": {},
   "outputs": [],
   "source": [
    "# load data using pd.read_csv (data.csv will be uploaded to your workspace)\n",
    "raw0 = pd.read_csv('data0.csv')"
   ]
  },
  {
   "cell_type": "markdown",
   "metadata": {},
   "source": [
    "### <font color='green'> Differences between Numpy and Panda </font>\n",
    "https://discuss.codecademy.com/t/what-are-some-differences-between-pandas-numpy-and-matplotlib/354475\n",
    "\n",
    "\n",
    "* The biggest difference is that Panda creates and uses tabular data (\"Panda Frame\" table form -> user friendly) that can be easily visualized. However it accompanies many built-in functions (e.g. row, column names) it may be very slow in optimization/computation. In contrast, Numpy create and uses very simple numerical arrays (e.g. vector and matrix) that are superior in mathmatical/numerical computation.\n",
    "\n",
    "\n",
    "* We will learn how to convert panda dataframe to numpy array using raw0.values, and see the differences between the two in accessing and manipulating data."
   ]
  },
  {
   "cell_type": "code",
   "execution_count": 4,
   "metadata": {},
   "outputs": [
    {
     "data": {
      "text/html": [
       "<div>\n",
       "<style scoped>\n",
       "    .dataframe tbody tr th:only-of-type {\n",
       "        vertical-align: middle;\n",
       "    }\n",
       "\n",
       "    .dataframe tbody tr th {\n",
       "        vertical-align: top;\n",
       "    }\n",
       "\n",
       "    .dataframe thead th {\n",
       "        text-align: right;\n",
       "    }\n",
       "</style>\n",
       "<table border=\"1\" class=\"dataframe\">\n",
       "  <thead>\n",
       "    <tr style=\"text-align: right;\">\n",
       "      <th></th>\n",
       "      <th>date</th>\n",
       "      <th>census</th>\n",
       "      <th>person_gender</th>\n",
       "      <th>person_race</th>\n",
       "      <th>person_dob</th>\n",
       "      <th>traffic</th>\n",
       "      <th>frisk_search</th>\n",
       "      <th>arrest</th>\n",
       "      <th>male</th>\n",
       "      <th>offid</th>\n",
       "      <th>dob_1</th>\n",
       "      <th>race_1</th>\n",
       "      <th>sex_1</th>\n",
       "      <th>apptdate_1</th>\n",
       "      <th>blacktract</th>\n",
       "    </tr>\n",
       "  </thead>\n",
       "  <tbody>\n",
       "    <tr>\n",
       "      <th>0</th>\n",
       "      <td>2008-04-30</td>\n",
       "      <td>3.606700e+10</td>\n",
       "      <td>M</td>\n",
       "      <td>W</td>\n",
       "      <td>1981-06-13</td>\n",
       "      <td>1.0</td>\n",
       "      <td>0</td>\n",
       "      <td>0</td>\n",
       "      <td>1</td>\n",
       "      <td>1</td>\n",
       "      <td>1978-02-07</td>\n",
       "      <td>W</td>\n",
       "      <td>M</td>\n",
       "      <td>2005-07-25</td>\n",
       "      <td>1.0</td>\n",
       "    </tr>\n",
       "    <tr>\n",
       "      <th>1</th>\n",
       "      <td>2007-01-23</td>\n",
       "      <td>3.606700e+10</td>\n",
       "      <td>M</td>\n",
       "      <td>B</td>\n",
       "      <td>1960-03-27</td>\n",
       "      <td>1.0</td>\n",
       "      <td>0</td>\n",
       "      <td>0</td>\n",
       "      <td>1</td>\n",
       "      <td>1</td>\n",
       "      <td>1978-02-07</td>\n",
       "      <td>W</td>\n",
       "      <td>M</td>\n",
       "      <td>2005-07-25</td>\n",
       "      <td>1.0</td>\n",
       "    </tr>\n",
       "    <tr>\n",
       "      <th>2</th>\n",
       "      <td>2009-01-22</td>\n",
       "      <td>3.606700e+10</td>\n",
       "      <td>M</td>\n",
       "      <td>B</td>\n",
       "      <td>1968-10-20</td>\n",
       "      <td>1.0</td>\n",
       "      <td>0</td>\n",
       "      <td>0</td>\n",
       "      <td>1</td>\n",
       "      <td>1</td>\n",
       "      <td>1978-02-07</td>\n",
       "      <td>W</td>\n",
       "      <td>M</td>\n",
       "      <td>2005-07-25</td>\n",
       "      <td>1.0</td>\n",
       "    </tr>\n",
       "    <tr>\n",
       "      <th>3</th>\n",
       "      <td>2006-03-22</td>\n",
       "      <td>3.606701e+10</td>\n",
       "      <td>M</td>\n",
       "      <td>B</td>\n",
       "      <td>1982-09-18</td>\n",
       "      <td>1.0</td>\n",
       "      <td>0</td>\n",
       "      <td>0</td>\n",
       "      <td>1</td>\n",
       "      <td>1</td>\n",
       "      <td>1978-02-07</td>\n",
       "      <td>W</td>\n",
       "      <td>M</td>\n",
       "      <td>2005-07-25</td>\n",
       "      <td>1.0</td>\n",
       "    </tr>\n",
       "    <tr>\n",
       "      <th>4</th>\n",
       "      <td>2007-07-27</td>\n",
       "      <td>3.606700e+10</td>\n",
       "      <td>F</td>\n",
       "      <td>W</td>\n",
       "      <td>1981-08-30</td>\n",
       "      <td>1.0</td>\n",
       "      <td>0</td>\n",
       "      <td>0</td>\n",
       "      <td>0</td>\n",
       "      <td>1</td>\n",
       "      <td>1978-02-07</td>\n",
       "      <td>W</td>\n",
       "      <td>M</td>\n",
       "      <td>2005-07-25</td>\n",
       "      <td>1.0</td>\n",
       "    </tr>\n",
       "  </tbody>\n",
       "</table>\n",
       "</div>"
      ],
      "text/plain": [
       "         date        census person_gender person_race  person_dob  traffic  \\\n",
       "0  2008-04-30  3.606700e+10             M           W  1981-06-13      1.0   \n",
       "1  2007-01-23  3.606700e+10             M           B  1960-03-27      1.0   \n",
       "2  2009-01-22  3.606700e+10             M           B  1968-10-20      1.0   \n",
       "3  2006-03-22  3.606701e+10             M           B  1982-09-18      1.0   \n",
       "4  2007-07-27  3.606700e+10             F           W  1981-08-30      1.0   \n",
       "\n",
       "   frisk_search  arrest  male  offid       dob_1 race_1 sex_1  apptdate_1  \\\n",
       "0             0       0     1      1  1978-02-07      W     M  2005-07-25   \n",
       "1             0       0     1      1  1978-02-07      W     M  2005-07-25   \n",
       "2             0       0     1      1  1978-02-07      W     M  2005-07-25   \n",
       "3             0       0     1      1  1978-02-07      W     M  2005-07-25   \n",
       "4             0       0     0      1  1978-02-07      W     M  2005-07-25   \n",
       "\n",
       "   blacktract  \n",
       "0         1.0  \n",
       "1         1.0  \n",
       "2         1.0  \n",
       "3         1.0  \n",
       "4         1.0  "
      ]
     },
     "execution_count": 4,
     "metadata": {},
     "output_type": "execute_result"
    }
   ],
   "source": [
    "# check how data is uploaded \n",
    "# the column for observation numbers and the row for variable names are not part of data\n",
    "# Python index starts from 0 (0-indexed)\n",
    "raw0.head()"
   ]
  },
  {
   "cell_type": "code",
   "execution_count": 5,
   "metadata": {},
   "outputs": [
    {
     "data": {
      "text/plain": [
       "array([['2008-04-30', 36067003000.0, 'M', ..., 'M', '2005-07-25', 1.0],\n",
       "       ['2007-01-23', 36067003000.0, 'M', ..., 'M', '2005-07-25', 1.0],\n",
       "       ['2009-01-22', 36067003800.0, 'M', ..., 'M', '2005-07-25', 1.0],\n",
       "       ...,\n",
       "       ['2008-11-14', 36067002200.0, 'M', ..., 'M', '1997-11-14', 1.0],\n",
       "       ['2009-01-20', 36067003200.0, 'F', ..., 'M', '1985-09-16', 1.0],\n",
       "       ['2006-01-24', 36067003200.0, 'M', ..., 'M', '1989-03-31', 1.0]],\n",
       "      dtype=object)"
      ]
     },
     "execution_count": 5,
     "metadata": {},
     "output_type": "execute_result"
    }
   ],
   "source": [
    "raw0.values\n",
    "# What it looks like in numpy array - copy without assignment"
   ]
  },
  {
   "cell_type": "code",
   "execution_count": 6,
   "metadata": {},
   "outputs": [],
   "source": [
    "# drop rows missing values\n",
    "raw0=raw0.dropna()"
   ]
  },
  {
   "cell_type": "code",
   "execution_count": 7,
   "metadata": {},
   "outputs": [
    {
     "data": {
      "text/plain": [
       "99278"
      ]
     },
     "execution_count": 7,
     "metadata": {},
     "output_type": "execute_result"
    }
   ],
   "source": [
    "# check the length of data (= n)\n",
    "len(raw0)"
   ]
  },
  {
   "cell_type": "code",
   "execution_count": 8,
   "metadata": {},
   "outputs": [
    {
     "data": {
      "text/plain": [
       "(99278, 15)"
      ]
     },
     "execution_count": 8,
     "metadata": {},
     "output_type": "execute_result"
    }
   ],
   "source": [
    "# check the shape of data (n,p) n = rows, p = columns, first rows starts from 0 index\n",
    "raw0.shape"
   ]
  },
  {
   "cell_type": "code",
   "execution_count": 9,
   "metadata": {},
   "outputs": [
    {
     "data": {
      "text/html": [
       "<div>\n",
       "<style scoped>\n",
       "    .dataframe tbody tr th:only-of-type {\n",
       "        vertical-align: middle;\n",
       "    }\n",
       "\n",
       "    .dataframe tbody tr th {\n",
       "        vertical-align: top;\n",
       "    }\n",
       "\n",
       "    .dataframe thead th {\n",
       "        text-align: right;\n",
       "    }\n",
       "</style>\n",
       "<table border=\"1\" class=\"dataframe\">\n",
       "  <thead>\n",
       "    <tr style=\"text-align: right;\">\n",
       "      <th></th>\n",
       "      <th>date</th>\n",
       "      <th>census</th>\n",
       "      <th>person_gender</th>\n",
       "      <th>person_race</th>\n",
       "      <th>person_dob</th>\n",
       "      <th>traffic</th>\n",
       "      <th>frisk_search</th>\n",
       "      <th>arrest</th>\n",
       "      <th>male</th>\n",
       "      <th>offid</th>\n",
       "      <th>dob_1</th>\n",
       "      <th>race_1</th>\n",
       "      <th>sex_1</th>\n",
       "      <th>apptdate_1</th>\n",
       "      <th>blacktract</th>\n",
       "    </tr>\n",
       "  </thead>\n",
       "  <tbody>\n",
       "    <tr>\n",
       "      <th>102505</th>\n",
       "      <td>2008-08-28</td>\n",
       "      <td>3.606700e+10</td>\n",
       "      <td>M</td>\n",
       "      <td>W</td>\n",
       "      <td>1961-12-01</td>\n",
       "      <td>1.0</td>\n",
       "      <td>0</td>\n",
       "      <td>0</td>\n",
       "      <td>1</td>\n",
       "      <td>518</td>\n",
       "      <td>1958-08-22</td>\n",
       "      <td>W</td>\n",
       "      <td>M</td>\n",
       "      <td>1993-12-16</td>\n",
       "      <td>1.0</td>\n",
       "    </tr>\n",
       "    <tr>\n",
       "      <th>102506</th>\n",
       "      <td>2006-10-21</td>\n",
       "      <td>3.606701e+10</td>\n",
       "      <td>F</td>\n",
       "      <td>W</td>\n",
       "      <td>1959-09-05</td>\n",
       "      <td>1.0</td>\n",
       "      <td>0</td>\n",
       "      <td>0</td>\n",
       "      <td>0</td>\n",
       "      <td>519</td>\n",
       "      <td>1954-10-28</td>\n",
       "      <td>B</td>\n",
       "      <td>F</td>\n",
       "      <td>1981-12-16</td>\n",
       "      <td>0.0</td>\n",
       "    </tr>\n",
       "    <tr>\n",
       "      <th>102507</th>\n",
       "      <td>2008-11-14</td>\n",
       "      <td>3.606700e+10</td>\n",
       "      <td>M</td>\n",
       "      <td>B</td>\n",
       "      <td>1952-11-03</td>\n",
       "      <td>1.0</td>\n",
       "      <td>0</td>\n",
       "      <td>0</td>\n",
       "      <td>1</td>\n",
       "      <td>520</td>\n",
       "      <td>1966-04-09</td>\n",
       "      <td>W</td>\n",
       "      <td>M</td>\n",
       "      <td>1997-11-14</td>\n",
       "      <td>1.0</td>\n",
       "    </tr>\n",
       "    <tr>\n",
       "      <th>102508</th>\n",
       "      <td>2009-01-20</td>\n",
       "      <td>3.606700e+10</td>\n",
       "      <td>F</td>\n",
       "      <td>W</td>\n",
       "      <td>1986-06-07</td>\n",
       "      <td>1.0</td>\n",
       "      <td>0</td>\n",
       "      <td>0</td>\n",
       "      <td>0</td>\n",
       "      <td>521</td>\n",
       "      <td>1960-11-02</td>\n",
       "      <td>W</td>\n",
       "      <td>M</td>\n",
       "      <td>1985-09-16</td>\n",
       "      <td>1.0</td>\n",
       "    </tr>\n",
       "    <tr>\n",
       "      <th>102509</th>\n",
       "      <td>2006-01-24</td>\n",
       "      <td>3.606700e+10</td>\n",
       "      <td>M</td>\n",
       "      <td>W</td>\n",
       "      <td>1950-04-25</td>\n",
       "      <td>1.0</td>\n",
       "      <td>0</td>\n",
       "      <td>0</td>\n",
       "      <td>1</td>\n",
       "      <td>522</td>\n",
       "      <td>1964-03-23</td>\n",
       "      <td>W</td>\n",
       "      <td>M</td>\n",
       "      <td>1989-03-31</td>\n",
       "      <td>1.0</td>\n",
       "    </tr>\n",
       "  </tbody>\n",
       "</table>\n",
       "</div>"
      ],
      "text/plain": [
       "              date        census person_gender person_race  person_dob  \\\n",
       "102505  2008-08-28  3.606700e+10             M           W  1961-12-01   \n",
       "102506  2006-10-21  3.606701e+10             F           W  1959-09-05   \n",
       "102507  2008-11-14  3.606700e+10             M           B  1952-11-03   \n",
       "102508  2009-01-20  3.606700e+10             F           W  1986-06-07   \n",
       "102509  2006-01-24  3.606700e+10             M           W  1950-04-25   \n",
       "\n",
       "        traffic  frisk_search  arrest  male  offid       dob_1 race_1 sex_1  \\\n",
       "102505      1.0             0       0     1    518  1958-08-22      W     M   \n",
       "102506      1.0             0       0     0    519  1954-10-28      B     F   \n",
       "102507      1.0             0       0     1    520  1966-04-09      W     M   \n",
       "102508      1.0             0       0     0    521  1960-11-02      W     M   \n",
       "102509      1.0             0       0     1    522  1964-03-23      W     M   \n",
       "\n",
       "        apptdate_1  blacktract  \n",
       "102505  1993-12-16         1.0  \n",
       "102506  1981-12-16         0.0  \n",
       "102507  1997-11-14         1.0  \n",
       "102508  1985-09-16         1.0  \n",
       "102509  1989-03-31         1.0  "
      ]
     },
     "execution_count": 9,
     "metadata": {},
     "output_type": "execute_result"
    }
   ],
   "source": [
    "raw0.tail()\n",
    "# dropped na still have the row numbers original"
   ]
  },
  {
   "cell_type": "markdown",
   "metadata": {},
   "source": [
    "### <font color='green'> Datatypes\n",
    "https://pbpython.com/pandas_dtypes.html\n",
    "    \n",
    "https://docs.python.org/3/tutorial/floatingpoint.html\n",
    "\n",
    "* Most frequently used types are integer, float (similar to decimal number; see the second reference for more information about float) and string.\n",
    "\n",
    "* Each type takes different space in computer and some function only work for specific types, so sometimes we need to change the type of data."
   ]
  },
  {
   "cell_type": "code",
   "execution_count": 10,
   "metadata": {},
   "outputs": [
    {
     "data": {
      "text/plain": [
       "date              object\n",
       "census           float64\n",
       "person_gender     object\n",
       "person_race       object\n",
       "person_dob        object\n",
       "traffic          float64\n",
       "frisk_search       int64\n",
       "arrest             int64\n",
       "male               int64\n",
       "offid              int64\n",
       "dob_1             object\n",
       "race_1            object\n",
       "sex_1             object\n",
       "apptdate_1        object\n",
       "blacktract       float64\n",
       "dtype: object"
      ]
     },
     "execution_count": 10,
     "metadata": {},
     "output_type": "execute_result"
    }
   ],
   "source": [
    "# check the datatypes of data\n",
    "# float is based to fractions - some minor differences with decimal\n",
    "raw0.dtypes"
   ]
  },
  {
   "cell_type": "code",
   "execution_count": 11,
   "metadata": {},
   "outputs": [],
   "source": [
    "# change data types (census, traffic and blacktract to integer)\n",
    "# astype() produces a copy so the copy should be assigned to the column of the original data for the change to be effective\n",
    "raw0['census'] = raw0.census.astype(int)\n",
    "raw0['traffic'] = raw0.traffic.astype(int)\n",
    "raw0['blacktract'] = raw0.blacktract.astype(int)"
   ]
  },
  {
   "cell_type": "code",
   "execution_count": 12,
   "metadata": {},
   "outputs": [
    {
     "data": {
      "text/plain": [
       "date             object\n",
       "census            int32\n",
       "person_gender    object\n",
       "person_race      object\n",
       "person_dob       object\n",
       "traffic           int32\n",
       "frisk_search      int64\n",
       "arrest            int64\n",
       "male              int64\n",
       "offid             int64\n",
       "dob_1            object\n",
       "race_1           object\n",
       "sex_1            object\n",
       "apptdate_1       object\n",
       "blacktract        int32\n",
       "dtype: object"
      ]
     },
     "execution_count": 12,
     "metadata": {},
     "output_type": "execute_result"
    }
   ],
   "source": [
    "# check the datatypes of data again\n",
    "raw0.dtypes"
   ]
  },
  {
   "cell_type": "markdown",
   "metadata": {},
   "source": [
    "### <font color='green'> Accessing/selecting row(s), column(s) and cell(s) in Panda\n",
    "https://www.shanelynn.ie/select-pandas-dataframe-rows-and-columns-using-iloc-loc-and-ix/\n",
    "\n",
    "https://towardsdatascience.com/a-python-beginners-look-at-loc-part-1-cb1e1e565ec2\n",
    "    \n",
    "* iloc - locate data points based on \"updated\" row \\& column numbers when some rows or columns are removed \n",
    "* using variable name - locate data points based on \"original\" row \\& column numbers assigned when data was read\n",
    "* loc - useful when selecting rows or columns that satisfies certain conditions (e.g. >, ==)"
   ]
  },
  {
   "cell_type": "code",
   "execution_count": 13,
   "metadata": {},
   "outputs": [
    {
     "data": {
      "text/plain": [
       "'2007-01-23'"
      ]
     },
     "execution_count": 13,
     "metadata": {},
     "output_type": "execute_result"
    }
   ],
   "source": [
    "# select a cell using iloc - second row, first column\n",
    "raw0.iloc[1, 0]"
   ]
  },
  {
   "cell_type": "code",
   "execution_count": 14,
   "metadata": {},
   "outputs": [
    {
     "data": {
      "text/plain": [
       "'2006-01-24'"
      ]
     },
     "execution_count": 14,
     "metadata": {},
     "output_type": "execute_result"
    }
   ],
   "source": [
    "raw0.iloc[99277,0] \n",
    "raw0.iloc[-1,0]\n",
    "# the last element in a list can be accessed using index -1 (this, however, doesn't work when variable name is used to select a column)"
   ]
  },
  {
   "cell_type": "code",
   "execution_count": 15,
   "metadata": {},
   "outputs": [
    {
     "data": {
      "text/plain": [
       "'8'"
      ]
     },
     "execution_count": 15,
     "metadata": {},
     "output_type": "execute_result"
    }
   ],
   "source": [
    "# access a part of a string in a cell using iloc - position of the element\n",
    "raw0.iloc[0, 0][3]"
   ]
  },
  {
   "cell_type": "code",
   "execution_count": 16,
   "metadata": {},
   "outputs": [
    {
     "data": {
      "text/plain": [
       "'200'"
      ]
     },
     "execution_count": 16,
     "metadata": {},
     "output_type": "execute_result"
    }
   ],
   "source": [
    "# up to one before the last element\n",
    "raw0.iloc[0,0][:3]"
   ]
  },
  {
   "cell_type": "code",
   "execution_count": 17,
   "metadata": {},
   "outputs": [
    {
     "data": {
      "text/html": [
       "<div>\n",
       "<style scoped>\n",
       "    .dataframe tbody tr th:only-of-type {\n",
       "        vertical-align: middle;\n",
       "    }\n",
       "\n",
       "    .dataframe tbody tr th {\n",
       "        vertical-align: top;\n",
       "    }\n",
       "\n",
       "    .dataframe thead th {\n",
       "        text-align: right;\n",
       "    }\n",
       "</style>\n",
       "<table border=\"1\" class=\"dataframe\">\n",
       "  <thead>\n",
       "    <tr style=\"text-align: right;\">\n",
       "      <th></th>\n",
       "      <th>date</th>\n",
       "      <th>census</th>\n",
       "    </tr>\n",
       "  </thead>\n",
       "  <tbody>\n",
       "    <tr>\n",
       "      <th>0</th>\n",
       "      <td>2008-04-30</td>\n",
       "      <td>-2147483648</td>\n",
       "    </tr>\n",
       "    <tr>\n",
       "      <th>1</th>\n",
       "      <td>2007-01-23</td>\n",
       "      <td>-2147483648</td>\n",
       "    </tr>\n",
       "    <tr>\n",
       "      <th>2</th>\n",
       "      <td>2009-01-22</td>\n",
       "      <td>-2147483648</td>\n",
       "    </tr>\n",
       "    <tr>\n",
       "      <th>3</th>\n",
       "      <td>2006-03-22</td>\n",
       "      <td>-2147483648</td>\n",
       "    </tr>\n",
       "    <tr>\n",
       "      <th>4</th>\n",
       "      <td>2007-07-27</td>\n",
       "      <td>-2147483648</td>\n",
       "    </tr>\n",
       "    <tr>\n",
       "      <th>...</th>\n",
       "      <td>...</td>\n",
       "      <td>...</td>\n",
       "    </tr>\n",
       "    <tr>\n",
       "      <th>102505</th>\n",
       "      <td>2008-08-28</td>\n",
       "      <td>-2147483648</td>\n",
       "    </tr>\n",
       "    <tr>\n",
       "      <th>102506</th>\n",
       "      <td>2006-10-21</td>\n",
       "      <td>-2147483648</td>\n",
       "    </tr>\n",
       "    <tr>\n",
       "      <th>102507</th>\n",
       "      <td>2008-11-14</td>\n",
       "      <td>-2147483648</td>\n",
       "    </tr>\n",
       "    <tr>\n",
       "      <th>102508</th>\n",
       "      <td>2009-01-20</td>\n",
       "      <td>-2147483648</td>\n",
       "    </tr>\n",
       "    <tr>\n",
       "      <th>102509</th>\n",
       "      <td>2006-01-24</td>\n",
       "      <td>-2147483648</td>\n",
       "    </tr>\n",
       "  </tbody>\n",
       "</table>\n",
       "<p>99278 rows × 2 columns</p>\n",
       "</div>"
      ],
      "text/plain": [
       "              date      census\n",
       "0       2008-04-30 -2147483648\n",
       "1       2007-01-23 -2147483648\n",
       "2       2009-01-22 -2147483648\n",
       "3       2006-03-22 -2147483648\n",
       "4       2007-07-27 -2147483648\n",
       "...            ...         ...\n",
       "102505  2008-08-28 -2147483648\n",
       "102506  2006-10-21 -2147483648\n",
       "102507  2008-11-14 -2147483648\n",
       "102508  2009-01-20 -2147483648\n",
       "102509  2006-01-24 -2147483648\n",
       "\n",
       "[99278 rows x 2 columns]"
      ]
     },
     "execution_count": 17,
     "metadata": {},
     "output_type": "execute_result"
    }
   ],
   "source": [
    "# select a column using a variable name\n",
    "raw0[['date','census']]"
   ]
  },
  {
   "cell_type": "code",
   "execution_count": 18,
   "metadata": {},
   "outputs": [
    {
     "data": {
      "text/plain": [
       "'200'"
      ]
     },
     "execution_count": 18,
     "metadata": {},
     "output_type": "execute_result"
    }
   ],
   "source": [
    "# access a part of a string in cell - first rows and first three elements\n",
    "raw0['date'][0][:3]"
   ]
  },
  {
   "cell_type": "code",
   "execution_count": 19,
   "metadata": {},
   "outputs": [
    {
     "data": {
      "text/plain": [
       "'2006-01-24'"
      ]
     },
     "execution_count": 19,
     "metadata": {},
     "output_type": "execute_result"
    }
   ],
   "source": [
    "# if using variable name, must use original row number\n",
    "raw0['date'][102509]"
   ]
  },
  {
   "cell_type": "markdown",
   "metadata": {},
   "source": [
    "### <font color='red'> In-Class Exercise 1: Creating a dummy for person's gender\n",
    "\n",
    "* We want to create a dummy variable that assigns 1 if driver is female (F), 0 otherwise"
   ]
  },
  {
   "cell_type": "code",
   "execution_count": 20,
   "metadata": {},
   "outputs": [
    {
     "data": {
      "text/plain": [
       "{'F', 'M', 'U'}"
      ]
     },
     "execution_count": 20,
     "metadata": {},
     "output_type": "execute_result"
    }
   ],
   "source": [
    "# check a list of unque elements (categories)\n",
    "set(raw0['person_gender'])"
   ]
  },
  {
   "cell_type": "markdown",
   "metadata": {},
   "source": [
    "### <font color='green'> Important Operators in Python\n",
    "https://www.programiz.com/python-programming/operators\n",
    "    \n",
    "https://www.geeksforgeeks.org/python-operators/\n",
    "    \n",
    "* Arithmetic\n",
    "* Logical/Identity/Comparison\n",
    "* Assignment"
   ]
  },
  {
   "cell_type": "code",
   "execution_count": 21,
   "metadata": {},
   "outputs": [
    {
     "data": {
      "text/plain": [
       "0         False\n",
       "1         False\n",
       "2         False\n",
       "3         False\n",
       "4          True\n",
       "          ...  \n",
       "102505    False\n",
       "102506     True\n",
       "102507    False\n",
       "102508     True\n",
       "102509    False\n",
       "Name: person_gender, Length: 99278, dtype: bool"
      ]
     },
     "execution_count": 21,
     "metadata": {},
     "output_type": "execute_result"
    }
   ],
   "source": [
    "raw0.person_gender == 'F'\n",
    "# boolean - true if satisfied"
   ]
  },
  {
   "cell_type": "code",
   "execution_count": 22,
   "metadata": {},
   "outputs": [
    {
     "data": {
      "text/plain": [
       "0          True\n",
       "1          True\n",
       "2          True\n",
       "3          True\n",
       "4         False\n",
       "          ...  \n",
       "102505     True\n",
       "102506    False\n",
       "102507     True\n",
       "102508    False\n",
       "102509     True\n",
       "Name: person_gender, Length: 99278, dtype: bool"
      ]
     },
     "execution_count": 22,
     "metadata": {},
     "output_type": "execute_result"
    }
   ],
   "source": [
    "raw0.person_gender == 'M'"
   ]
  },
  {
   "cell_type": "code",
   "execution_count": 23,
   "metadata": {},
   "outputs": [
    {
     "data": {
      "text/plain": [
       "0         True\n",
       "1         True\n",
       "2         True\n",
       "3         True\n",
       "4         True\n",
       "          ... \n",
       "102505    True\n",
       "102506    True\n",
       "102507    True\n",
       "102508    True\n",
       "102509    True\n",
       "Name: person_gender, Length: 99278, dtype: bool"
      ]
     },
     "execution_count": 23,
     "metadata": {},
     "output_type": "execute_result"
    }
   ],
   "source": [
    "# | = or, & = and\n",
    "(raw0.person_gender == 'F') | (raw0.person_gender == 'M')"
   ]
  },
  {
   "cell_type": "code",
   "execution_count": 24,
   "metadata": {},
   "outputs": [],
   "source": [
    "# remove the rows with \"u\"\n",
    "raw0 = raw0.loc[(raw0.person_gender == 'F') | (raw0.person_gender == 'M')]"
   ]
  },
  {
   "cell_type": "code",
   "execution_count": 25,
   "metadata": {},
   "outputs": [
    {
     "data": {
      "text/plain": [
       "0         True\n",
       "1         True\n",
       "2         True\n",
       "3         True\n",
       "4         True\n",
       "          ... \n",
       "102505    True\n",
       "102506    True\n",
       "102507    True\n",
       "102508    True\n",
       "102509    True\n",
       "Name: person_gender, Length: 99266, dtype: bool"
      ]
     },
     "execution_count": 25,
     "metadata": {},
     "output_type": "execute_result"
    }
   ],
   "source": [
    "(raw0.person_gender == 'M')|(raw0.person_gender == 'F')"
   ]
  },
  {
   "cell_type": "code",
   "execution_count": 26,
   "metadata": {},
   "outputs": [
    {
     "data": {
      "text/plain": [
       "{'F', 'M'}"
      ]
     },
     "execution_count": 26,
     "metadata": {},
     "output_type": "execute_result"
    }
   ],
   "source": [
    "set(raw0['person_gender'])"
   ]
  },
  {
   "cell_type": "code",
   "execution_count": 27,
   "metadata": {},
   "outputs": [],
   "source": [
    "# replace \"person_gender\" with a dummy that is 1 if F, 0 otherwise\n",
    "raw0.person_gender = (raw0.person_gender == 'F')*1"
   ]
  },
  {
   "cell_type": "code",
   "execution_count": 28,
   "metadata": {},
   "outputs": [
    {
     "data": {
      "text/plain": [
       "{'F', 'M'}"
      ]
     },
     "execution_count": 28,
     "metadata": {},
     "output_type": "execute_result"
    }
   ],
   "source": [
    "set(raw0['sex_1'])"
   ]
  },
  {
   "cell_type": "code",
   "execution_count": 29,
   "metadata": {},
   "outputs": [],
   "source": [
    "# do the same for sex_1\n",
    "raw0['sex_1']= (raw0.sex_1 == 'F')*1"
   ]
  },
  {
   "cell_type": "code",
   "execution_count": 30,
   "metadata": {},
   "outputs": [
    {
     "data": {
      "text/html": [
       "<div>\n",
       "<style scoped>\n",
       "    .dataframe tbody tr th:only-of-type {\n",
       "        vertical-align: middle;\n",
       "    }\n",
       "\n",
       "    .dataframe tbody tr th {\n",
       "        vertical-align: top;\n",
       "    }\n",
       "\n",
       "    .dataframe thead th {\n",
       "        text-align: right;\n",
       "    }\n",
       "</style>\n",
       "<table border=\"1\" class=\"dataframe\">\n",
       "  <thead>\n",
       "    <tr style=\"text-align: right;\">\n",
       "      <th></th>\n",
       "      <th>date</th>\n",
       "      <th>census</th>\n",
       "      <th>person_gender</th>\n",
       "      <th>person_race</th>\n",
       "      <th>person_dob</th>\n",
       "      <th>traffic</th>\n",
       "      <th>frisk_search</th>\n",
       "      <th>arrest</th>\n",
       "      <th>male</th>\n",
       "      <th>offid</th>\n",
       "      <th>dob_1</th>\n",
       "      <th>race_1</th>\n",
       "      <th>sex_1</th>\n",
       "      <th>apptdate_1</th>\n",
       "      <th>blacktract</th>\n",
       "    </tr>\n",
       "  </thead>\n",
       "  <tbody>\n",
       "    <tr>\n",
       "      <th>0</th>\n",
       "      <td>2008-04-30</td>\n",
       "      <td>-2147483648</td>\n",
       "      <td>0</td>\n",
       "      <td>W</td>\n",
       "      <td>1981-06-13</td>\n",
       "      <td>1</td>\n",
       "      <td>0</td>\n",
       "      <td>0</td>\n",
       "      <td>1</td>\n",
       "      <td>1</td>\n",
       "      <td>1978-02-07</td>\n",
       "      <td>W</td>\n",
       "      <td>0</td>\n",
       "      <td>2005-07-25</td>\n",
       "      <td>1</td>\n",
       "    </tr>\n",
       "    <tr>\n",
       "      <th>1</th>\n",
       "      <td>2007-01-23</td>\n",
       "      <td>-2147483648</td>\n",
       "      <td>0</td>\n",
       "      <td>B</td>\n",
       "      <td>1960-03-27</td>\n",
       "      <td>1</td>\n",
       "      <td>0</td>\n",
       "      <td>0</td>\n",
       "      <td>1</td>\n",
       "      <td>1</td>\n",
       "      <td>1978-02-07</td>\n",
       "      <td>W</td>\n",
       "      <td>0</td>\n",
       "      <td>2005-07-25</td>\n",
       "      <td>1</td>\n",
       "    </tr>\n",
       "    <tr>\n",
       "      <th>2</th>\n",
       "      <td>2009-01-22</td>\n",
       "      <td>-2147483648</td>\n",
       "      <td>0</td>\n",
       "      <td>B</td>\n",
       "      <td>1968-10-20</td>\n",
       "      <td>1</td>\n",
       "      <td>0</td>\n",
       "      <td>0</td>\n",
       "      <td>1</td>\n",
       "      <td>1</td>\n",
       "      <td>1978-02-07</td>\n",
       "      <td>W</td>\n",
       "      <td>0</td>\n",
       "      <td>2005-07-25</td>\n",
       "      <td>1</td>\n",
       "    </tr>\n",
       "    <tr>\n",
       "      <th>3</th>\n",
       "      <td>2006-03-22</td>\n",
       "      <td>-2147483648</td>\n",
       "      <td>0</td>\n",
       "      <td>B</td>\n",
       "      <td>1982-09-18</td>\n",
       "      <td>1</td>\n",
       "      <td>0</td>\n",
       "      <td>0</td>\n",
       "      <td>1</td>\n",
       "      <td>1</td>\n",
       "      <td>1978-02-07</td>\n",
       "      <td>W</td>\n",
       "      <td>0</td>\n",
       "      <td>2005-07-25</td>\n",
       "      <td>1</td>\n",
       "    </tr>\n",
       "    <tr>\n",
       "      <th>4</th>\n",
       "      <td>2007-07-27</td>\n",
       "      <td>-2147483648</td>\n",
       "      <td>1</td>\n",
       "      <td>W</td>\n",
       "      <td>1981-08-30</td>\n",
       "      <td>1</td>\n",
       "      <td>0</td>\n",
       "      <td>0</td>\n",
       "      <td>0</td>\n",
       "      <td>1</td>\n",
       "      <td>1978-02-07</td>\n",
       "      <td>W</td>\n",
       "      <td>0</td>\n",
       "      <td>2005-07-25</td>\n",
       "      <td>1</td>\n",
       "    </tr>\n",
       "  </tbody>\n",
       "</table>\n",
       "</div>"
      ],
      "text/plain": [
       "         date      census  person_gender person_race  person_dob  traffic  \\\n",
       "0  2008-04-30 -2147483648              0           W  1981-06-13        1   \n",
       "1  2007-01-23 -2147483648              0           B  1960-03-27        1   \n",
       "2  2009-01-22 -2147483648              0           B  1968-10-20        1   \n",
       "3  2006-03-22 -2147483648              0           B  1982-09-18        1   \n",
       "4  2007-07-27 -2147483648              1           W  1981-08-30        1   \n",
       "\n",
       "   frisk_search  arrest  male  offid       dob_1 race_1  sex_1  apptdate_1  \\\n",
       "0             0       0     1      1  1978-02-07      W      0  2005-07-25   \n",
       "1             0       0     1      1  1978-02-07      W      0  2005-07-25   \n",
       "2             0       0     1      1  1978-02-07      W      0  2005-07-25   \n",
       "3             0       0     1      1  1978-02-07      W      0  2005-07-25   \n",
       "4             0       0     0      1  1978-02-07      W      0  2005-07-25   \n",
       "\n",
       "   blacktract  \n",
       "0           1  \n",
       "1           1  \n",
       "2           1  \n",
       "3           1  \n",
       "4           1  "
      ]
     },
     "execution_count": 30,
     "metadata": {},
     "output_type": "execute_result"
    }
   ],
   "source": [
    "raw0.head()"
   ]
  },
  {
   "cell_type": "markdown",
   "metadata": {},
   "source": [
    "### <font color='red'> In-Class Exercise 2: Creating a set of dummies for person's race\n",
    "\n",
    "* we want to create two dummies\n",
    "    - First dummy that is 1 if driver is B, 0 otherwise\n",
    "    - Second dummy that is 1 if driver is A or I or O or U (W is a baseline group)"
   ]
  },
  {
   "cell_type": "code",
   "execution_count": 31,
   "metadata": {},
   "outputs": [],
   "source": [
    "# check a list of unque elements in person_race and create/add a dummy, D_B, to data\n",
    "# there are many other ways to add new columns to data in Panda (see https://www.geeksforgeeks.org/adding-new-column-to-existing-dataframe-in-pandas/)\n",
    "\n",
    "raw0['D_B'] = (raw0.person_race == 'B')*1"
   ]
  },
  {
   "cell_type": "code",
   "execution_count": 32,
   "metadata": {},
   "outputs": [
    {
     "data": {
      "text/plain": [
       "{'A', 'B', 'I', 'O', 'U', 'W'}"
      ]
     },
     "execution_count": 32,
     "metadata": {},
     "output_type": "execute_result"
    }
   ],
   "source": [
    "# Theoretically we can create 6 dummies\n",
    "set(raw0['person_race'])"
   ]
  },
  {
   "cell_type": "code",
   "execution_count": 33,
   "metadata": {},
   "outputs": [
    {
     "data": {
      "text/html": [
       "<div>\n",
       "<style scoped>\n",
       "    .dataframe tbody tr th:only-of-type {\n",
       "        vertical-align: middle;\n",
       "    }\n",
       "\n",
       "    .dataframe tbody tr th {\n",
       "        vertical-align: top;\n",
       "    }\n",
       "\n",
       "    .dataframe thead th {\n",
       "        text-align: right;\n",
       "    }\n",
       "</style>\n",
       "<table border=\"1\" class=\"dataframe\">\n",
       "  <thead>\n",
       "    <tr style=\"text-align: right;\">\n",
       "      <th></th>\n",
       "      <th>date</th>\n",
       "      <th>census</th>\n",
       "      <th>person_gender</th>\n",
       "      <th>person_race</th>\n",
       "      <th>person_dob</th>\n",
       "      <th>traffic</th>\n",
       "      <th>frisk_search</th>\n",
       "      <th>arrest</th>\n",
       "      <th>male</th>\n",
       "      <th>offid</th>\n",
       "      <th>dob_1</th>\n",
       "      <th>race_1</th>\n",
       "      <th>sex_1</th>\n",
       "      <th>apptdate_1</th>\n",
       "      <th>blacktract</th>\n",
       "      <th>D_B</th>\n",
       "    </tr>\n",
       "  </thead>\n",
       "  <tbody>\n",
       "    <tr>\n",
       "      <th>0</th>\n",
       "      <td>2008-04-30</td>\n",
       "      <td>-2147483648</td>\n",
       "      <td>0</td>\n",
       "      <td>W</td>\n",
       "      <td>1981-06-13</td>\n",
       "      <td>1</td>\n",
       "      <td>0</td>\n",
       "      <td>0</td>\n",
       "      <td>1</td>\n",
       "      <td>1</td>\n",
       "      <td>1978-02-07</td>\n",
       "      <td>W</td>\n",
       "      <td>0</td>\n",
       "      <td>2005-07-25</td>\n",
       "      <td>1</td>\n",
       "      <td>0</td>\n",
       "    </tr>\n",
       "    <tr>\n",
       "      <th>1</th>\n",
       "      <td>2007-01-23</td>\n",
       "      <td>-2147483648</td>\n",
       "      <td>0</td>\n",
       "      <td>B</td>\n",
       "      <td>1960-03-27</td>\n",
       "      <td>1</td>\n",
       "      <td>0</td>\n",
       "      <td>0</td>\n",
       "      <td>1</td>\n",
       "      <td>1</td>\n",
       "      <td>1978-02-07</td>\n",
       "      <td>W</td>\n",
       "      <td>0</td>\n",
       "      <td>2005-07-25</td>\n",
       "      <td>1</td>\n",
       "      <td>1</td>\n",
       "    </tr>\n",
       "    <tr>\n",
       "      <th>2</th>\n",
       "      <td>2009-01-22</td>\n",
       "      <td>-2147483648</td>\n",
       "      <td>0</td>\n",
       "      <td>B</td>\n",
       "      <td>1968-10-20</td>\n",
       "      <td>1</td>\n",
       "      <td>0</td>\n",
       "      <td>0</td>\n",
       "      <td>1</td>\n",
       "      <td>1</td>\n",
       "      <td>1978-02-07</td>\n",
       "      <td>W</td>\n",
       "      <td>0</td>\n",
       "      <td>2005-07-25</td>\n",
       "      <td>1</td>\n",
       "      <td>1</td>\n",
       "    </tr>\n",
       "    <tr>\n",
       "      <th>3</th>\n",
       "      <td>2006-03-22</td>\n",
       "      <td>-2147483648</td>\n",
       "      <td>0</td>\n",
       "      <td>B</td>\n",
       "      <td>1982-09-18</td>\n",
       "      <td>1</td>\n",
       "      <td>0</td>\n",
       "      <td>0</td>\n",
       "      <td>1</td>\n",
       "      <td>1</td>\n",
       "      <td>1978-02-07</td>\n",
       "      <td>W</td>\n",
       "      <td>0</td>\n",
       "      <td>2005-07-25</td>\n",
       "      <td>1</td>\n",
       "      <td>1</td>\n",
       "    </tr>\n",
       "    <tr>\n",
       "      <th>4</th>\n",
       "      <td>2007-07-27</td>\n",
       "      <td>-2147483648</td>\n",
       "      <td>1</td>\n",
       "      <td>W</td>\n",
       "      <td>1981-08-30</td>\n",
       "      <td>1</td>\n",
       "      <td>0</td>\n",
       "      <td>0</td>\n",
       "      <td>0</td>\n",
       "      <td>1</td>\n",
       "      <td>1978-02-07</td>\n",
       "      <td>W</td>\n",
       "      <td>0</td>\n",
       "      <td>2005-07-25</td>\n",
       "      <td>1</td>\n",
       "      <td>0</td>\n",
       "    </tr>\n",
       "  </tbody>\n",
       "</table>\n",
       "</div>"
      ],
      "text/plain": [
       "         date      census  person_gender person_race  person_dob  traffic  \\\n",
       "0  2008-04-30 -2147483648              0           W  1981-06-13        1   \n",
       "1  2007-01-23 -2147483648              0           B  1960-03-27        1   \n",
       "2  2009-01-22 -2147483648              0           B  1968-10-20        1   \n",
       "3  2006-03-22 -2147483648              0           B  1982-09-18        1   \n",
       "4  2007-07-27 -2147483648              1           W  1981-08-30        1   \n",
       "\n",
       "   frisk_search  arrest  male  offid       dob_1 race_1  sex_1  apptdate_1  \\\n",
       "0             0       0     1      1  1978-02-07      W      0  2005-07-25   \n",
       "1             0       0     1      1  1978-02-07      W      0  2005-07-25   \n",
       "2             0       0     1      1  1978-02-07      W      0  2005-07-25   \n",
       "3             0       0     1      1  1978-02-07      W      0  2005-07-25   \n",
       "4             0       0     0      1  1978-02-07      W      0  2005-07-25   \n",
       "\n",
       "   blacktract  D_B  \n",
       "0           1    0  \n",
       "1           1    1  \n",
       "2           1    1  \n",
       "3           1    1  \n",
       "4           1    0  "
      ]
     },
     "execution_count": 33,
     "metadata": {},
     "output_type": "execute_result"
    }
   ],
   "source": [
    "raw0.head()"
   ]
  },
  {
   "cell_type": "code",
   "execution_count": 34,
   "metadata": {},
   "outputs": [],
   "source": [
    "# do the same for the other dummy\n",
    "raw0['D_Other']  = ((raw0.person_race == 'A')|(raw0.person_race == 'I')|(raw0.person_race == 'O')|(raw0.person_race == 'U'))*1\n"
   ]
  },
  {
   "cell_type": "code",
   "execution_count": 35,
   "metadata": {},
   "outputs": [
    {
     "data": {
      "text/html": [
       "<div>\n",
       "<style scoped>\n",
       "    .dataframe tbody tr th:only-of-type {\n",
       "        vertical-align: middle;\n",
       "    }\n",
       "\n",
       "    .dataframe tbody tr th {\n",
       "        vertical-align: top;\n",
       "    }\n",
       "\n",
       "    .dataframe thead th {\n",
       "        text-align: right;\n",
       "    }\n",
       "</style>\n",
       "<table border=\"1\" class=\"dataframe\">\n",
       "  <thead>\n",
       "    <tr style=\"text-align: right;\">\n",
       "      <th></th>\n",
       "      <th>date</th>\n",
       "      <th>census</th>\n",
       "      <th>person_gender</th>\n",
       "      <th>person_race</th>\n",
       "      <th>person_dob</th>\n",
       "      <th>traffic</th>\n",
       "      <th>frisk_search</th>\n",
       "      <th>arrest</th>\n",
       "      <th>male</th>\n",
       "      <th>offid</th>\n",
       "      <th>dob_1</th>\n",
       "      <th>race_1</th>\n",
       "      <th>sex_1</th>\n",
       "      <th>apptdate_1</th>\n",
       "      <th>blacktract</th>\n",
       "      <th>D_B</th>\n",
       "      <th>D_Other</th>\n",
       "    </tr>\n",
       "  </thead>\n",
       "  <tbody>\n",
       "    <tr>\n",
       "      <th>0</th>\n",
       "      <td>2008-04-30</td>\n",
       "      <td>-2147483648</td>\n",
       "      <td>0</td>\n",
       "      <td>W</td>\n",
       "      <td>1981-06-13</td>\n",
       "      <td>1</td>\n",
       "      <td>0</td>\n",
       "      <td>0</td>\n",
       "      <td>1</td>\n",
       "      <td>1</td>\n",
       "      <td>1978-02-07</td>\n",
       "      <td>W</td>\n",
       "      <td>0</td>\n",
       "      <td>2005-07-25</td>\n",
       "      <td>1</td>\n",
       "      <td>0</td>\n",
       "      <td>0</td>\n",
       "    </tr>\n",
       "    <tr>\n",
       "      <th>1</th>\n",
       "      <td>2007-01-23</td>\n",
       "      <td>-2147483648</td>\n",
       "      <td>0</td>\n",
       "      <td>B</td>\n",
       "      <td>1960-03-27</td>\n",
       "      <td>1</td>\n",
       "      <td>0</td>\n",
       "      <td>0</td>\n",
       "      <td>1</td>\n",
       "      <td>1</td>\n",
       "      <td>1978-02-07</td>\n",
       "      <td>W</td>\n",
       "      <td>0</td>\n",
       "      <td>2005-07-25</td>\n",
       "      <td>1</td>\n",
       "      <td>1</td>\n",
       "      <td>0</td>\n",
       "    </tr>\n",
       "    <tr>\n",
       "      <th>2</th>\n",
       "      <td>2009-01-22</td>\n",
       "      <td>-2147483648</td>\n",
       "      <td>0</td>\n",
       "      <td>B</td>\n",
       "      <td>1968-10-20</td>\n",
       "      <td>1</td>\n",
       "      <td>0</td>\n",
       "      <td>0</td>\n",
       "      <td>1</td>\n",
       "      <td>1</td>\n",
       "      <td>1978-02-07</td>\n",
       "      <td>W</td>\n",
       "      <td>0</td>\n",
       "      <td>2005-07-25</td>\n",
       "      <td>1</td>\n",
       "      <td>1</td>\n",
       "      <td>0</td>\n",
       "    </tr>\n",
       "    <tr>\n",
       "      <th>3</th>\n",
       "      <td>2006-03-22</td>\n",
       "      <td>-2147483648</td>\n",
       "      <td>0</td>\n",
       "      <td>B</td>\n",
       "      <td>1982-09-18</td>\n",
       "      <td>1</td>\n",
       "      <td>0</td>\n",
       "      <td>0</td>\n",
       "      <td>1</td>\n",
       "      <td>1</td>\n",
       "      <td>1978-02-07</td>\n",
       "      <td>W</td>\n",
       "      <td>0</td>\n",
       "      <td>2005-07-25</td>\n",
       "      <td>1</td>\n",
       "      <td>1</td>\n",
       "      <td>0</td>\n",
       "    </tr>\n",
       "    <tr>\n",
       "      <th>4</th>\n",
       "      <td>2007-07-27</td>\n",
       "      <td>-2147483648</td>\n",
       "      <td>1</td>\n",
       "      <td>W</td>\n",
       "      <td>1981-08-30</td>\n",
       "      <td>1</td>\n",
       "      <td>0</td>\n",
       "      <td>0</td>\n",
       "      <td>0</td>\n",
       "      <td>1</td>\n",
       "      <td>1978-02-07</td>\n",
       "      <td>W</td>\n",
       "      <td>0</td>\n",
       "      <td>2005-07-25</td>\n",
       "      <td>1</td>\n",
       "      <td>0</td>\n",
       "      <td>0</td>\n",
       "    </tr>\n",
       "  </tbody>\n",
       "</table>\n",
       "</div>"
      ],
      "text/plain": [
       "         date      census  person_gender person_race  person_dob  traffic  \\\n",
       "0  2008-04-30 -2147483648              0           W  1981-06-13        1   \n",
       "1  2007-01-23 -2147483648              0           B  1960-03-27        1   \n",
       "2  2009-01-22 -2147483648              0           B  1968-10-20        1   \n",
       "3  2006-03-22 -2147483648              0           B  1982-09-18        1   \n",
       "4  2007-07-27 -2147483648              1           W  1981-08-30        1   \n",
       "\n",
       "   frisk_search  arrest  male  offid       dob_1 race_1  sex_1  apptdate_1  \\\n",
       "0             0       0     1      1  1978-02-07      W      0  2005-07-25   \n",
       "1             0       0     1      1  1978-02-07      W      0  2005-07-25   \n",
       "2             0       0     1      1  1978-02-07      W      0  2005-07-25   \n",
       "3             0       0     1      1  1978-02-07      W      0  2005-07-25   \n",
       "4             0       0     0      1  1978-02-07      W      0  2005-07-25   \n",
       "\n",
       "   blacktract  D_B  D_Other  \n",
       "0           1    0        0  \n",
       "1           1    1        0  \n",
       "2           1    1        0  \n",
       "3           1    1        0  \n",
       "4           1    0        0  "
      ]
     },
     "execution_count": 35,
     "metadata": {},
     "output_type": "execute_result"
    }
   ],
   "source": [
    "raw0.head()"
   ]
  },
  {
   "cell_type": "markdown",
   "metadata": {},
   "source": [
    "### <font color='red'> In-Class Exercise 3: creating age variable for driver\n",
    "\n",
    "* Definition of age: age = date(string, yyyy-mm-dd) -person_dob(string, yyyy-mm-dd)"
   ]
  },
  {
   "cell_type": "code",
   "execution_count": 40,
   "metadata": {},
   "outputs": [
    {
     "data": {
      "text/plain": [
       "27"
      ]
     },
     "execution_count": 40,
     "metadata": {},
     "output_type": "execute_result"
    }
   ],
   "source": [
    "# [Step 1]\n",
    "# access the years in \"person_dob\" and \"date\" and store them in \"dyear\" and \"byear\"\n",
    "# covert the strings to integers and calculate the difference\n",
    "dyear=raw0['date'][0][:4]\n",
    "byear=raw0['person_dob'][0][:4]\n",
    "dyearn = int(dyear)\n",
    "byearn = int(byear)\n",
    "age = dyearn - byearn\n",
    "age"
   ]
  },
  {
   "cell_type": "code",
   "execution_count": 41,
   "metadata": {},
   "outputs": [
    {
     "data": {
      "text/plain": [
       "26"
      ]
     },
     "execution_count": 41,
     "metadata": {},
     "output_type": "execute_result"
    }
   ],
   "source": [
    "# [Step 2]\n",
    "# access the months in \"person_dob\" and \"date\" and store them in \"dmon\" and \"bmon\"\n",
    "# covert the strings to integers and calculate the difference\n",
    "# if the difference in month is negative, then subtract one from age\n",
    "dmon=raw0['date'][0][5:7]\n",
    "bmon=raw0['person_dob'][0][5:7]\n",
    "dmonn = int(dmon)\n",
    "bmonn = int(bmon)\n",
    "mond = dmonn - bmonn\n",
    "if mond < 0:\n",
    "    age = age -1\n",
    "age"
   ]
  },
  {
   "cell_type": "markdown",
   "metadata": {},
   "source": [
    "### <font color='green'> For-Loops in Python\n",
    "https://www.w3schools.com/python/python_for_loops.asp\n",
    "    \n",
    "### <font color='green'> If statements in Python\n",
    "https://www.w3schools.com/python/python_conditions.asp\n"
   ]
  },
  {
   "cell_type": "code",
   "execution_count": 36,
   "metadata": {},
   "outputs": [],
   "source": [
    "# use a loop to repeat this for all the observations\n",
    "# np.zeros - vector of zeros\n",
    "# len(raw0) - specify the length of vectors - rows\n",
    "# ,) - specify column but this is 1\n",
    "\n",
    "D_age = np.zeros((len(raw0),),dtype=int)\n",
    "for i in range(0,len(raw0)):\n",
    "    age=int(raw0.iloc[i,0][:4]) - int(raw0.iloc[i,4][:4])\n",
    "    mond=int(raw0.iloc[i,0][5:7]) - int(raw0.iloc[i,4][5:7])\n",
    "    if mond < 0:\n",
    "        age = age -1\n",
    "    D_age[i]=age"
   ]
  },
  {
   "cell_type": "code",
   "execution_count": 37,
   "metadata": {},
   "outputs": [],
   "source": [
    "# add it to raw0\n",
    "raw0['D_age'] = D_age"
   ]
  },
  {
   "cell_type": "code",
   "execution_count": 38,
   "metadata": {},
   "outputs": [
    {
     "data": {
      "text/html": [
       "<div>\n",
       "<style scoped>\n",
       "    .dataframe tbody tr th:only-of-type {\n",
       "        vertical-align: middle;\n",
       "    }\n",
       "\n",
       "    .dataframe tbody tr th {\n",
       "        vertical-align: top;\n",
       "    }\n",
       "\n",
       "    .dataframe thead th {\n",
       "        text-align: right;\n",
       "    }\n",
       "</style>\n",
       "<table border=\"1\" class=\"dataframe\">\n",
       "  <thead>\n",
       "    <tr style=\"text-align: right;\">\n",
       "      <th></th>\n",
       "      <th>date</th>\n",
       "      <th>census</th>\n",
       "      <th>person_gender</th>\n",
       "      <th>person_race</th>\n",
       "      <th>person_dob</th>\n",
       "      <th>traffic</th>\n",
       "      <th>frisk_search</th>\n",
       "      <th>arrest</th>\n",
       "      <th>male</th>\n",
       "      <th>offid</th>\n",
       "      <th>dob_1</th>\n",
       "      <th>race_1</th>\n",
       "      <th>sex_1</th>\n",
       "      <th>apptdate_1</th>\n",
       "      <th>blacktract</th>\n",
       "      <th>D_B</th>\n",
       "      <th>D_Other</th>\n",
       "      <th>D_age</th>\n",
       "    </tr>\n",
       "  </thead>\n",
       "  <tbody>\n",
       "    <tr>\n",
       "      <th>0</th>\n",
       "      <td>2008-04-30</td>\n",
       "      <td>-2147483648</td>\n",
       "      <td>0</td>\n",
       "      <td>W</td>\n",
       "      <td>1981-06-13</td>\n",
       "      <td>1</td>\n",
       "      <td>0</td>\n",
       "      <td>0</td>\n",
       "      <td>1</td>\n",
       "      <td>1</td>\n",
       "      <td>1978-02-07</td>\n",
       "      <td>W</td>\n",
       "      <td>0</td>\n",
       "      <td>2005-07-25</td>\n",
       "      <td>1</td>\n",
       "      <td>0</td>\n",
       "      <td>0</td>\n",
       "      <td>26</td>\n",
       "    </tr>\n",
       "    <tr>\n",
       "      <th>1</th>\n",
       "      <td>2007-01-23</td>\n",
       "      <td>-2147483648</td>\n",
       "      <td>0</td>\n",
       "      <td>B</td>\n",
       "      <td>1960-03-27</td>\n",
       "      <td>1</td>\n",
       "      <td>0</td>\n",
       "      <td>0</td>\n",
       "      <td>1</td>\n",
       "      <td>1</td>\n",
       "      <td>1978-02-07</td>\n",
       "      <td>W</td>\n",
       "      <td>0</td>\n",
       "      <td>2005-07-25</td>\n",
       "      <td>1</td>\n",
       "      <td>1</td>\n",
       "      <td>0</td>\n",
       "      <td>46</td>\n",
       "    </tr>\n",
       "    <tr>\n",
       "      <th>2</th>\n",
       "      <td>2009-01-22</td>\n",
       "      <td>-2147483648</td>\n",
       "      <td>0</td>\n",
       "      <td>B</td>\n",
       "      <td>1968-10-20</td>\n",
       "      <td>1</td>\n",
       "      <td>0</td>\n",
       "      <td>0</td>\n",
       "      <td>1</td>\n",
       "      <td>1</td>\n",
       "      <td>1978-02-07</td>\n",
       "      <td>W</td>\n",
       "      <td>0</td>\n",
       "      <td>2005-07-25</td>\n",
       "      <td>1</td>\n",
       "      <td>1</td>\n",
       "      <td>0</td>\n",
       "      <td>40</td>\n",
       "    </tr>\n",
       "    <tr>\n",
       "      <th>3</th>\n",
       "      <td>2006-03-22</td>\n",
       "      <td>-2147483648</td>\n",
       "      <td>0</td>\n",
       "      <td>B</td>\n",
       "      <td>1982-09-18</td>\n",
       "      <td>1</td>\n",
       "      <td>0</td>\n",
       "      <td>0</td>\n",
       "      <td>1</td>\n",
       "      <td>1</td>\n",
       "      <td>1978-02-07</td>\n",
       "      <td>W</td>\n",
       "      <td>0</td>\n",
       "      <td>2005-07-25</td>\n",
       "      <td>1</td>\n",
       "      <td>1</td>\n",
       "      <td>0</td>\n",
       "      <td>23</td>\n",
       "    </tr>\n",
       "    <tr>\n",
       "      <th>4</th>\n",
       "      <td>2007-07-27</td>\n",
       "      <td>-2147483648</td>\n",
       "      <td>1</td>\n",
       "      <td>W</td>\n",
       "      <td>1981-08-30</td>\n",
       "      <td>1</td>\n",
       "      <td>0</td>\n",
       "      <td>0</td>\n",
       "      <td>0</td>\n",
       "      <td>1</td>\n",
       "      <td>1978-02-07</td>\n",
       "      <td>W</td>\n",
       "      <td>0</td>\n",
       "      <td>2005-07-25</td>\n",
       "      <td>1</td>\n",
       "      <td>0</td>\n",
       "      <td>0</td>\n",
       "      <td>25</td>\n",
       "    </tr>\n",
       "  </tbody>\n",
       "</table>\n",
       "</div>"
      ],
      "text/plain": [
       "         date      census  person_gender person_race  person_dob  traffic  \\\n",
       "0  2008-04-30 -2147483648              0           W  1981-06-13        1   \n",
       "1  2007-01-23 -2147483648              0           B  1960-03-27        1   \n",
       "2  2009-01-22 -2147483648              0           B  1968-10-20        1   \n",
       "3  2006-03-22 -2147483648              0           B  1982-09-18        1   \n",
       "4  2007-07-27 -2147483648              1           W  1981-08-30        1   \n",
       "\n",
       "   frisk_search  arrest  male  offid       dob_1 race_1  sex_1  apptdate_1  \\\n",
       "0             0       0     1      1  1978-02-07      W      0  2005-07-25   \n",
       "1             0       0     1      1  1978-02-07      W      0  2005-07-25   \n",
       "2             0       0     1      1  1978-02-07      W      0  2005-07-25   \n",
       "3             0       0     1      1  1978-02-07      W      0  2005-07-25   \n",
       "4             0       0     0      1  1978-02-07      W      0  2005-07-25   \n",
       "\n",
       "   blacktract  D_B  D_Other  D_age  \n",
       "0           1    0        0     26  \n",
       "1           1    1        0     46  \n",
       "2           1    1        0     40  \n",
       "3           1    1        0     23  \n",
       "4           1    0        0     25  "
      ]
     },
     "execution_count": 38,
     "metadata": {},
     "output_type": "execute_result"
    }
   ],
   "source": [
    "raw0.head()"
   ]
  },
  {
   "cell_type": "markdown",
   "metadata": {},
   "source": [
    "### <font color='darkred'> HW1: Similarly as we have done for D_age,\n",
    "1. create an age variable for officer: O_age\n",
    "2. create a tenure variable for officer: Exp, which is defined as exp = date - apptdate_1\n",
    "3. Append the two variables to raw0"
   ]
  },
  {
   "cell_type": "code",
   "execution_count": 45,
   "metadata": {},
   "outputs": [],
   "source": [
    "# Find officer age\n",
    "O_age = np.zeros((len(raw0),),dtype=int)\n",
    "for i in range(0,len(raw0)):\n",
    "    age=int(raw0.iloc[i,0][:4]) - int(raw0.iloc[i,10][:4])\n",
    "    mond=int(raw0.iloc[i,0][5:7]) - int(raw0.iloc[i,10][5:7])\n",
    "    if mond < 0:\n",
    "        age = age -1\n",
    "    O_age[i]=age"
   ]
  },
  {
   "cell_type": "code",
   "execution_count": 48,
   "metadata": {},
   "outputs": [],
   "source": [
    "# Find officer tenure\n",
    "# must use iloc because it uses updated row number\n",
    "O_tenure = np.zeros((len(raw0),),dtype=int)\n",
    "for i in range(0,len(raw0)):\n",
    "    tenure =int(raw0.iloc[i,0][:4]) - int(raw0.iloc[i,13][:4])\n",
    "    mont =int(raw0.iloc[i,0][5:7]) - int(raw0.iloc[i,13][5:7])\n",
    "    if mont < 0:\n",
    "        tenure = tenure -1\n",
    "    O_tenure[i]=tenure"
   ]
  },
  {
   "cell_type": "code",
   "execution_count": 46,
   "metadata": {},
   "outputs": [],
   "source": [
    "raw0['O_age'] = O_age"
   ]
  },
  {
   "cell_type": "code",
   "execution_count": 50,
   "metadata": {},
   "outputs": [],
   "source": [
    "raw0['O_tenure'] = O_tenure"
   ]
  },
  {
   "cell_type": "code",
   "execution_count": 51,
   "metadata": {},
   "outputs": [
    {
     "data": {
      "text/html": [
       "<div>\n",
       "<style scoped>\n",
       "    .dataframe tbody tr th:only-of-type {\n",
       "        vertical-align: middle;\n",
       "    }\n",
       "\n",
       "    .dataframe tbody tr th {\n",
       "        vertical-align: top;\n",
       "    }\n",
       "\n",
       "    .dataframe thead th {\n",
       "        text-align: right;\n",
       "    }\n",
       "</style>\n",
       "<table border=\"1\" class=\"dataframe\">\n",
       "  <thead>\n",
       "    <tr style=\"text-align: right;\">\n",
       "      <th></th>\n",
       "      <th>date</th>\n",
       "      <th>census</th>\n",
       "      <th>person_gender</th>\n",
       "      <th>person_race</th>\n",
       "      <th>person_dob</th>\n",
       "      <th>traffic</th>\n",
       "      <th>frisk_search</th>\n",
       "      <th>arrest</th>\n",
       "      <th>male</th>\n",
       "      <th>offid</th>\n",
       "      <th>dob_1</th>\n",
       "      <th>race_1</th>\n",
       "      <th>sex_1</th>\n",
       "      <th>apptdate_1</th>\n",
       "      <th>blacktract</th>\n",
       "      <th>D_age</th>\n",
       "      <th>O_age</th>\n",
       "      <th>O_tenure</th>\n",
       "    </tr>\n",
       "  </thead>\n",
       "  <tbody>\n",
       "    <tr>\n",
       "      <th>0</th>\n",
       "      <td>2008-04-30</td>\n",
       "      <td>-2147483648</td>\n",
       "      <td>0</td>\n",
       "      <td>W</td>\n",
       "      <td>1981-06-13</td>\n",
       "      <td>1</td>\n",
       "      <td>0</td>\n",
       "      <td>0</td>\n",
       "      <td>1</td>\n",
       "      <td>1</td>\n",
       "      <td>1978-02-07</td>\n",
       "      <td>W</td>\n",
       "      <td>0</td>\n",
       "      <td>2005-07-25</td>\n",
       "      <td>1</td>\n",
       "      <td>26</td>\n",
       "      <td>30</td>\n",
       "      <td>2</td>\n",
       "    </tr>\n",
       "    <tr>\n",
       "      <th>1</th>\n",
       "      <td>2007-01-23</td>\n",
       "      <td>-2147483648</td>\n",
       "      <td>0</td>\n",
       "      <td>B</td>\n",
       "      <td>1960-03-27</td>\n",
       "      <td>1</td>\n",
       "      <td>0</td>\n",
       "      <td>0</td>\n",
       "      <td>1</td>\n",
       "      <td>1</td>\n",
       "      <td>1978-02-07</td>\n",
       "      <td>W</td>\n",
       "      <td>0</td>\n",
       "      <td>2005-07-25</td>\n",
       "      <td>1</td>\n",
       "      <td>46</td>\n",
       "      <td>28</td>\n",
       "      <td>1</td>\n",
       "    </tr>\n",
       "    <tr>\n",
       "      <th>2</th>\n",
       "      <td>2009-01-22</td>\n",
       "      <td>-2147483648</td>\n",
       "      <td>0</td>\n",
       "      <td>B</td>\n",
       "      <td>1968-10-20</td>\n",
       "      <td>1</td>\n",
       "      <td>0</td>\n",
       "      <td>0</td>\n",
       "      <td>1</td>\n",
       "      <td>1</td>\n",
       "      <td>1978-02-07</td>\n",
       "      <td>W</td>\n",
       "      <td>0</td>\n",
       "      <td>2005-07-25</td>\n",
       "      <td>1</td>\n",
       "      <td>40</td>\n",
       "      <td>30</td>\n",
       "      <td>3</td>\n",
       "    </tr>\n",
       "    <tr>\n",
       "      <th>3</th>\n",
       "      <td>2006-03-22</td>\n",
       "      <td>-2147483648</td>\n",
       "      <td>0</td>\n",
       "      <td>B</td>\n",
       "      <td>1982-09-18</td>\n",
       "      <td>1</td>\n",
       "      <td>0</td>\n",
       "      <td>0</td>\n",
       "      <td>1</td>\n",
       "      <td>1</td>\n",
       "      <td>1978-02-07</td>\n",
       "      <td>W</td>\n",
       "      <td>0</td>\n",
       "      <td>2005-07-25</td>\n",
       "      <td>1</td>\n",
       "      <td>23</td>\n",
       "      <td>28</td>\n",
       "      <td>0</td>\n",
       "    </tr>\n",
       "    <tr>\n",
       "      <th>4</th>\n",
       "      <td>2007-07-27</td>\n",
       "      <td>-2147483648</td>\n",
       "      <td>1</td>\n",
       "      <td>W</td>\n",
       "      <td>1981-08-30</td>\n",
       "      <td>1</td>\n",
       "      <td>0</td>\n",
       "      <td>0</td>\n",
       "      <td>0</td>\n",
       "      <td>1</td>\n",
       "      <td>1978-02-07</td>\n",
       "      <td>W</td>\n",
       "      <td>0</td>\n",
       "      <td>2005-07-25</td>\n",
       "      <td>1</td>\n",
       "      <td>25</td>\n",
       "      <td>29</td>\n",
       "      <td>2</td>\n",
       "    </tr>\n",
       "  </tbody>\n",
       "</table>\n",
       "</div>"
      ],
      "text/plain": [
       "         date      census  person_gender person_race  person_dob  traffic  \\\n",
       "0  2008-04-30 -2147483648              0           W  1981-06-13        1   \n",
       "1  2007-01-23 -2147483648              0           B  1960-03-27        1   \n",
       "2  2009-01-22 -2147483648              0           B  1968-10-20        1   \n",
       "3  2006-03-22 -2147483648              0           B  1982-09-18        1   \n",
       "4  2007-07-27 -2147483648              1           W  1981-08-30        1   \n",
       "\n",
       "   frisk_search  arrest  male  offid       dob_1 race_1  sex_1  apptdate_1  \\\n",
       "0             0       0     1      1  1978-02-07      W      0  2005-07-25   \n",
       "1             0       0     1      1  1978-02-07      W      0  2005-07-25   \n",
       "2             0       0     1      1  1978-02-07      W      0  2005-07-25   \n",
       "3             0       0     1      1  1978-02-07      W      0  2005-07-25   \n",
       "4             0       0     0      1  1978-02-07      W      0  2005-07-25   \n",
       "\n",
       "   blacktract  D_age  O_age  O_tenure  \n",
       "0           1     26     30         2  \n",
       "1           1     46     28         1  \n",
       "2           1     40     30         3  \n",
       "3           1     23     28         0  \n",
       "4           1     25     29         2  "
      ]
     },
     "execution_count": 51,
     "metadata": {},
     "output_type": "execute_result"
    }
   ],
   "source": [
    "raw0.head()"
   ]
  },
  {
   "cell_type": "code",
   "execution_count": null,
   "metadata": {},
   "outputs": [],
   "source": []
  }
 ],
 "metadata": {
  "kernelspec": {
   "display_name": "Python 3",
   "language": "python",
   "name": "python3"
  },
  "language_info": {
   "codemirror_mode": {
    "name": "ipython",
    "version": 3
   },
   "file_extension": ".py",
   "mimetype": "text/x-python",
   "name": "python",
   "nbconvert_exporter": "python",
   "pygments_lexer": "ipython3",
   "version": "3.8.8"
  }
 },
 "nbformat": 4,
 "nbformat_minor": 2
}
