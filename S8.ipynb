{
 "cells": [
  {
   "cell_type": "markdown",
   "metadata": {},
   "source": [
    "## <font color='green'> Application of Random Forest and Boosted Trees to the Classification of Web Documents\n",
    "* Introduction of ensemble methods in python: https://scikit-learn.org/stable/modules/ensemble.html#ensemble"
   ]
  },
  {
   "cell_type": "code",
   "execution_count": 1,
   "metadata": {},
   "outputs": [],
   "source": [
    "import os\n",
    "os.chdir('')\n",
    "\n",
    "import numpy as np\n",
    "import pandas as pd\n",
    "import math\n",
    "\n",
    "# Data Preparation: 20 news group data\n",
    "from sklearn.datasets import fetch_20newsgroups\n",
    "from sklearn.feature_extraction.text import TfidfVectorizer \n",
    "\n",
    "categories = ['alt.atheism',\n",
    "        'talk.religion.misc',\n",
    "        'comp.graphics',\n",
    "        'sci.space']\n",
    "\n",
    "remove = ('headers', 'footers', 'quotes')\n",
    "\n",
    "data_train = fetch_20newsgroups(subset='train', categories=categories, remove=remove, shuffle=True, random_state=42)\n",
    "data_test = fetch_20newsgroups(subset='test', categories=categories, remove=remove, shuffle=True, random_state=42)\n",
    "\n",
    "Y_train, Y_test = data_train.target, data_test.target\n",
    "\n",
    "X_train = data_train.data\n",
    "X_test = data_test.data\n",
    "\n",
    "vectorizer = TfidfVectorizer(stop_words='english')\n",
    "\n",
    "X_train = vectorizer.fit_transform(X_train) \n",
    "X_test = vectorizer.transform(X_test)\n",
    "\n",
    "# number of columns/ covariates\n",
    "n_features = X_train.shape[1]"
   ]
  },
  {
   "cell_type": "code",
   "execution_count": 2,
   "metadata": {},
   "outputs": [
    {
     "data": {
      "text/plain": [
       "['alt.atheism', 'comp.graphics', 'sci.space', 'talk.religion.misc']"
      ]
     },
     "execution_count": 2,
     "metadata": {},
     "output_type": "execute_result"
    }
   ],
   "source": [
    "data_test.target_names"
   ]
  },
  {
   "cell_type": "markdown",
   "metadata": {},
   "source": [
    "### <font color='green'> 1) Random Forests\n",
    "* https://scikit-learn.org/stable/modules/generated/sklearn.ensemble.RandomForestClassifier.html"
   ]
  },
  {
   "cell_type": "code",
   "execution_count": 3,
   "metadata": {},
   "outputs": [
    {
     "name": "stdout",
     "output_type": "stream",
     "text": [
      "0.7235772357723578\n",
      "              precision    recall  f1-score   support\n",
      "\n",
      "           0       0.60      0.63      0.61       319\n",
      "           1       0.82      0.88      0.85       389\n",
      "           2       0.74      0.83      0.78       394\n",
      "           3       0.69      0.43      0.53       251\n",
      "\n",
      "    accuracy                           0.72      1353\n",
      "   macro avg       0.71      0.69      0.69      1353\n",
      "weighted avg       0.72      0.72      0.71      1353\n",
      "\n"
     ]
    }
   ],
   "source": [
    "from sklearn.ensemble import RandomForestClassifier\n",
    "from sklearn.metrics import classification_report\n",
    "\n",
    "# RandomForestRegressor for continuous \n",
    "# min sample split - how large the tree can grow - go to the pure split\n",
    "# Max_features makes it a random forest\n",
    "RF = RandomForestClassifier(n_estimators=1000, min_samples_split = 2, max_features = math.floor(math.sqrt(n_features)))\n",
    "\n",
    "RFres= RF.fit(X_train, Y_train)\n",
    "\n",
    "print(RFres.score(X_test, Y_test))\n",
    "print(classification_report(Y_test, RFres.predict(X_test)))"
   ]
  },
  {
   "cell_type": "markdown",
   "metadata": {},
   "source": [
    "### <font color='green'> * Relative Influence Plot\n",
    "* An example: https://scikit-learn.org/stable/auto_examples/ensemble/plot_forest_importances.html"
   ]
  },
  {
   "cell_type": "markdown",
   "metadata": {},
   "source": [
    "#### <font color='green'> i) Extract 10 most important features (words) in terms of their importance scores"
   ]
  },
  {
   "cell_type": "code",
   "execution_count": 4,
   "metadata": {},
   "outputs": [
    {
     "name": "stdout",
     "output_type": "stream",
     "text": [
      "['space' 'graphics' 'god' 'thanks' 'orbit' 'file' 'nasa' 'hi' 'religion'\n",
      " 'image']\n",
      "[0.01923319 0.01152274 0.00814729 0.00721828 0.00630859 0.00627605\n",
      " 0.00594461 0.00566356 0.00517155 0.00516493]\n"
     ]
    }
   ],
   "source": [
    "importances = RFres.feature_importances_ # importance scores for all the words used for classification\n",
    "\n",
    "# Sort the importance scores in ascending order and select the bottom 10 items and then reverse the list\n",
    "# This involves many steps because there is no option for a descending sort in np.sort (this may be done by -np.sort(-importances))\n",
    "top10v = np.sort(importances)[-10:][::-1] \n",
    "top10n = np.argsort(importances)[-10:][::-1] # Original indices for the sorted scores\n",
    "\n",
    "feature_names = np.asarray(vectorizer.get_feature_names()) # Words used for classification by the vectorizer\n",
    "\n",
    "print(feature_names[top10n]) # Sort feature names by the sorted order above\n",
    "print(top10v)"
   ]
  },
  {
   "cell_type": "markdown",
   "metadata": {},
   "source": [
    "#### <font color='green'> ii) Plot a bar chart"
   ]
  },
  {
   "cell_type": "code",
   "execution_count": 5,
   "metadata": {},
   "outputs": [
    {
     "name": "stdout",
     "output_type": "stream",
     "text": [
      "1. space (0.019233)\n",
      "2. graphics (0.011523)\n",
      "3. god (0.008147)\n",
      "4. thanks (0.007218)\n",
      "5. orbit (0.006309)\n",
      "6. file (0.006276)\n",
      "7. nasa (0.005945)\n",
      "8. hi (0.005664)\n",
      "9. religion (0.005172)\n",
      "10. image (0.005165)\n"
     ]
    },
    {
     "data": {
      "image/png": "[encoded data removed]",
      "text/plain": [
       "<Figure size 1080x504 with 1 Axes>"
      ]
     },
     "metadata": {
      "needs_background": "light"
     },
     "output_type": "display_data"
    }
   ],
   "source": [
    "import matplotlib.pyplot as plt\n",
    "\n",
    "for f in range(10):\n",
    "    print(\"%d. %s (%f)\" % (f + 1, feature_names[top10n[f]], top10v[f]))\n",
    "\n",
    "plt.figure(figsize=(15,7))\n",
    "plt.title(\"Feature Importance Chart\",  fontsize=20)\n",
    "plt.bar(feature_names[top10n], top10v, color=\"r\")\n",
    "plt.xticks(fontsize= 15)\n",
    "plt.show()"
   ]
  },
  {
   "cell_type": "markdown",
   "metadata": {},
   "source": [
    "### <font color='green'> 2) Boosted Trees using Gradient Boosting\n",
    "* https://scikit-learn.org/stable/modules/generated/sklearn.ensemble.GradientBoostingClassifier.html#sklearn.ensemble.GradientBoostingClassifier\n",
    "    - $B$ : n_estimators, default=100\n",
    "    - $\\lambda$ : learning_rate, default=0.1\n",
    "    - The (maximum) number of splits in a tree: max_depth, default=3"
   ]
  },
  {
   "cell_type": "code",
   "execution_count": 6,
   "metadata": {},
   "outputs": [
    {
     "name": "stdout",
     "output_type": "stream",
     "text": [
      "0.7073170731707317\n",
      "              precision    recall  f1-score   support\n",
      "\n",
      "           0       0.59      0.57      0.58       319\n",
      "           1       0.85      0.84      0.85       389\n",
      "           2       0.74      0.80      0.76       394\n",
      "           3       0.58      0.53      0.55       251\n",
      "\n",
      "    accuracy                           0.71      1353\n",
      "   macro avg       0.69      0.69      0.69      1353\n",
      "weighted avg       0.70      0.71      0.71      1353\n",
      "\n"
     ]
    }
   ],
   "source": [
    "from sklearn.ensemble import GradientBoostingClassifier\n",
    "\n",
    "GB = GradientBoostingClassifier(n_estimators=1000, learning_rate=0.5, max_depth=2)\n",
    "\n",
    "GBres = GB.fit(X_train, Y_train)\n",
    "\n",
    "print(GBres.score(X_test, Y_test))\n",
    "print(classification_report(Y_test, GBres.predict(X_test)))"
   ]
  },
  {
   "cell_type": "markdown",
   "metadata": {},
   "source": [
    "### <font color='darkred'> HW8: Similarly to the figure 8.11 on p.324 of the textbook, make a plot which shows the relationships between the number of trees and sample classification accuracy for random forest and gradient boosting \n",
    "- You may use the GridsearchCV function for this exercise. In this case, set scoring = 'accuracy'\n",
    "- You can use any set of values for the number of trees (e.g. n_estimators=[10, 50, 100, 500, 1000 ....]), but you may want to use a fine grid to produce a better plot\n",
    "- Put number of trees on x-axis and classification accuracy on y-axis\n",
    "- max_features = math.floor(math.sqrt(n_features)), min_samples_split = 2 for random forest\n",
    "- Set learning_rate=0.5, max_depth=2 for gradient boosting"
   ]
  },
  {
   "cell_type": "code",
   "execution_count": 28,
   "metadata": {},
   "outputs": [
    {
     "name": "stdout",
     "output_type": "stream",
     "text": [
      "# Tuning hyper-parameters for accuracy\n",
      "\n",
      "Best parameters set found on train set:\n",
      "\n",
      "{'max_features': 'sqrt', 'min_samples_split': 2, 'n_estimators': 700}\n",
      "\n",
      "Grid scores on train set:\n",
      "\n",
      "0.762 (+/-0.024) for {'max_features': 'sqrt', 'min_samples_split': 2, 'n_estimators': 100}\n",
      "0.760 (+/-0.019) for {'max_features': 'sqrt', 'min_samples_split': 2, 'n_estimators': 150}\n",
      "0.766 (+/-0.020) for {'max_features': 'sqrt', 'min_samples_split': 2, 'n_estimators': 200}\n",
      "0.768 (+/-0.023) for {'max_features': 'sqrt', 'min_samples_split': 2, 'n_estimators': 250}\n",
      "0.765 (+/-0.035) for {'max_features': 'sqrt', 'min_samples_split': 2, 'n_estimators': 300}\n",
      "0.767 (+/-0.027) for {'max_features': 'sqrt', 'min_samples_split': 2, 'n_estimators': 350}\n",
      "0.767 (+/-0.027) for {'max_features': 'sqrt', 'min_samples_split': 2, 'n_estimators': 400}\n",
      "0.768 (+/-0.019) for {'max_features': 'sqrt', 'min_samples_split': 2, 'n_estimators': 450}\n",
      "0.763 (+/-0.025) for {'max_features': 'sqrt', 'min_samples_split': 2, 'n_estimators': 500}\n",
      "0.765 (+/-0.035) for {'max_features': 'sqrt', 'min_samples_split': 2, 'n_estimators': 550}\n",
      "0.766 (+/-0.032) for {'max_features': 'sqrt', 'min_samples_split': 2, 'n_estimators': 600}\n",
      "0.764 (+/-0.016) for {'max_features': 'sqrt', 'min_samples_split': 2, 'n_estimators': 650}\n",
      "0.769 (+/-0.019) for {'max_features': 'sqrt', 'min_samples_split': 2, 'n_estimators': 700}\n",
      "\n",
      "Detailed classification report:\n",
      "\n",
      "The scores are computed on test set.\n",
      "\n",
      "              precision    recall  f1-score   support\n",
      "\n",
      "           0       0.58      0.64      0.61       319\n",
      "           1       0.77      0.90      0.83       389\n",
      "           2       0.79      0.78      0.79       394\n",
      "           3       0.66      0.40      0.50       251\n",
      "\n",
      "    accuracy                           0.71      1353\n",
      "   macro avg       0.70      0.68      0.68      1353\n",
      "weighted avg       0.71      0.71      0.70      1353\n",
      "\n",
      "\n"
     ]
    }
   ],
   "source": [
    "from sklearn.model_selection import GridSearchCV\n",
    "from sklearn.metrics import classification_report\n",
    "from sklearn.ensemble import RandomForestClassifier as RFC\n",
    "\n",
    "\n",
    "\n",
    "tuned_parameters = {'n_estimators':[100,150,200,250,300,350,400,450,500,550,600,650,700],\n",
    "                    'max_features':['sqrt'],\n",
    "                    'min_samples_split':[2]}\n",
    "\n",
    "\n",
    "print(\"# Tuning hyper-parameters for %s\" % score)\n",
    "print()\n",
    "\n",
    "#Optimize grid search, using five fold cross validation calculating precision for each section, specify micro or macro\n",
    "rf = GridSearchCV(RFC(), tuned_parameters, cv=5, scoring = 'accuracy').fit(X_train, Y_train)\n",
    "\n",
    "# Precision or recall need macro or micro specification\n",
    "print(\"Best parameters set found on train set:\")\n",
    "print()\n",
    "\n",
    "print(rf.best_params_)\n",
    "print()\n",
    "\n",
    "print(\"Grid scores on train set:\")\n",
    "print()\n",
    "\n",
    "## accuracy for each combination\n",
    "means = rf.cv_results_['mean_test_score']\n",
    "stds = rf.cv_results_['std_test_score']\n",
    "for mean, std, params in zip(means, stds, rf.cv_results_['params']):\n",
    "    print(\"%0.3f (+/-%0.03f) for %r\"\n",
    "          % (mean, std * 2, params))\n",
    "print()\n",
    "\n",
    "print(\"Detailed classification report:\")\n",
    "print()\n",
    "\n",
    "print(\"The scores are computed on test set.\")\n",
    "print()\n",
    "\n",
    "# Uses optimized function and provides a confusion matrix\n",
    "print(classification_report(Y_test, rf.predict(X_test)))\n",
    "print()"
   ]
  },
  {
   "cell_type": "code",
   "execution_count": 26,
   "metadata": {},
   "outputs": [
    {
     "name": "stdout",
     "output_type": "stream",
     "text": [
      "[0.75515305 0.75810992 0.76892679 0.76990959 0.76499437 0.77187882\n",
      " 0.77088876 0.7684366  0.77039736 0.77039857 0.76793309 0.76696239\n",
      " 0.76941577]\n"
     ]
    }
   ],
   "source": [
    "print(rf.cv_results_['mean_test_score'])"
   ]
  },
  {
   "cell_type": "code",
   "execution_count": 27,
   "metadata": {},
   "outputs": [
    {
     "name": "stdout",
     "output_type": "stream",
     "text": [
      "# Tuning hyper-parameters for accuracy\n",
      "\n",
      "Best parameters set found on train set:\n",
      "\n",
      "{'learning_rate': 0.5, 'max_depth': 2, 'n_estimators': 300}\n",
      "\n",
      "Grid scores on train set:\n",
      "\n",
      "0.723 (+/-0.047) for {'learning_rate': 0.5, 'max_depth': 2, 'n_estimators': 100}\n",
      "0.731 (+/-0.049) for {'learning_rate': 0.5, 'max_depth': 2, 'n_estimators': 150}\n",
      "0.736 (+/-0.049) for {'learning_rate': 0.5, 'max_depth': 2, 'n_estimators': 200}\n",
      "0.737 (+/-0.048) for {'learning_rate': 0.5, 'max_depth': 2, 'n_estimators': 250}\n",
      "0.744 (+/-0.043) for {'learning_rate': 0.5, 'max_depth': 2, 'n_estimators': 300}\n",
      "0.740 (+/-0.039) for {'learning_rate': 0.5, 'max_depth': 2, 'n_estimators': 350}\n",
      "0.742 (+/-0.050) for {'learning_rate': 0.5, 'max_depth': 2, 'n_estimators': 400}\n",
      "0.734 (+/-0.032) for {'learning_rate': 0.5, 'max_depth': 2, 'n_estimators': 450}\n",
      "0.735 (+/-0.036) for {'learning_rate': 0.5, 'max_depth': 2, 'n_estimators': 500}\n",
      "0.737 (+/-0.028) for {'learning_rate': 0.5, 'max_depth': 2, 'n_estimators': 550}\n",
      "0.741 (+/-0.032) for {'learning_rate': 0.5, 'max_depth': 2, 'n_estimators': 600}\n",
      "0.741 (+/-0.028) for {'learning_rate': 0.5, 'max_depth': 2, 'n_estimators': 650}\n",
      "0.743 (+/-0.031) for {'learning_rate': 0.5, 'max_depth': 2, 'n_estimators': 700}\n",
      "\n",
      "Detailed classification report:\n",
      "\n",
      "The scores are computed on test set.\n",
      "\n",
      "              precision    recall  f1-score   support\n",
      "\n",
      "           0       0.58      0.59      0.59       319\n",
      "           1       0.85      0.82      0.84       389\n",
      "           2       0.73      0.82      0.77       394\n",
      "           3       0.60      0.50      0.54       251\n",
      "\n",
      "    accuracy                           0.71      1353\n",
      "   macro avg       0.69      0.68      0.68      1353\n",
      "weighted avg       0.70      0.71      0.70      1353\n",
      "\n",
      "\n"
     ]
    }
   ],
   "source": [
    "from sklearn.model_selection import GridSearchCV\n",
    "from sklearn.metrics import classification_report\n",
    "from sklearn.ensemble import GradientBoostingClassifier as GB\n",
    "\n",
    "\n",
    "\n",
    "tuned_parameters = {'n_estimators':[100,150,200,250,300,350,400,450,500,550,600,650,700],\n",
    "                    'learning_rate': [0.5],\n",
    "                    'max_depth':[2]}\n",
    "\n",
    "\n",
    "print(\"# Tuning hyper-parameters for %s\" % score)\n",
    "print()\n",
    "\n",
    "#Optimize grid search, using five fold cross validation calculating precision for each section, specify micro or macro\n",
    "clf = GridSearchCV(GB(), tuned_parameters, cv=5, scoring = 'accuracy').fit(X_train, Y_train)\n",
    "\n",
    "# Precision or recall need macro or micro specification\n",
    "print(\"Best parameters set found on train set:\")\n",
    "print()\n",
    "\n",
    "print(clf.best_params_)\n",
    "print()\n",
    "\n",
    "print(\"Grid scores on train set:\")\n",
    "print()\n",
    "\n",
    "## accuracy for each combination\n",
    "means = clf.cv_results_['mean_test_score']\n",
    "stds = clf.cv_results_['std_test_score']\n",
    "for mean, std, params in zip(means, stds, clf.cv_results_['params']):\n",
    "    print(\"%0.3f (+/-%0.03f) for %r\"\n",
    "          % (mean, std * 2, params))\n",
    "print()\n",
    "\n",
    "print(\"Detailed classification report:\")\n",
    "print()\n",
    "\n",
    "print(\"The scores are computed on test set.\")\n",
    "print()\n",
    "\n",
    "# Uses optimized function and provides a confusion matrix\n",
    "print(classification_report(Y_test, clf.predict(X_test)))\n",
    "print()"
   ]
  },
  {
   "cell_type": "code",
   "execution_count": 29,
   "metadata": {},
   "outputs": [
    {
     "name": "stdout",
     "output_type": "stream",
     "text": [
      "[0.72272788 0.73058908 0.73551155 0.73747594 0.74386294 0.73992811\n",
      " 0.74189613 0.73353143 0.73501289 0.73746626 0.74139989 0.7409097\n",
      " 0.74287651]\n"
     ]
    }
   ],
   "source": [
    "print(clf.cv_results_['mean_test_score'])"
   ]
  },
  {
   "cell_type": "code",
   "execution_count": 37,
   "metadata": {},
   "outputs": [
    {
     "data": {
      "image/png": "[encoded data removed]",
      "text/plain": [
       "<Figure size 432x288 with 1 Axes>"
      ]
     },
     "metadata": {},
     "output_type": "display_data"
    }
   ],
   "source": [
    "# multiple lines with legend\n",
    "plt.style.use('ggplot')\n",
    "\n",
    "x = [100,150,200,250,300,350,400,450,500,550,600,650,700]\n",
    "y = rf.cv_results_['mean_test_score']\n",
    "z = clf.cv_results_['mean_test_score']\n",
    "plt.plot(x,y,marker='.', color='r', label= 'Random Forest Accuracy')\n",
    "plt.plot(x,z, marker = '+', color = 'b',label = 'Gradient Boosting')\n",
    "plt.legend()\n",
    "plt.title(\"Gradient Boosting vs. Random Forest Accuracy\")\n",
    "plt.xlabel(\"Number of Trees\")\n",
    "plt.ylabel(\"Accuracy\");"
   ]
  },
  {
   "cell_type": "markdown",
   "metadata": {},
   "source": [
    "## <font color='green'> Web Scraping\n",
    "* Web scraping using BeautifulSoup: https://www.freecodecamp.org/news/how-to-scrape-websites-with-python-and-beautifulsoup-5946935d93fe/\n",
    "* Web scraping using Scrapy:https://www.analyticsvidhya.com/blog/2017/07/web-scraping-in-python-using-scrapy/\n",
    "* Web scrapers: https://www.scraperapi.com/blog/the-10-best-web-scraping-tools (including commercial scrapers)"
   ]
  },
  {
   "cell_type": "code",
   "execution_count": 7,
   "metadata": {},
   "outputs": [],
   "source": [
    "import requests\n",
    "from bs4 import BeautifulSoup\n",
    "\n",
    "# Specify a url\n",
    "quote_page = 'https://www.uark.edu/academics/majors.php'\n",
    "    \n",
    "response = requests.get(quote_page)\n",
    "\n",
    "# Get the web page in html and convert it to a BeautifulSoup format\n",
    "soup = BeautifulSoup(response.content, \"html.parser\")"
   ]
  },
  {
   "cell_type": "code",
   "execution_count": 8,
   "metadata": {},
   "outputs": [
    {
     "name": "stdout",
     "output_type": "stream",
     "text": [
      "Take every opportunity to consult your academic adviser to ensure that you are taking\n",
      "               advantage of courses and university resources that will help you reach your educational\n",
      "               and career goals and graduate on time. Remember, the University of Arkansas is committed\n",
      "               to your success. The faculty and staff are here to support you as you work to achieve\n",
      "               your goals. Ask for help and advice whenever you need it.\n"
     ]
    }
   ],
   "source": [
    "# Find the address of the part you want to scrap using \"inspect\" function in your web browser\n",
    "# For this, the inspection function should be manually enabled in your brower\n",
    "# Plug the address in \"find\"\n",
    "\n",
    "name_box = soup.find('p', {'class' : 'bigCopy'})\n",
    "name_box\n",
    "name = name_box.text.strip() # strip() is used to remove spaces at the beginning and at the end of the string\n",
    "print(name)"
   ]
  },
  {
   "cell_type": "code",
   "execution_count": 9,
   "metadata": {},
   "outputs": [
    {
     "name": "stdout",
     "output_type": "stream",
     "text": [
      "  (0, 26177)\t0.10670255014188623\n",
      "  (0, 24922)\t0.2742356468419891\n",
      "  (0, 24067)\t0.08809776159929004\n",
      "  (0, 23536)\t0.13569244746205605\n",
      "  (0, 23268)\t0.11763109097119513\n",
      "  (0, 23110)\t0.17550255294379383\n",
      "  (0, 22647)\t0.2003495014840388\n",
      "  (0, 20489)\t0.16088957190071135\n",
      "  (0, 20260)\t0.1279406196844749\n",
      "  (0, 19826)\t0.1619647719612395\n",
      "  (0, 17367)\t0.17911143194145013\n",
      "  (0, 16632)\t0.10008246859681677\n",
      "  (0, 11976)\t0.22066793376123095\n",
      "  (0, 11397)\t0.2003495014840388\n",
      "  (0, 11288)\t0.37094702807953417\n",
      "  (0, 10006)\t0.23040216629909357\n",
      "  (0, 9314)\t0.23040216629909357\n",
      "  (0, 8960)\t0.18320284150382815\n",
      "  (0, 7048)\t0.21475043975969652\n",
      "  (0, 6739)\t0.20916409675650494\n",
      "  (0, 6318)\t0.1738459301694142\n",
      "  (0, 5381)\t0.21475043975969652\n",
      "  (0, 3713)\t0.13136979108423694\n",
      "  (0, 2764)\t0.17911143194145013\n",
      "  (0, 2745)\t0.16799198670885754\n",
      "  (0, 2559)\t0.2044409110464168\n",
      "  (0, 2475)\t0.2003495014840388\n"
     ]
    }
   ],
   "source": [
    "# vectorize the text\n",
    "ark = [name] \n",
    "arkk=vectorizer.transform(ark)\n",
    "print(arkk)"
   ]
  },
  {
   "cell_type": "code",
   "execution_count": 10,
   "metadata": {},
   "outputs": [
    {
     "data": {
      "text/plain": [
       "array([1], dtype=int64)"
      ]
     },
     "execution_count": 10,
     "metadata": {},
     "output_type": "execute_result"
    }
   ],
   "source": [
    "RFres.predict(arkk)"
   ]
  },
  {
   "cell_type": "code",
   "execution_count": null,
   "metadata": {},
   "outputs": [],
   "source": []
  }
 ],
 "metadata": {
  "kernelspec": {
   "display_name": "Python 3",
   "language": "python",
   "name": "python3"
  },
  "language_info": {
   "codemirror_mode": {
    "name": "ipython",
    "version": 3
   },
   "file_extension": ".py",
   "mimetype": "text/x-python",
   "name": "python",
   "nbconvert_exporter": "python",
   "pygments_lexer": "ipython3",
   "version": "3.8.8"
  }
 },
 "nbformat": 4,
 "nbformat_minor": 2
}
