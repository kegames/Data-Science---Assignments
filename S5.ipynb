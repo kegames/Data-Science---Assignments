{
 "cells": [
  {
   "cell_type": "markdown",
   "metadata": {},
   "source": [
    "## <font color='green'> Application of the LASSO to Boston Data"
   ]
  },
  {
   "cell_type": "code",
   "execution_count": 126,
   "metadata": {},
   "outputs": [],
   "source": [
    "import os\n",
    "os.chdir('')\n",
    "\n",
    "import numpy as np\n",
    "import pandas as pd\n",
    "import math\n",
    "\n",
    "np.set_printoptions(precision=3, suppress=True)\n",
    "\n",
    "raw0 = pd.read_csv('Boston.csv')"
   ]
  },
  {
   "cell_type": "code",
   "execution_count": 127,
   "metadata": {},
   "outputs": [
    {
     "data": {
      "text/html": [
       "<div>\n",
       "<style scoped>\n",
       "    .dataframe tbody tr th:only-of-type {\n",
       "        vertical-align: middle;\n",
       "    }\n",
       "\n",
       "    .dataframe tbody tr th {\n",
       "        vertical-align: top;\n",
       "    }\n",
       "\n",
       "    .dataframe thead th {\n",
       "        text-align: right;\n",
       "    }\n",
       "</style>\n",
       "<table border=\"1\" class=\"dataframe\">\n",
       "  <thead>\n",
       "    <tr style=\"text-align: right;\">\n",
       "      <th></th>\n",
       "      <th>Unnamed: 0</th>\n",
       "      <th>crim</th>\n",
       "      <th>zn</th>\n",
       "      <th>indus</th>\n",
       "      <th>chas</th>\n",
       "      <th>nox</th>\n",
       "      <th>rm</th>\n",
       "      <th>age</th>\n",
       "      <th>dis</th>\n",
       "      <th>rad</th>\n",
       "      <th>tax</th>\n",
       "      <th>ptratio</th>\n",
       "      <th>black</th>\n",
       "      <th>lstat</th>\n",
       "      <th>medv</th>\n",
       "    </tr>\n",
       "  </thead>\n",
       "  <tbody>\n",
       "    <tr>\n",
       "      <th>0</th>\n",
       "      <td>1</td>\n",
       "      <td>0.00632</td>\n",
       "      <td>18.0</td>\n",
       "      <td>2.31</td>\n",
       "      <td>0</td>\n",
       "      <td>0.538</td>\n",
       "      <td>6.575</td>\n",
       "      <td>65.2</td>\n",
       "      <td>4.0900</td>\n",
       "      <td>1</td>\n",
       "      <td>296</td>\n",
       "      <td>15.3</td>\n",
       "      <td>396.90</td>\n",
       "      <td>4.98</td>\n",
       "      <td>24.0</td>\n",
       "    </tr>\n",
       "    <tr>\n",
       "      <th>1</th>\n",
       "      <td>2</td>\n",
       "      <td>0.02731</td>\n",
       "      <td>0.0</td>\n",
       "      <td>7.07</td>\n",
       "      <td>0</td>\n",
       "      <td>0.469</td>\n",
       "      <td>6.421</td>\n",
       "      <td>78.9</td>\n",
       "      <td>4.9671</td>\n",
       "      <td>2</td>\n",
       "      <td>242</td>\n",
       "      <td>17.8</td>\n",
       "      <td>396.90</td>\n",
       "      <td>9.14</td>\n",
       "      <td>21.6</td>\n",
       "    </tr>\n",
       "    <tr>\n",
       "      <th>2</th>\n",
       "      <td>3</td>\n",
       "      <td>0.02729</td>\n",
       "      <td>0.0</td>\n",
       "      <td>7.07</td>\n",
       "      <td>0</td>\n",
       "      <td>0.469</td>\n",
       "      <td>7.185</td>\n",
       "      <td>61.1</td>\n",
       "      <td>4.9671</td>\n",
       "      <td>2</td>\n",
       "      <td>242</td>\n",
       "      <td>17.8</td>\n",
       "      <td>392.83</td>\n",
       "      <td>4.03</td>\n",
       "      <td>34.7</td>\n",
       "    </tr>\n",
       "    <tr>\n",
       "      <th>3</th>\n",
       "      <td>4</td>\n",
       "      <td>0.03237</td>\n",
       "      <td>0.0</td>\n",
       "      <td>2.18</td>\n",
       "      <td>0</td>\n",
       "      <td>0.458</td>\n",
       "      <td>6.998</td>\n",
       "      <td>45.8</td>\n",
       "      <td>6.0622</td>\n",
       "      <td>3</td>\n",
       "      <td>222</td>\n",
       "      <td>18.7</td>\n",
       "      <td>394.63</td>\n",
       "      <td>2.94</td>\n",
       "      <td>33.4</td>\n",
       "    </tr>\n",
       "    <tr>\n",
       "      <th>4</th>\n",
       "      <td>5</td>\n",
       "      <td>0.06905</td>\n",
       "      <td>0.0</td>\n",
       "      <td>2.18</td>\n",
       "      <td>0</td>\n",
       "      <td>0.458</td>\n",
       "      <td>7.147</td>\n",
       "      <td>54.2</td>\n",
       "      <td>6.0622</td>\n",
       "      <td>3</td>\n",
       "      <td>222</td>\n",
       "      <td>18.7</td>\n",
       "      <td>396.90</td>\n",
       "      <td>5.33</td>\n",
       "      <td>36.2</td>\n",
       "    </tr>\n",
       "  </tbody>\n",
       "</table>\n",
       "</div>"
      ],
      "text/plain": [
       "   Unnamed: 0     crim    zn  indus  chas    nox     rm   age     dis  rad  \\\n",
       "0           1  0.00632  18.0   2.31     0  0.538  6.575  65.2  4.0900    1   \n",
       "1           2  0.02731   0.0   7.07     0  0.469  6.421  78.9  4.9671    2   \n",
       "2           3  0.02729   0.0   7.07     0  0.469  7.185  61.1  4.9671    2   \n",
       "3           4  0.03237   0.0   2.18     0  0.458  6.998  45.8  6.0622    3   \n",
       "4           5  0.06905   0.0   2.18     0  0.458  7.147  54.2  6.0622    3   \n",
       "\n",
       "   tax  ptratio   black  lstat  medv  \n",
       "0  296     15.3  396.90   4.98  24.0  \n",
       "1  242     17.8  396.90   9.14  21.6  \n",
       "2  242     17.8  392.83   4.03  34.7  \n",
       "3  222     18.7  394.63   2.94  33.4  \n",
       "4  222     18.7  396.90   5.33  36.2  "
      ]
     },
     "execution_count": 127,
     "metadata": {},
     "output_type": "execute_result"
    }
   ],
   "source": [
    "raw0.head()"
   ]
  },
  {
   "cell_type": "code",
   "execution_count": 128,
   "metadata": {},
   "outputs": [
    {
     "ename": "TypeError",
     "evalue": "'list' object is not callable",
     "output_type": "error",
     "traceback": [
      "\u001b[1;31m---------------------------------------------------------------------------\u001b[0m",
      "\u001b[1;31mTypeError\u001b[0m                                 Traceback (most recent call last)",
      "\u001b[1;32m<ipython-input-128-34867ff4e829>\u001b[0m in \u001b[0;36m<module>\u001b[1;34m\u001b[0m\n\u001b[0;32m      1\u001b[0m \u001b[1;31m# Store variable names for labeling later\u001b[0m\u001b[1;33m\u001b[0m\u001b[1;33m\u001b[0m\u001b[1;33m\u001b[0m\u001b[0m\n\u001b[1;32m----> 2\u001b[1;33m \u001b[0mvarname\u001b[0m\u001b[1;33m=\u001b[0m\u001b[0mlist\u001b[0m\u001b[1;33m(\u001b[0m\u001b[0mraw0\u001b[0m\u001b[1;33m.\u001b[0m\u001b[0miloc\u001b[0m\u001b[1;33m[\u001b[0m\u001b[1;33m:\u001b[0m\u001b[1;33m,\u001b[0m\u001b[1;36m1\u001b[0m\u001b[1;33m:\u001b[0m\u001b[1;33m-\u001b[0m\u001b[1;36m1\u001b[0m\u001b[1;33m]\u001b[0m\u001b[1;33m.\u001b[0m\u001b[0mcolumns\u001b[0m\u001b[1;33m)\u001b[0m\u001b[1;33m\u001b[0m\u001b[1;33m\u001b[0m\u001b[0m\n\u001b[0m\u001b[0;32m      3\u001b[0m \u001b[1;33m\u001b[0m\u001b[0m\n\u001b[0;32m      4\u001b[0m \u001b[1;31m# Define y and X (including all the regressors)\u001b[0m\u001b[1;33m\u001b[0m\u001b[1;33m\u001b[0m\u001b[1;33m\u001b[0m\u001b[0m\n\u001b[0;32m      5\u001b[0m \u001b[0mraw0\u001b[0m \u001b[1;33m=\u001b[0m \u001b[0mraw0\u001b[0m\u001b[1;33m.\u001b[0m\u001b[0miloc\u001b[0m\u001b[1;33m[\u001b[0m\u001b[1;33m:\u001b[0m\u001b[1;33m,\u001b[0m\u001b[1;36m1\u001b[0m\u001b[1;33m:\u001b[0m\u001b[1;33m]\u001b[0m\u001b[1;33m.\u001b[0m\u001b[0mvalues\u001b[0m\u001b[1;33m\u001b[0m\u001b[1;33m\u001b[0m\u001b[0m\n",
      "\u001b[1;31mTypeError\u001b[0m: 'list' object is not callable"
     ]
    }
   ],
   "source": [
    "# Store variable names for labeling later\n",
    "varname=list(raw0.iloc[:,1:-1].columns)\n",
    "\n",
    "# Define y and X (including all the regressors)\n",
    "raw0 = raw0.iloc[:,1:].values\n",
    "Y = raw0[:,-1]\n",
    "X = raw0[:,0:-1]"
   ]
  },
  {
   "cell_type": "code",
   "execution_count": 129,
   "metadata": {},
   "outputs": [
    {
     "data": {
      "text/plain": [
       "['AtBat',\n",
       " 'Hits',\n",
       " 'HmRun',\n",
       " 'Runs',\n",
       " 'RBI',\n",
       " 'Walks',\n",
       " 'Years',\n",
       " 'CAtBat',\n",
       " 'CHits',\n",
       " 'CHmRun',\n",
       " 'CRuns',\n",
       " 'CRBI',\n",
       " 'CWalks',\n",
       " 'League',\n",
       " 'Division',\n",
       " 'PutOuts',\n",
       " 'Assists',\n",
       " 'Errors',\n",
       " 'Salary']"
      ]
     },
     "execution_count": 129,
     "metadata": {},
     "output_type": "execute_result"
    }
   ],
   "source": [
    "varname"
   ]
  },
  {
   "cell_type": "markdown",
   "metadata": {},
   "source": [
    "### <font color='green'> 1) Lasso Estimation with a Preselected Tuning Parameter Value ($\\lambda$)\n",
    "\n",
    "Parameters in linear_model.Lasso: https://scikit-learn.org/stable/modules/generated/sklearn.linear_model.Lasso.html"
   ]
  },
  {
   "cell_type": "code",
   "execution_count": 130,
   "metadata": {},
   "outputs": [
    {
     "name": "stderr",
     "output_type": "stream",
     "text": [
      "C:\\Users\\kgame\\anaconda3\\lib\\site-packages\\sklearn\\linear_model\\_coordinate_descent.py:530: ConvergenceWarning: Objective did not converge. You might want to increase the number of iterations. Duality gap: 8.612107015322483, tolerance: 0.007980124223602484\n",
      "  model = cd_fast.enet_coordinate_descent(\n"
     ]
    }
   ],
   "source": [
    "from sklearn import linear_model\n",
    "# Does not accept 0\n",
    "las1 = linear_model.Lasso(alpha=0.000001).fit(X,Y) # alpha is the tuning parameter\n",
    "las2 = linear_model.Lasso(alpha=0.5).fit(X,Y) # alpha is the tuning parameter"
   ]
  },
  {
   "cell_type": "code",
   "execution_count": 131,
   "metadata": {},
   "outputs": [
    {
     "name": "stdout",
     "output_type": "stream",
     "text": [
      "[ 0.     0.002 -0.    -0.    -0.001  0.007  0.    -0.001 -0.001  0.001\n",
      "  0.001  0.     0.871 -0.011 -0.    -0.     0.004  0.   ]\n",
      "[ 0.     0.     0.     0.002 -0.001  0.     0.    -0.001  0.     0.001\n",
      "  0.    -0.     0.    -0.    -0.    -0.    -0.    -0.   ]\n"
     ]
    }
   ],
   "source": [
    "print(las1.coef_)\n",
    "print(las2.coef_)"
   ]
  },
  {
   "cell_type": "code",
   "execution_count": 132,
   "metadata": {},
   "outputs": [],
   "source": [
    "from sklearn.preprocessing import StandardScaler\n",
    "\n",
    "scaler = StandardScaler()\n",
    "scaler.fit(X)\n",
    "Xn = scaler.transform(X)\n"
   ]
  },
  {
   "cell_type": "code",
   "execution_count": 133,
   "metadata": {},
   "outputs": [
    {
     "name": "stderr",
     "output_type": "stream",
     "text": [
      "C:\\Users\\kgame\\anaconda3\\lib\\site-packages\\sklearn\\linear_model\\_coordinate_descent.py:530: ConvergenceWarning: Objective did not converge. You might want to increase the number of iterations. Duality gap: 8.318126262481053, tolerance: 0.007980124223602484\n",
      "  model = cd_fast.enet_coordinate_descent(\n"
     ]
    }
   ],
   "source": [
    "las1 = linear_model.Lasso(alpha=0.000001).fit(Xn,Y) # alpha is the tuning parameter\n",
    "las2 = linear_model.Lasso(alpha=0.5).fit(Xn,Y) # alpha is the tuning parameter"
   ]
  },
  {
   "cell_type": "code",
   "execution_count": 134,
   "metadata": {},
   "outputs": [
    {
     "name": "stdout",
     "output_type": "stream",
     "text": [
      "[ 0.001  0.022 -0.005 -0.004 -0.029  0.032  0.026 -0.413 -0.113  0.237\n",
      "  0.204  0.021  0.434 -0.006 -0.001 -0.004  0.025  0.006]\n",
      "[ 0.  0.  0.  0.  0.  0.  0.  0.  0.  0.  0.  0.  0. -0. -0. -0. -0.  0.]\n"
     ]
    }
   ],
   "source": [
    "print(las1.coef_)\n",
    "print(las2.coef_)"
   ]
  },
  {
   "cell_type": "markdown",
   "metadata": {},
   "source": [
    "### <font color='green'> 2) Computation of a Lasso Solution Path\n",
    "Parameters and returns in lasso_path: https://scikit-learn.org/stable/modules/generated/sklearn.linear_model.lasso_path.html"
   ]
  },
  {
   "cell_type": "code",
   "execution_count": 135,
   "metadata": {},
   "outputs": [],
   "source": [
    "import matplotlib.pyplot as plt\n",
    "from sklearn.linear_model import lasso_path\n",
    "from itertools import cycle"
   ]
  },
  {
   "cell_type": "code",
   "execution_count": 136,
   "metadata": {},
   "outputs": [
    {
     "name": "stderr",
     "output_type": "stream",
     "text": [
      "C:\\Users\\kgame\\anaconda3\\lib\\site-packages\\sklearn\\linear_model\\_coordinate_descent.py:526: ConvergenceWarning: Objective did not converge. You might want to increase the number of iterations. Duality gap: 0.0227357580534715, tolerance: 0.0176\n",
      "  model = cd_fast.enet_coordinate_descent_gram(\n",
      "C:\\Users\\kgame\\anaconda3\\lib\\site-packages\\sklearn\\linear_model\\_coordinate_descent.py:526: ConvergenceWarning: Objective did not converge. You might want to increase the number of iterations. Duality gap: 0.021764950604719502, tolerance: 0.0176\n",
      "  model = cd_fast.enet_coordinate_descent_gram(\n",
      "C:\\Users\\kgame\\anaconda3\\lib\\site-packages\\sklearn\\linear_model\\_coordinate_descent.py:526: ConvergenceWarning: Objective did not converge. You might want to increase the number of iterations. Duality gap: 0.06908239109101544, tolerance: 0.0176\n",
      "  model = cd_fast.enet_coordinate_descent_gram(\n",
      "C:\\Users\\kgame\\anaconda3\\lib\\site-packages\\sklearn\\linear_model\\_coordinate_descent.py:526: ConvergenceWarning: Objective did not converge. You might want to increase the number of iterations. Duality gap: 0.07269338335225939, tolerance: 0.0176\n",
      "  model = cd_fast.enet_coordinate_descent_gram(\n",
      "C:\\Users\\kgame\\anaconda3\\lib\\site-packages\\sklearn\\linear_model\\_coordinate_descent.py:526: ConvergenceWarning: Objective did not converge. You might want to increase the number of iterations. Duality gap: 0.049230368076720765, tolerance: 0.0176\n",
      "  model = cd_fast.enet_coordinate_descent_gram(\n",
      "C:\\Users\\kgame\\anaconda3\\lib\\site-packages\\sklearn\\linear_model\\_coordinate_descent.py:526: ConvergenceWarning: Objective did not converge. You might want to increase the number of iterations. Duality gap: 0.026686506373536645, tolerance: 0.0176\n",
      "  model = cd_fast.enet_coordinate_descent_gram(\n",
      "C:\\Users\\kgame\\anaconda3\\lib\\site-packages\\sklearn\\linear_model\\_coordinate_descent.py:526: ConvergenceWarning: Objective did not converge. You might want to increase the number of iterations. Duality gap: 0.07939575401533716, tolerance: 0.0176\n",
      "  model = cd_fast.enet_coordinate_descent_gram(\n",
      "C:\\Users\\kgame\\anaconda3\\lib\\site-packages\\sklearn\\linear_model\\_coordinate_descent.py:526: ConvergenceWarning: Objective did not converge. You might want to increase the number of iterations. Duality gap: 0.08305599980533884, tolerance: 0.0176\n",
      "  model = cd_fast.enet_coordinate_descent_gram(\n",
      "C:\\Users\\kgame\\anaconda3\\lib\\site-packages\\sklearn\\linear_model\\_coordinate_descent.py:526: ConvergenceWarning: Objective did not converge. You might want to increase the number of iterations. Duality gap: 0.08320282170410565, tolerance: 0.0176\n",
      "  model = cd_fast.enet_coordinate_descent_gram(\n",
      "C:\\Users\\kgame\\anaconda3\\lib\\site-packages\\sklearn\\linear_model\\_coordinate_descent.py:526: ConvergenceWarning: Objective did not converge. You might want to increase the number of iterations. Duality gap: 0.08317137955408782, tolerance: 0.0176\n",
      "  model = cd_fast.enet_coordinate_descent_gram(\n",
      "C:\\Users\\kgame\\anaconda3\\lib\\site-packages\\sklearn\\linear_model\\_coordinate_descent.py:526: ConvergenceWarning: Objective did not converge. You might want to increase the number of iterations. Duality gap: 0.08313839965222769, tolerance: 0.0176\n",
      "  model = cd_fast.enet_coordinate_descent_gram(\n",
      "C:\\Users\\kgame\\anaconda3\\lib\\site-packages\\sklearn\\linear_model\\_coordinate_descent.py:526: ConvergenceWarning: Objective did not converge. You might want to increase the number of iterations. Duality gap: 0.08311168684195991, tolerance: 0.0176\n",
      "  model = cd_fast.enet_coordinate_descent_gram(\n",
      "C:\\Users\\kgame\\anaconda3\\lib\\site-packages\\sklearn\\linear_model\\_coordinate_descent.py:526: ConvergenceWarning: Objective did not converge. You might want to increase the number of iterations. Duality gap: 0.0830903921681454, tolerance: 0.0176\n",
      "  model = cd_fast.enet_coordinate_descent_gram(\n",
      "C:\\Users\\kgame\\anaconda3\\lib\\site-packages\\sklearn\\linear_model\\_coordinate_descent.py:526: ConvergenceWarning: Objective did not converge. You might want to increase the number of iterations. Duality gap: 0.08307345025883706, tolerance: 0.0176\n",
      "  model = cd_fast.enet_coordinate_descent_gram(\n",
      "C:\\Users\\kgame\\anaconda3\\lib\\site-packages\\sklearn\\linear_model\\_coordinate_descent.py:526: ConvergenceWarning: Objective did not converge. You might want to increase the number of iterations. Duality gap: 0.08305998549971605, tolerance: 0.0176\n",
      "  model = cd_fast.enet_coordinate_descent_gram(\n",
      "C:\\Users\\kgame\\anaconda3\\lib\\site-packages\\sklearn\\linear_model\\_coordinate_descent.py:526: ConvergenceWarning: Objective did not converge. You might want to increase the number of iterations. Duality gap: 0.08304928717450366, tolerance: 0.0176\n",
      "  model = cd_fast.enet_coordinate_descent_gram(\n",
      "C:\\Users\\kgame\\anaconda3\\lib\\site-packages\\sklearn\\linear_model\\_coordinate_descent.py:526: ConvergenceWarning: Objective did not converge. You might want to increase the number of iterations. Duality gap: 0.08304079464036818, tolerance: 0.0176\n",
      "  model = cd_fast.enet_coordinate_descent_gram(\n",
      "C:\\Users\\kgame\\anaconda3\\lib\\site-packages\\sklearn\\linear_model\\_coordinate_descent.py:526: ConvergenceWarning: Objective did not converge. You might want to increase the number of iterations. Duality gap: 0.0830340533736944, tolerance: 0.0176\n",
      "  model = cd_fast.enet_coordinate_descent_gram(\n",
      "C:\\Users\\kgame\\anaconda3\\lib\\site-packages\\sklearn\\linear_model\\_coordinate_descent.py:526: ConvergenceWarning: Objective did not converge. You might want to increase the number of iterations. Duality gap: 0.08302870429375275, tolerance: 0.0176\n",
      "  model = cd_fast.enet_coordinate_descent_gram(\n",
      "C:\\Users\\kgame\\anaconda3\\lib\\site-packages\\sklearn\\linear_model\\_coordinate_descent.py:526: ConvergenceWarning: Objective did not converge. You might want to increase the number of iterations. Duality gap: 0.08302446506890249, tolerance: 0.0176\n",
      "  model = cd_fast.enet_coordinate_descent_gram(\n",
      "C:\\Users\\kgame\\anaconda3\\lib\\site-packages\\sklearn\\linear_model\\_coordinate_descent.py:526: ConvergenceWarning: Objective did not converge. You might want to increase the number of iterations. Duality gap: 0.08302110063657153, tolerance: 0.0176\n",
      "  model = cd_fast.enet_coordinate_descent_gram(\n",
      "C:\\Users\\kgame\\anaconda3\\lib\\site-packages\\sklearn\\linear_model\\_coordinate_descent.py:526: ConvergenceWarning: Objective did not converge. You might want to increase the number of iterations. Duality gap: 0.08301843417019938, tolerance: 0.0176\n",
      "  model = cd_fast.enet_coordinate_descent_gram(\n",
      "C:\\Users\\kgame\\anaconda3\\lib\\site-packages\\sklearn\\linear_model\\_coordinate_descent.py:526: ConvergenceWarning: Objective did not converge. You might want to increase the number of iterations. Duality gap: 0.08301631865063541, tolerance: 0.0176\n",
      "  model = cd_fast.enet_coordinate_descent_gram(\n",
      "C:\\Users\\kgame\\anaconda3\\lib\\site-packages\\sklearn\\linear_model\\_coordinate_descent.py:526: ConvergenceWarning: Objective did not converge. You might want to increase the number of iterations. Duality gap: 0.0830146371769871, tolerance: 0.0176\n",
      "  model = cd_fast.enet_coordinate_descent_gram(\n",
      "C:\\Users\\kgame\\anaconda3\\lib\\site-packages\\sklearn\\linear_model\\_coordinate_descent.py:526: ConvergenceWarning: Objective did not converge. You might want to increase the number of iterations. Duality gap: 0.08301331107375631, tolerance: 0.0176\n",
      "  model = cd_fast.enet_coordinate_descent_gram(\n",
      "C:\\Users\\kgame\\anaconda3\\lib\\site-packages\\sklearn\\linear_model\\_coordinate_descent.py:526: ConvergenceWarning: Objective did not converge. You might want to increase the number of iterations. Duality gap: 0.08301225644575538, tolerance: 0.0176\n",
      "  model = cd_fast.enet_coordinate_descent_gram(\n",
      "C:\\Users\\kgame\\anaconda3\\lib\\site-packages\\sklearn\\linear_model\\_coordinate_descent.py:526: ConvergenceWarning: Objective did not converge. You might want to increase the number of iterations. Duality gap: 0.083011432236475, tolerance: 0.0176\n",
      "  model = cd_fast.enet_coordinate_descent_gram(\n",
      "C:\\Users\\kgame\\anaconda3\\lib\\site-packages\\sklearn\\linear_model\\_coordinate_descent.py:526: ConvergenceWarning: Objective did not converge. You might want to increase the number of iterations. Duality gap: 0.08301074194586988, tolerance: 0.0176\n",
      "  model = cd_fast.enet_coordinate_descent_gram(\n",
      "C:\\Users\\kgame\\anaconda3\\lib\\site-packages\\sklearn\\linear_model\\_coordinate_descent.py:526: ConvergenceWarning: Objective did not converge. You might want to increase the number of iterations. Duality gap: 0.08301022000203773, tolerance: 0.0176\n",
      "  model = cd_fast.enet_coordinate_descent_gram(\n",
      "C:\\Users\\kgame\\anaconda3\\lib\\site-packages\\sklearn\\linear_model\\_coordinate_descent.py:526: ConvergenceWarning: Objective did not converge. You might want to increase the number of iterations. Duality gap: 0.08300982166716153, tolerance: 0.0176\n",
      "  model = cd_fast.enet_coordinate_descent_gram(\n",
      "C:\\Users\\kgame\\anaconda3\\lib\\site-packages\\sklearn\\linear_model\\_coordinate_descent.py:526: ConvergenceWarning: Objective did not converge. You might want to increase the number of iterations. Duality gap: 0.08300945921581615, tolerance: 0.0176\n",
      "  model = cd_fast.enet_coordinate_descent_gram(\n",
      "C:\\Users\\kgame\\anaconda3\\lib\\site-packages\\sklearn\\linear_model\\_coordinate_descent.py:526: ConvergenceWarning: Objective did not converge. You might want to increase the number of iterations. Duality gap: 0.08300922063722282, tolerance: 0.0176\n",
      "  model = cd_fast.enet_coordinate_descent_gram(\n",
      "C:\\Users\\kgame\\anaconda3\\lib\\site-packages\\sklearn\\linear_model\\_coordinate_descent.py:526: ConvergenceWarning: Objective did not converge. You might want to increase the number of iterations. Duality gap: 0.08300906674715236, tolerance: 0.0176\n",
      "  model = cd_fast.enet_coordinate_descent_gram(\n",
      "C:\\Users\\kgame\\anaconda3\\lib\\site-packages\\sklearn\\linear_model\\_coordinate_descent.py:526: ConvergenceWarning: Objective did not converge. You might want to increase the number of iterations. Duality gap: 0.0830088587300537, tolerance: 0.0176\n",
      "  model = cd_fast.enet_coordinate_descent_gram(\n",
      "C:\\Users\\kgame\\anaconda3\\lib\\site-packages\\sklearn\\linear_model\\_coordinate_descent.py:526: ConvergenceWarning: Objective did not converge. You might want to increase the number of iterations. Duality gap: 0.08300875525632989, tolerance: 0.0176\n",
      "  model = cd_fast.enet_coordinate_descent_gram(\n",
      "C:\\Users\\kgame\\anaconda3\\lib\\site-packages\\sklearn\\linear_model\\_coordinate_descent.py:526: ConvergenceWarning: Objective did not converge. You might want to increase the number of iterations. Duality gap: 0.08300867151743319, tolerance: 0.0176\n",
      "  model = cd_fast.enet_coordinate_descent_gram(\n",
      "C:\\Users\\kgame\\anaconda3\\lib\\site-packages\\sklearn\\linear_model\\_coordinate_descent.py:526: ConvergenceWarning: Objective did not converge. You might want to increase the number of iterations. Duality gap: 0.08300853443989809, tolerance: 0.0176\n",
      "  model = cd_fast.enet_coordinate_descent_gram(\n",
      "C:\\Users\\kgame\\anaconda3\\lib\\site-packages\\sklearn\\linear_model\\_coordinate_descent.py:526: ConvergenceWarning: Objective did not converge. You might want to increase the number of iterations. Duality gap: 0.08300851424270661, tolerance: 0.0176\n",
      "  model = cd_fast.enet_coordinate_descent_gram(\n",
      "C:\\Users\\kgame\\anaconda3\\lib\\site-packages\\sklearn\\linear_model\\_coordinate_descent.py:526: ConvergenceWarning: Objective did not converge. You might want to increase the number of iterations. Duality gap: 0.08300834938167156, tolerance: 0.0176\n",
      "  model = cd_fast.enet_coordinate_descent_gram(\n",
      "C:\\Users\\kgame\\anaconda3\\lib\\site-packages\\sklearn\\linear_model\\_coordinate_descent.py:526: ConvergenceWarning: Objective did not converge. You might want to increase the number of iterations. Duality gap: 0.08300841559487537, tolerance: 0.0176\n",
      "  model = cd_fast.enet_coordinate_descent_gram(\n",
      "C:\\Users\\kgame\\anaconda3\\lib\\site-packages\\sklearn\\linear_model\\_coordinate_descent.py:526: ConvergenceWarning: Objective did not converge. You might want to increase the number of iterations. Duality gap: 0.08300850243379898, tolerance: 0.0176\n",
      "  model = cd_fast.enet_coordinate_descent_gram(\n",
      "C:\\Users\\kgame\\anaconda3\\lib\\site-packages\\sklearn\\linear_model\\_coordinate_descent.py:526: ConvergenceWarning: Objective did not converge. You might want to increase the number of iterations. Duality gap: 0.08300890045768483, tolerance: 0.0176\n",
      "  model = cd_fast.enet_coordinate_descent_gram(\n",
      "C:\\Users\\kgame\\anaconda3\\lib\\site-packages\\sklearn\\linear_model\\_coordinate_descent.py:526: ConvergenceWarning: Objective did not converge. You might want to increase the number of iterations. Duality gap: 0.08300867971372838, tolerance: 0.0176\n",
      "  model = cd_fast.enet_coordinate_descent_gram(\n",
      "C:\\Users\\kgame\\anaconda3\\lib\\site-packages\\sklearn\\linear_model\\_coordinate_descent.py:526: ConvergenceWarning: Objective did not converge. You might want to increase the number of iterations. Duality gap: 0.08300783135041456, tolerance: 0.0176\n",
      "  model = cd_fast.enet_coordinate_descent_gram(\n",
      "C:\\Users\\kgame\\anaconda3\\lib\\site-packages\\sklearn\\linear_model\\_coordinate_descent.py:526: ConvergenceWarning: Objective did not converge. You might want to increase the number of iterations. Duality gap: 0.0830082813975821, tolerance: 0.0176\n",
      "  model = cd_fast.enet_coordinate_descent_gram(\n",
      "C:\\Users\\kgame\\anaconda3\\lib\\site-packages\\sklearn\\linear_model\\_coordinate_descent.py:526: ConvergenceWarning: Objective did not converge. You might want to increase the number of iterations. Duality gap: 0.08300821104622003, tolerance: 0.0176\n",
      "  model = cd_fast.enet_coordinate_descent_gram(\n",
      "C:\\Users\\kgame\\anaconda3\\lib\\site-packages\\sklearn\\linear_model\\_coordinate_descent.py:526: ConvergenceWarning: Objective did not converge. You might want to increase the number of iterations. Duality gap: 0.08300833942558938, tolerance: 0.0176\n",
      "  model = cd_fast.enet_coordinate_descent_gram(\n",
      "C:\\Users\\kgame\\anaconda3\\lib\\site-packages\\sklearn\\linear_model\\_coordinate_descent.py:526: ConvergenceWarning: Objective did not converge. You might want to increase the number of iterations. Duality gap: 0.08300655369609444, tolerance: 0.0176\n",
      "  model = cd_fast.enet_coordinate_descent_gram(\n",
      "C:\\Users\\kgame\\anaconda3\\lib\\site-packages\\sklearn\\linear_model\\_coordinate_descent.py:526: ConvergenceWarning: Objective did not converge. You might want to increase the number of iterations. Duality gap: 0.08300939779962846, tolerance: 0.0176\n",
      "  model = cd_fast.enet_coordinate_descent_gram(\n",
      "C:\\Users\\kgame\\anaconda3\\lib\\site-packages\\sklearn\\linear_model\\_coordinate_descent.py:526: ConvergenceWarning: Objective did not converge. You might want to increase the number of iterations. Duality gap: 0.08301026119040955, tolerance: 0.0176\n",
      "  model = cd_fast.enet_coordinate_descent_gram(\n",
      "C:\\Users\\kgame\\anaconda3\\lib\\site-packages\\sklearn\\linear_model\\_coordinate_descent.py:526: ConvergenceWarning: Objective did not converge. You might want to increase the number of iterations. Duality gap: 0.08300651893654276, tolerance: 0.0176\n",
      "  model = cd_fast.enet_coordinate_descent_gram(\n",
      "C:\\Users\\kgame\\anaconda3\\lib\\site-packages\\sklearn\\linear_model\\_coordinate_descent.py:526: ConvergenceWarning: Objective did not converge. You might want to increase the number of iterations. Duality gap: 0.08300756628537442, tolerance: 0.0176\n",
      "  model = cd_fast.enet_coordinate_descent_gram(\n",
      "C:\\Users\\kgame\\anaconda3\\lib\\site-packages\\sklearn\\linear_model\\_coordinate_descent.py:526: ConvergenceWarning: Objective did not converge. You might want to increase the number of iterations. Duality gap: 0.08301416068351841, tolerance: 0.0176\n",
      "  model = cd_fast.enet_coordinate_descent_gram(\n",
      "C:\\Users\\kgame\\anaconda3\\lib\\site-packages\\sklearn\\linear_model\\_coordinate_descent.py:526: ConvergenceWarning: Objective did not converge. You might want to increase the number of iterations. Duality gap: 0.08301206695320218, tolerance: 0.0176\n",
      "  model = cd_fast.enet_coordinate_descent_gram(\n",
      "C:\\Users\\kgame\\anaconda3\\lib\\site-packages\\sklearn\\linear_model\\_coordinate_descent.py:526: ConvergenceWarning: Objective did not converge. You might want to increase the number of iterations. Duality gap: 0.08301188596597342, tolerance: 0.0176\n",
      "  model = cd_fast.enet_coordinate_descent_gram(\n",
      "C:\\Users\\kgame\\anaconda3\\lib\\site-packages\\sklearn\\linear_model\\_coordinate_descent.py:526: ConvergenceWarning: Objective did not converge. You might want to increase the number of iterations. Duality gap: 0.08300495630821558, tolerance: 0.0176\n",
      "  model = cd_fast.enet_coordinate_descent_gram(\n",
      "C:\\Users\\kgame\\anaconda3\\lib\\site-packages\\sklearn\\linear_model\\_coordinate_descent.py:526: ConvergenceWarning: Objective did not converge. You might want to increase the number of iterations. Duality gap: 0.08300996997689936, tolerance: 0.0176\n",
      "  model = cd_fast.enet_coordinate_descent_gram(\n",
      "C:\\Users\\kgame\\anaconda3\\lib\\site-packages\\sklearn\\linear_model\\_coordinate_descent.py:526: ConvergenceWarning: Objective did not converge. You might want to increase the number of iterations. Duality gap: 0.08299752445472564, tolerance: 0.0176\n",
      "  model = cd_fast.enet_coordinate_descent_gram(\n",
      "C:\\Users\\kgame\\anaconda3\\lib\\site-packages\\sklearn\\linear_model\\_coordinate_descent.py:526: ConvergenceWarning: Objective did not converge. You might want to increase the number of iterations. Duality gap: 0.08300085779106325, tolerance: 0.0176\n",
      "  model = cd_fast.enet_coordinate_descent_gram(\n",
      "C:\\Users\\kgame\\anaconda3\\lib\\site-packages\\sklearn\\linear_model\\_coordinate_descent.py:526: ConvergenceWarning: Objective did not converge. You might want to increase the number of iterations. Duality gap: 0.08302703126315691, tolerance: 0.0176\n",
      "  model = cd_fast.enet_coordinate_descent_gram(\n",
      "C:\\Users\\kgame\\anaconda3\\lib\\site-packages\\sklearn\\linear_model\\_coordinate_descent.py:526: ConvergenceWarning: Objective did not converge. You might want to increase the number of iterations. Duality gap: 0.0829758892925554, tolerance: 0.0176\n",
      "  model = cd_fast.enet_coordinate_descent_gram(\n",
      "C:\\Users\\kgame\\anaconda3\\lib\\site-packages\\sklearn\\linear_model\\_coordinate_descent.py:526: ConvergenceWarning: Objective did not converge. You might want to increase the number of iterations. Duality gap: 0.0829983952023099, tolerance: 0.0176\n",
      "  model = cd_fast.enet_coordinate_descent_gram(\n",
      "C:\\Users\\kgame\\anaconda3\\lib\\site-packages\\sklearn\\linear_model\\_coordinate_descent.py:526: ConvergenceWarning: Objective did not converge. You might want to increase the number of iterations. Duality gap: 0.08300544214374384, tolerance: 0.0176\n",
      "  model = cd_fast.enet_coordinate_descent_gram(\n"
     ]
    }
   ],
   "source": [
    "# Use \"eps\" to specify the length and density of the grid (eps = alpha_min / alpha_max)\n",
    "eps = 1e-10  \n",
    "alphas_lasso, coefs_lasso, _ = lasso_path(Xn, Y, eps = eps)"
   ]
  },
  {
   "cell_type": "code",
   "execution_count": 137,
   "metadata": {},
   "outputs": [
    {
     "name": "stdout",
     "output_type": "stream",
     "text": [
      "[0.439 0.348 0.275 0.218 0.173 0.137 0.109 0.086 0.068 0.054 0.043 0.034\n",
      " 0.027 0.021 0.017 0.013 0.011 0.008 0.007 0.005 0.004 0.003 0.003 0.002\n",
      " 0.002 0.001 0.001 0.001 0.001 0.001 0.    0.    0.    0.    0.    0.\n",
      " 0.    0.    0.    0.    0.    0.    0.    0.    0.    0.    0.    0.\n",
      " 0.    0.    0.    0.    0.    0.    0.    0.    0.    0.    0.    0.\n",
      " 0.    0.    0.    0.    0.    0.    0.    0.    0.    0.    0.    0.\n",
      " 0.    0.    0.    0.    0.    0.    0.    0.    0.    0.    0.    0.\n",
      " 0.    0.    0.    0.    0.    0.    0.    0.    0.    0.    0.    0.\n",
      " 0.    0.    0.    0.   ]\n"
     ]
    }
   ],
   "source": [
    "## Largest to smallest alphas\n",
    "print(alphas_lasso) "
   ]
  },
  {
   "cell_type": "code",
   "execution_count": 138,
   "metadata": {
    "scrolled": true
   },
   "outputs": [
    {
     "name": "stdout",
     "output_type": "stream",
     "text": [
      "[[ 0.     0.     0.    ...  0.004  0.004  0.004]\n",
      " [ 0.     0.     0.    ...  0.023  0.023  0.023]\n",
      " [ 0.     0.     0.    ... -0.007 -0.007 -0.007]\n",
      " ...\n",
      " [-0.    -0.    -0.    ... -0.004 -0.004 -0.004]\n",
      " [-0.    -0.    -0.    ...  0.025  0.025  0.025]\n",
      " [ 0.     0.    -0.    ...  0.006  0.006  0.006]]\n"
     ]
    }
   ],
   "source": [
    "print(coefs_lasso)"
   ]
  },
  {
   "cell_type": "code",
   "execution_count": 139,
   "metadata": {},
   "outputs": [
    {
     "name": "stdout",
     "output_type": "stream",
     "text": [
      "[ 0.     0.     0.     0.     0.     0.     0.     0.     0.    -0.\n",
      " -0.    -0.    -0.    -0.    -0.    -0.    -0.    -0.    -0.    -0.\n",
      " -0.     0.     0.     0.     0.     0.004  0.009  0.012  0.011  0.012\n",
      "  0.011  0.008  0.005  0.003  0.002  0.001  0.     0.    -0.    -0.001\n",
      " -0.002 -0.003 -0.003 -0.004 -0.005 -0.005 -0.005 -0.006 -0.006 -0.006\n",
      " -0.006 -0.006 -0.006 -0.006 -0.006 -0.007 -0.007 -0.007 -0.007 -0.007\n",
      " -0.007 -0.007 -0.007 -0.007 -0.007 -0.007 -0.007 -0.007 -0.007 -0.007\n",
      " -0.007 -0.007 -0.007 -0.007 -0.007 -0.007 -0.007 -0.007 -0.007 -0.007\n",
      " -0.007 -0.007 -0.007 -0.007 -0.007 -0.007 -0.007 -0.007 -0.007 -0.007\n",
      " -0.007 -0.007 -0.007 -0.007 -0.007 -0.007 -0.007 -0.007 -0.007 -0.007]\n"
     ]
    }
   ],
   "source": [
    "# Each row of \"coefs_lasso\" contains a series of estimates for a coefficient over the grid\n",
    "# Each column contains coefficient etimates at each lambda value\n",
    "## From large alpha to small alpha\n",
    "print(coefs_lasso[2]) "
   ]
  },
  {
   "cell_type": "code",
   "execution_count": 140,
   "metadata": {},
   "outputs": [
    {
     "data": {
      "image/png": "[encoded data removed]",
      "text/plain": [
       "<Figure size 640x560 with 1 Axes>"
      ]
     },
     "metadata": {
      "needs_background": "light"
     },
     "output_type": "display_data"
    }
   ],
   "source": [
    "# Display the solution path\n",
    "plt.figure(figsize=(8, 7), dpi=80)\n",
    "colors = cycle(['b', 'r', 'g', 'c','m', 'y', 'k'])\n",
    "\n",
    "# Take the log of the alpha values to adjust the scale of X-axis\n",
    "log_alphas_lasso = np.log10(alphas_lasso) \n",
    "\n",
    "# Use a for-loop to plot several paths on a figure \n",
    "# Zip temporarily holds the values in ()\n",
    "## Coef_L grabs a row for a coefficient at each lasso\n",
    "for coef_l, c, vn in zip(coefs_lasso, colors, varname):\n",
    "    l1 = plt.plot(log_alphas_lasso, coef_l, c=c, label=vn)\n",
    "    \n",
    "plt.xlabel('Log(alpha)')\n",
    "plt.ylabel('Coefficient Estimtes')\n",
    "plt.title('Lasso Solution Path')\n",
    "plt.legend()\n",
    "plt.savefig('lassopath.png')\n",
    "plt.show()\n"
   ]
  },
  {
   "cell_type": "markdown",
   "metadata": {},
   "source": [
    "### <font color='green'> 3) Selection of a Tuning Parameter Value (= Selection of a Model) in the LASSO using CV/BIC/AIC"
   ]
  },
  {
   "cell_type": "code",
   "execution_count": 141,
   "metadata": {},
   "outputs": [],
   "source": [
    "from sklearn.linear_model import LassoLarsCV, LassoLarsIC\n",
    "import time"
   ]
  },
  {
   "cell_type": "markdown",
   "metadata": {},
   "source": [
    "#### <font color='green'> i) Cross Validation"
   ]
  },
  {
   "cell_type": "code",
   "execution_count": 142,
   "metadata": {},
   "outputs": [],
   "source": [
    "t1 = time.time() # Get the current time\n",
    "lascv = LassoLarsCV(cv=10).fit(Xn, Y)\n",
    "t_lasso_lars_cv = time.time() - t1 # Calculate running time"
   ]
  },
  {
   "cell_type": "code",
   "execution_count": 143,
   "metadata": {},
   "outputs": [
    {
     "data": {
      "image/png": "[encoded data removed]",
      "text/plain": [
       "<Figure size 640x560 with 1 Axes>"
      ]
     },
     "metadata": {
      "needs_background": "light"
     },
     "output_type": "display_data"
    }
   ],
   "source": [
    "# Display the results\n",
    "eps = 5e-10\n",
    "\n",
    "# cv_alphas : set of lambda values used\n",
    "# alpha: The best one\n",
    "\n",
    "lascv_log_alphas = np.log10(lascv.cv_alphas_ + eps) \n",
    "lascv_log_alpha = np.log10(lascv.alpha_)\n",
    "# Caution: lascv.alphas contains the alpha at the lowest MSE whereas lascv.cv_alphas_ contains the set of alphas used in the path\n",
    "# The smallest value in lascv.cv_alphas_ is 0 so we add eps (a small number) to avoid log(0)\n",
    "\n",
    "plt.figure(figsize=(8, 7), dpi=80)\n",
    "plt.plot(lascv_log_alphas, lascv.mse_path_.mean(axis=1), 'k',\n",
    "         label='Average of the MSEs over the Folds', linewidth=2)\n",
    "plt.axvline(lascv_log_alpha, linestyle='--', color='k',\n",
    "            label='alpha selected by CV')\n",
    "plt.legend()\n",
    "\n",
    "plt.xlabel('Log(alpha)')\n",
    "plt.ylabel('Mean Square Error')\n",
    "plt.title('Model Selection by Cross Validation (train time: %.2fs)'\n",
    "          % t_lasso_lars_cv)\n",
    "plt.show()"
   ]
  },
  {
   "cell_type": "code",
   "execution_count": 144,
   "metadata": {},
   "outputs": [
    {
     "name": "stdout",
     "output_type": "stream",
     "text": [
      "[0.    0.    0.    0.    0.    0.    0.    0.    0.    0.    0.    0.\n",
      " 0.425 0.    0.    0.    0.    0.   ]\n"
     ]
    }
   ],
   "source": [
    "# Access the Lasso estimates at the alpha selected by CV\n",
    "print(lascv.coef_)"
   ]
  },
  {
   "cell_type": "markdown",
   "metadata": {},
   "source": [
    "#### <font color='green'> ii) BIC and AIC"
   ]
  },
  {
   "cell_type": "code",
   "execution_count": 145,
   "metadata": {},
   "outputs": [],
   "source": [
    "lasic_bic = LassoLarsIC(criterion='bic').fit(Xn, Y)\n",
    "lasic_aic = LassoLarsIC(criterion='aic').fit(Xn, Y)"
   ]
  },
  {
   "cell_type": "code",
   "execution_count": 146,
   "metadata": {},
   "outputs": [
    {
     "data": {
      "image/png": "[encoded data removed]",
      "text/plain": [
       "<Figure size 640x560 with 1 Axes>"
      ]
     },
     "metadata": {
      "needs_background": "light"
     },
     "output_type": "display_data"
    }
   ],
   "source": [
    "# Display results\n",
    "# make a fn to produce figures with the same features repeatedly\n",
    "def plot_ic_criterion(model, name, color): \n",
    "    # alpha - the best one\n",
    "    alpha_ = model.alpha_ + eps\n",
    "    alphas_ = model.alphas_ + eps\n",
    "    criterion_ = model.criterion_ # BIC or AIC values over the alpha values\n",
    "    plt.plot(np.log10(alphas_), criterion_, '--', color=color,\n",
    "             linewidth=3, label='%s' % name)\n",
    "    plt.axvline(np.log10(alpha_), color=color, linewidth=3,\n",
    "                label='$\\lambda$ selected by %s ' % name)\n",
    "    plt.xlabel('Log($\\lambda$)')\n",
    "    plt.ylabel('Criterion Value')\n",
    "    \n",
    "## AIC tends to choose a smaller lambda/ more complex model\n",
    "plt.figure(figsize=(8, 7), dpi=80)\n",
    "plot_ic_criterion(lasic_aic, 'AIC', 'b')\n",
    "plot_ic_criterion(lasic_bic, 'BIC', 'r')\n",
    "plt.legend()\n",
    "plt.title('Model Selection by Information Criteria')\n",
    "#plt.show()\n",
    "plt.savefig('lasso.png')"
   ]
  },
  {
   "cell_type": "code",
   "execution_count": 147,
   "metadata": {},
   "outputs": [
    {
     "name": "stdout",
     "output_type": "stream",
     "text": [
      "[0.    0.    0.    0.    0.    0.    0.    0.    0.    0.    0.    0.\n",
      " 0.426 0.    0.    0.    0.    0.   ]\n",
      "[0.    0.    0.    0.    0.    0.    0.    0.    0.    0.    0.    0.\n",
      " 0.426 0.    0.    0.    0.    0.   ]\n"
     ]
    }
   ],
   "source": [
    "# Access the Lasso estimates at the alpha selected by AIC and BIC\n",
    "print(lasic_aic.coef_)\n",
    "print(lasic_bic.coef_)"
   ]
  },
  {
   "cell_type": "markdown",
   "metadata": {},
   "source": [
    "### <font color='darkred'> HW5\n",
    "    \n",
    "* Use the dataset, \"Hitters.csv\", posted on BB to explain/predict a baseball player’s salary <u> using a subset of covariates in the dataset </u>.\n",
    "    \n",
    "* In order to select a subset of covariates, do the following:\n",
    "    - Forward and backward stepwise selections based on AIC and BIC\n",
    "    - LASSO Estimations with CV, AIC and BIC\n",
    "    - Produce tables or figures or both to summarize your results\n",
    "    \n",
    "* For this exercise, you need to take care of missing values and also generate dummies for some variables"
   ]
  },
  {
   "cell_type": "markdown",
   "metadata": {},
   "source": [
    "### <font color='purple'> 1. Importing and Cleaning the Data"
   ]
  },
  {
   "cell_type": "code",
   "execution_count": 148,
   "metadata": {},
   "outputs": [],
   "source": [
    "import os\n",
    "os.chdir('')\n",
    "\n",
    "import numpy as np\n",
    "import pandas as pd\n",
    "import math\n",
    "\n",
    "raw00 = pd.read_csv('Hitters.csv')"
   ]
  },
  {
   "cell_type": "code",
   "execution_count": 149,
   "metadata": {},
   "outputs": [
    {
     "data": {
      "text/html": [
       "<div>\n",
       "<style scoped>\n",
       "    .dataframe tbody tr th:only-of-type {\n",
       "        vertical-align: middle;\n",
       "    }\n",
       "\n",
       "    .dataframe tbody tr th {\n",
       "        vertical-align: top;\n",
       "    }\n",
       "\n",
       "    .dataframe thead th {\n",
       "        text-align: right;\n",
       "    }\n",
       "</style>\n",
       "<table border=\"1\" class=\"dataframe\">\n",
       "  <thead>\n",
       "    <tr style=\"text-align: right;\">\n",
       "      <th></th>\n",
       "      <th>Unnamed: 0</th>\n",
       "      <th>AtBat</th>\n",
       "      <th>Hits</th>\n",
       "      <th>HmRun</th>\n",
       "      <th>Runs</th>\n",
       "      <th>RBI</th>\n",
       "      <th>Walks</th>\n",
       "      <th>Years</th>\n",
       "      <th>CAtBat</th>\n",
       "      <th>CHits</th>\n",
       "      <th>...</th>\n",
       "      <th>CRuns</th>\n",
       "      <th>CRBI</th>\n",
       "      <th>CWalks</th>\n",
       "      <th>League</th>\n",
       "      <th>Division</th>\n",
       "      <th>PutOuts</th>\n",
       "      <th>Assists</th>\n",
       "      <th>Errors</th>\n",
       "      <th>Salary</th>\n",
       "      <th>NewLeague</th>\n",
       "    </tr>\n",
       "  </thead>\n",
       "  <tbody>\n",
       "    <tr>\n",
       "      <th>0</th>\n",
       "      <td>-Andy Allanson</td>\n",
       "      <td>293</td>\n",
       "      <td>66</td>\n",
       "      <td>1</td>\n",
       "      <td>30</td>\n",
       "      <td>29</td>\n",
       "      <td>14</td>\n",
       "      <td>1</td>\n",
       "      <td>293</td>\n",
       "      <td>66</td>\n",
       "      <td>...</td>\n",
       "      <td>30</td>\n",
       "      <td>29</td>\n",
       "      <td>14</td>\n",
       "      <td>A</td>\n",
       "      <td>E</td>\n",
       "      <td>446</td>\n",
       "      <td>33</td>\n",
       "      <td>20</td>\n",
       "      <td>NaN</td>\n",
       "      <td>A</td>\n",
       "    </tr>\n",
       "    <tr>\n",
       "      <th>1</th>\n",
       "      <td>-Alan Ashby</td>\n",
       "      <td>315</td>\n",
       "      <td>81</td>\n",
       "      <td>7</td>\n",
       "      <td>24</td>\n",
       "      <td>38</td>\n",
       "      <td>39</td>\n",
       "      <td>14</td>\n",
       "      <td>3449</td>\n",
       "      <td>835</td>\n",
       "      <td>...</td>\n",
       "      <td>321</td>\n",
       "      <td>414</td>\n",
       "      <td>375</td>\n",
       "      <td>N</td>\n",
       "      <td>W</td>\n",
       "      <td>632</td>\n",
       "      <td>43</td>\n",
       "      <td>10</td>\n",
       "      <td>475.0</td>\n",
       "      <td>N</td>\n",
       "    </tr>\n",
       "    <tr>\n",
       "      <th>2</th>\n",
       "      <td>-Alvin Davis</td>\n",
       "      <td>479</td>\n",
       "      <td>130</td>\n",
       "      <td>18</td>\n",
       "      <td>66</td>\n",
       "      <td>72</td>\n",
       "      <td>76</td>\n",
       "      <td>3</td>\n",
       "      <td>1624</td>\n",
       "      <td>457</td>\n",
       "      <td>...</td>\n",
       "      <td>224</td>\n",
       "      <td>266</td>\n",
       "      <td>263</td>\n",
       "      <td>A</td>\n",
       "      <td>W</td>\n",
       "      <td>880</td>\n",
       "      <td>82</td>\n",
       "      <td>14</td>\n",
       "      <td>480.0</td>\n",
       "      <td>A</td>\n",
       "    </tr>\n",
       "    <tr>\n",
       "      <th>3</th>\n",
       "      <td>-Andre Dawson</td>\n",
       "      <td>496</td>\n",
       "      <td>141</td>\n",
       "      <td>20</td>\n",
       "      <td>65</td>\n",
       "      <td>78</td>\n",
       "      <td>37</td>\n",
       "      <td>11</td>\n",
       "      <td>5628</td>\n",
       "      <td>1575</td>\n",
       "      <td>...</td>\n",
       "      <td>828</td>\n",
       "      <td>838</td>\n",
       "      <td>354</td>\n",
       "      <td>N</td>\n",
       "      <td>E</td>\n",
       "      <td>200</td>\n",
       "      <td>11</td>\n",
       "      <td>3</td>\n",
       "      <td>500.0</td>\n",
       "      <td>N</td>\n",
       "    </tr>\n",
       "    <tr>\n",
       "      <th>4</th>\n",
       "      <td>-Andres Galarraga</td>\n",
       "      <td>321</td>\n",
       "      <td>87</td>\n",
       "      <td>10</td>\n",
       "      <td>39</td>\n",
       "      <td>42</td>\n",
       "      <td>30</td>\n",
       "      <td>2</td>\n",
       "      <td>396</td>\n",
       "      <td>101</td>\n",
       "      <td>...</td>\n",
       "      <td>48</td>\n",
       "      <td>46</td>\n",
       "      <td>33</td>\n",
       "      <td>N</td>\n",
       "      <td>E</td>\n",
       "      <td>805</td>\n",
       "      <td>40</td>\n",
       "      <td>4</td>\n",
       "      <td>91.5</td>\n",
       "      <td>N</td>\n",
       "    </tr>\n",
       "  </tbody>\n",
       "</table>\n",
       "<p>5 rows × 21 columns</p>\n",
       "</div>"
      ],
      "text/plain": [
       "          Unnamed: 0  AtBat  Hits  HmRun  Runs  RBI  Walks  Years  CAtBat  \\\n",
       "0     -Andy Allanson    293    66      1    30   29     14      1     293   \n",
       "1        -Alan Ashby    315    81      7    24   38     39     14    3449   \n",
       "2       -Alvin Davis    479   130     18    66   72     76      3    1624   \n",
       "3      -Andre Dawson    496   141     20    65   78     37     11    5628   \n",
       "4  -Andres Galarraga    321    87     10    39   42     30      2     396   \n",
       "\n",
       "   CHits  ...  CRuns  CRBI  CWalks  League Division PutOuts  Assists  Errors  \\\n",
       "0     66  ...     30    29      14       A        E     446       33      20   \n",
       "1    835  ...    321   414     375       N        W     632       43      10   \n",
       "2    457  ...    224   266     263       A        W     880       82      14   \n",
       "3   1575  ...    828   838     354       N        E     200       11       3   \n",
       "4    101  ...     48    46      33       N        E     805       40       4   \n",
       "\n",
       "   Salary  NewLeague  \n",
       "0     NaN          A  \n",
       "1   475.0          N  \n",
       "2   480.0          A  \n",
       "3   500.0          N  \n",
       "4    91.5          N  \n",
       "\n",
       "[5 rows x 21 columns]"
      ]
     },
     "execution_count": 149,
     "metadata": {},
     "output_type": "execute_result"
    }
   ],
   "source": [
    "raw00.head()"
   ]
  },
  {
   "cell_type": "code",
   "execution_count": 150,
   "metadata": {},
   "outputs": [
    {
     "ename": "TypeError",
     "evalue": "'list' object is not callable",
     "output_type": "error",
     "traceback": [
      "\u001b[1;31m---------------------------------------------------------------------------\u001b[0m",
      "\u001b[1;31mTypeError\u001b[0m                                 Traceback (most recent call last)",
      "\u001b[1;32m<ipython-input-150-05675bca373b>\u001b[0m in \u001b[0;36m<module>\u001b[1;34m\u001b[0m\n\u001b[1;32m----> 1\u001b[1;33m \u001b[0mvarname\u001b[0m\u001b[1;33m=\u001b[0m\u001b[0mlist\u001b[0m\u001b[1;33m(\u001b[0m\u001b[0mraw00\u001b[0m\u001b[1;33m.\u001b[0m\u001b[0miloc\u001b[0m\u001b[1;33m[\u001b[0m\u001b[1;33m:\u001b[0m\u001b[1;33m,\u001b[0m\u001b[1;36m1\u001b[0m\u001b[1;33m:\u001b[0m\u001b[1;33m-\u001b[0m\u001b[1;36m1\u001b[0m\u001b[1;33m]\u001b[0m\u001b[1;33m.\u001b[0m\u001b[0mcolumns\u001b[0m\u001b[1;33m)\u001b[0m\u001b[1;33m\u001b[0m\u001b[1;33m\u001b[0m\u001b[0m\n\u001b[0m",
      "\u001b[1;31mTypeError\u001b[0m: 'list' object is not callable"
     ]
    }
   ],
   "source": [
    "varname=list(raw00.iloc[:,1:-1].columns)"
   ]
  },
  {
   "cell_type": "code",
   "execution_count": 165,
   "metadata": {},
   "outputs": [
    {
     "data": {
      "text/plain": [
       "['AtBat',\n",
       " 'Hits',\n",
       " 'HmRun',\n",
       " 'Runs',\n",
       " 'RBI',\n",
       " 'Walks',\n",
       " 'Years',\n",
       " 'CAtBat',\n",
       " 'CHits',\n",
       " 'CHmRun',\n",
       " 'CRuns',\n",
       " 'CRBI',\n",
       " 'CWalks',\n",
       " 'League',\n",
       " 'Division',\n",
       " 'PutOuts',\n",
       " 'Assists',\n",
       " 'Errors',\n",
       " 'Salary']"
      ]
     },
     "execution_count": 165,
     "metadata": {},
     "output_type": "execute_result"
    }
   ],
   "source": [
    "varname"
   ]
  },
  {
   "cell_type": "code",
   "execution_count": 152,
   "metadata": {},
   "outputs": [],
   "source": [
    "#print(raw00.isnull().sum())"
   ]
  },
  {
   "cell_type": "code",
   "execution_count": 153,
   "metadata": {},
   "outputs": [],
   "source": [
    "raw00['Salary'].fillna(raw00['Salary'].mean(), inplace = True)\n",
    "#print(raw00.isnull().sum())"
   ]
  },
  {
   "cell_type": "code",
   "execution_count": 154,
   "metadata": {},
   "outputs": [],
   "source": [
    "raw00.League = (raw00.League == 'A')*1"
   ]
  },
  {
   "cell_type": "code",
   "execution_count": 155,
   "metadata": {},
   "outputs": [],
   "source": [
    "raw00.Division = (raw00.Division == 'E')*1"
   ]
  },
  {
   "cell_type": "code",
   "execution_count": 156,
   "metadata": {},
   "outputs": [],
   "source": [
    "raw00.NewLeague = (raw00.NewLeague == 'A')*1"
   ]
  },
  {
   "cell_type": "code",
   "execution_count": 157,
   "metadata": {},
   "outputs": [
    {
     "data": {
      "text/html": [
       "<div>\n",
       "<style scoped>\n",
       "    .dataframe tbody tr th:only-of-type {\n",
       "        vertical-align: middle;\n",
       "    }\n",
       "\n",
       "    .dataframe tbody tr th {\n",
       "        vertical-align: top;\n",
       "    }\n",
       "\n",
       "    .dataframe thead th {\n",
       "        text-align: right;\n",
       "    }\n",
       "</style>\n",
       "<table border=\"1\" class=\"dataframe\">\n",
       "  <thead>\n",
       "    <tr style=\"text-align: right;\">\n",
       "      <th></th>\n",
       "      <th>Unnamed: 0</th>\n",
       "      <th>AtBat</th>\n",
       "      <th>Hits</th>\n",
       "      <th>HmRun</th>\n",
       "      <th>Runs</th>\n",
       "      <th>RBI</th>\n",
       "      <th>Walks</th>\n",
       "      <th>Years</th>\n",
       "      <th>CAtBat</th>\n",
       "      <th>CHits</th>\n",
       "      <th>...</th>\n",
       "      <th>CRuns</th>\n",
       "      <th>CRBI</th>\n",
       "      <th>CWalks</th>\n",
       "      <th>League</th>\n",
       "      <th>Division</th>\n",
       "      <th>PutOuts</th>\n",
       "      <th>Assists</th>\n",
       "      <th>Errors</th>\n",
       "      <th>Salary</th>\n",
       "      <th>NewLeague</th>\n",
       "    </tr>\n",
       "  </thead>\n",
       "  <tbody>\n",
       "    <tr>\n",
       "      <th>0</th>\n",
       "      <td>-Andy Allanson</td>\n",
       "      <td>293</td>\n",
       "      <td>66</td>\n",
       "      <td>1</td>\n",
       "      <td>30</td>\n",
       "      <td>29</td>\n",
       "      <td>14</td>\n",
       "      <td>1</td>\n",
       "      <td>293</td>\n",
       "      <td>66</td>\n",
       "      <td>...</td>\n",
       "      <td>30</td>\n",
       "      <td>29</td>\n",
       "      <td>14</td>\n",
       "      <td>1</td>\n",
       "      <td>1</td>\n",
       "      <td>446</td>\n",
       "      <td>33</td>\n",
       "      <td>20</td>\n",
       "      <td>535.925882</td>\n",
       "      <td>1</td>\n",
       "    </tr>\n",
       "    <tr>\n",
       "      <th>1</th>\n",
       "      <td>-Alan Ashby</td>\n",
       "      <td>315</td>\n",
       "      <td>81</td>\n",
       "      <td>7</td>\n",
       "      <td>24</td>\n",
       "      <td>38</td>\n",
       "      <td>39</td>\n",
       "      <td>14</td>\n",
       "      <td>3449</td>\n",
       "      <td>835</td>\n",
       "      <td>...</td>\n",
       "      <td>321</td>\n",
       "      <td>414</td>\n",
       "      <td>375</td>\n",
       "      <td>0</td>\n",
       "      <td>0</td>\n",
       "      <td>632</td>\n",
       "      <td>43</td>\n",
       "      <td>10</td>\n",
       "      <td>475.000000</td>\n",
       "      <td>0</td>\n",
       "    </tr>\n",
       "    <tr>\n",
       "      <th>2</th>\n",
       "      <td>-Alvin Davis</td>\n",
       "      <td>479</td>\n",
       "      <td>130</td>\n",
       "      <td>18</td>\n",
       "      <td>66</td>\n",
       "      <td>72</td>\n",
       "      <td>76</td>\n",
       "      <td>3</td>\n",
       "      <td>1624</td>\n",
       "      <td>457</td>\n",
       "      <td>...</td>\n",
       "      <td>224</td>\n",
       "      <td>266</td>\n",
       "      <td>263</td>\n",
       "      <td>1</td>\n",
       "      <td>0</td>\n",
       "      <td>880</td>\n",
       "      <td>82</td>\n",
       "      <td>14</td>\n",
       "      <td>480.000000</td>\n",
       "      <td>1</td>\n",
       "    </tr>\n",
       "    <tr>\n",
       "      <th>3</th>\n",
       "      <td>-Andre Dawson</td>\n",
       "      <td>496</td>\n",
       "      <td>141</td>\n",
       "      <td>20</td>\n",
       "      <td>65</td>\n",
       "      <td>78</td>\n",
       "      <td>37</td>\n",
       "      <td>11</td>\n",
       "      <td>5628</td>\n",
       "      <td>1575</td>\n",
       "      <td>...</td>\n",
       "      <td>828</td>\n",
       "      <td>838</td>\n",
       "      <td>354</td>\n",
       "      <td>0</td>\n",
       "      <td>1</td>\n",
       "      <td>200</td>\n",
       "      <td>11</td>\n",
       "      <td>3</td>\n",
       "      <td>500.000000</td>\n",
       "      <td>0</td>\n",
       "    </tr>\n",
       "    <tr>\n",
       "      <th>4</th>\n",
       "      <td>-Andres Galarraga</td>\n",
       "      <td>321</td>\n",
       "      <td>87</td>\n",
       "      <td>10</td>\n",
       "      <td>39</td>\n",
       "      <td>42</td>\n",
       "      <td>30</td>\n",
       "      <td>2</td>\n",
       "      <td>396</td>\n",
       "      <td>101</td>\n",
       "      <td>...</td>\n",
       "      <td>48</td>\n",
       "      <td>46</td>\n",
       "      <td>33</td>\n",
       "      <td>0</td>\n",
       "      <td>1</td>\n",
       "      <td>805</td>\n",
       "      <td>40</td>\n",
       "      <td>4</td>\n",
       "      <td>91.500000</td>\n",
       "      <td>0</td>\n",
       "    </tr>\n",
       "  </tbody>\n",
       "</table>\n",
       "<p>5 rows × 21 columns</p>\n",
       "</div>"
      ],
      "text/plain": [
       "          Unnamed: 0  AtBat  Hits  HmRun  Runs  RBI  Walks  Years  CAtBat  \\\n",
       "0     -Andy Allanson    293    66      1    30   29     14      1     293   \n",
       "1        -Alan Ashby    315    81      7    24   38     39     14    3449   \n",
       "2       -Alvin Davis    479   130     18    66   72     76      3    1624   \n",
       "3      -Andre Dawson    496   141     20    65   78     37     11    5628   \n",
       "4  -Andres Galarraga    321    87     10    39   42     30      2     396   \n",
       "\n",
       "   CHits  ...  CRuns  CRBI  CWalks  League  Division  PutOuts  Assists  \\\n",
       "0     66  ...     30    29      14       1         1      446       33   \n",
       "1    835  ...    321   414     375       0         0      632       43   \n",
       "2    457  ...    224   266     263       1         0      880       82   \n",
       "3   1575  ...    828   838     354       0         1      200       11   \n",
       "4    101  ...     48    46      33       0         1      805       40   \n",
       "\n",
       "   Errors      Salary  NewLeague  \n",
       "0      20  535.925882          1  \n",
       "1      10  475.000000          0  \n",
       "2      14  480.000000          1  \n",
       "3       3  500.000000          0  \n",
       "4       4   91.500000          0  \n",
       "\n",
       "[5 rows x 21 columns]"
      ]
     },
     "execution_count": 157,
     "metadata": {},
     "output_type": "execute_result"
    }
   ],
   "source": [
    "raw00.head()"
   ]
  },
  {
   "cell_type": "code",
   "execution_count": 158,
   "metadata": {},
   "outputs": [
    {
     "data": {
      "text/html": [
       "<div>\n",
       "<style scoped>\n",
       "    .dataframe tbody tr th:only-of-type {\n",
       "        vertical-align: middle;\n",
       "    }\n",
       "\n",
       "    .dataframe tbody tr th {\n",
       "        vertical-align: top;\n",
       "    }\n",
       "\n",
       "    .dataframe thead th {\n",
       "        text-align: right;\n",
       "    }\n",
       "</style>\n",
       "<table border=\"1\" class=\"dataframe\">\n",
       "  <thead>\n",
       "    <tr style=\"text-align: right;\">\n",
       "      <th></th>\n",
       "      <th>Unnamed: 0</th>\n",
       "      <th>AtBat</th>\n",
       "      <th>Hits</th>\n",
       "      <th>HmRun</th>\n",
       "      <th>Runs</th>\n",
       "      <th>RBI</th>\n",
       "      <th>Walks</th>\n",
       "      <th>Years</th>\n",
       "      <th>CAtBat</th>\n",
       "      <th>CHits</th>\n",
       "      <th>...</th>\n",
       "      <th>CRuns</th>\n",
       "      <th>CRBI</th>\n",
       "      <th>CWalks</th>\n",
       "      <th>League</th>\n",
       "      <th>Division</th>\n",
       "      <th>PutOuts</th>\n",
       "      <th>Assists</th>\n",
       "      <th>Errors</th>\n",
       "      <th>NewLeague</th>\n",
       "      <th>Salary</th>\n",
       "    </tr>\n",
       "  </thead>\n",
       "  <tbody>\n",
       "    <tr>\n",
       "      <th>0</th>\n",
       "      <td>-Andy Allanson</td>\n",
       "      <td>293</td>\n",
       "      <td>66</td>\n",
       "      <td>1</td>\n",
       "      <td>30</td>\n",
       "      <td>29</td>\n",
       "      <td>14</td>\n",
       "      <td>1</td>\n",
       "      <td>293</td>\n",
       "      <td>66</td>\n",
       "      <td>...</td>\n",
       "      <td>30</td>\n",
       "      <td>29</td>\n",
       "      <td>14</td>\n",
       "      <td>1</td>\n",
       "      <td>1</td>\n",
       "      <td>446</td>\n",
       "      <td>33</td>\n",
       "      <td>20</td>\n",
       "      <td>1</td>\n",
       "      <td>535.925882</td>\n",
       "    </tr>\n",
       "    <tr>\n",
       "      <th>1</th>\n",
       "      <td>-Alan Ashby</td>\n",
       "      <td>315</td>\n",
       "      <td>81</td>\n",
       "      <td>7</td>\n",
       "      <td>24</td>\n",
       "      <td>38</td>\n",
       "      <td>39</td>\n",
       "      <td>14</td>\n",
       "      <td>3449</td>\n",
       "      <td>835</td>\n",
       "      <td>...</td>\n",
       "      <td>321</td>\n",
       "      <td>414</td>\n",
       "      <td>375</td>\n",
       "      <td>0</td>\n",
       "      <td>0</td>\n",
       "      <td>632</td>\n",
       "      <td>43</td>\n",
       "      <td>10</td>\n",
       "      <td>0</td>\n",
       "      <td>475.000000</td>\n",
       "    </tr>\n",
       "    <tr>\n",
       "      <th>2</th>\n",
       "      <td>-Alvin Davis</td>\n",
       "      <td>479</td>\n",
       "      <td>130</td>\n",
       "      <td>18</td>\n",
       "      <td>66</td>\n",
       "      <td>72</td>\n",
       "      <td>76</td>\n",
       "      <td>3</td>\n",
       "      <td>1624</td>\n",
       "      <td>457</td>\n",
       "      <td>...</td>\n",
       "      <td>224</td>\n",
       "      <td>266</td>\n",
       "      <td>263</td>\n",
       "      <td>1</td>\n",
       "      <td>0</td>\n",
       "      <td>880</td>\n",
       "      <td>82</td>\n",
       "      <td>14</td>\n",
       "      <td>1</td>\n",
       "      <td>480.000000</td>\n",
       "    </tr>\n",
       "    <tr>\n",
       "      <th>3</th>\n",
       "      <td>-Andre Dawson</td>\n",
       "      <td>496</td>\n",
       "      <td>141</td>\n",
       "      <td>20</td>\n",
       "      <td>65</td>\n",
       "      <td>78</td>\n",
       "      <td>37</td>\n",
       "      <td>11</td>\n",
       "      <td>5628</td>\n",
       "      <td>1575</td>\n",
       "      <td>...</td>\n",
       "      <td>828</td>\n",
       "      <td>838</td>\n",
       "      <td>354</td>\n",
       "      <td>0</td>\n",
       "      <td>1</td>\n",
       "      <td>200</td>\n",
       "      <td>11</td>\n",
       "      <td>3</td>\n",
       "      <td>0</td>\n",
       "      <td>500.000000</td>\n",
       "    </tr>\n",
       "    <tr>\n",
       "      <th>4</th>\n",
       "      <td>-Andres Galarraga</td>\n",
       "      <td>321</td>\n",
       "      <td>87</td>\n",
       "      <td>10</td>\n",
       "      <td>39</td>\n",
       "      <td>42</td>\n",
       "      <td>30</td>\n",
       "      <td>2</td>\n",
       "      <td>396</td>\n",
       "      <td>101</td>\n",
       "      <td>...</td>\n",
       "      <td>48</td>\n",
       "      <td>46</td>\n",
       "      <td>33</td>\n",
       "      <td>0</td>\n",
       "      <td>1</td>\n",
       "      <td>805</td>\n",
       "      <td>40</td>\n",
       "      <td>4</td>\n",
       "      <td>0</td>\n",
       "      <td>91.500000</td>\n",
       "    </tr>\n",
       "    <tr>\n",
       "      <th>...</th>\n",
       "      <td>...</td>\n",
       "      <td>...</td>\n",
       "      <td>...</td>\n",
       "      <td>...</td>\n",
       "      <td>...</td>\n",
       "      <td>...</td>\n",
       "      <td>...</td>\n",
       "      <td>...</td>\n",
       "      <td>...</td>\n",
       "      <td>...</td>\n",
       "      <td>...</td>\n",
       "      <td>...</td>\n",
       "      <td>...</td>\n",
       "      <td>...</td>\n",
       "      <td>...</td>\n",
       "      <td>...</td>\n",
       "      <td>...</td>\n",
       "      <td>...</td>\n",
       "      <td>...</td>\n",
       "      <td>...</td>\n",
       "      <td>...</td>\n",
       "    </tr>\n",
       "    <tr>\n",
       "      <th>317</th>\n",
       "      <td>-Willie McGee</td>\n",
       "      <td>497</td>\n",
       "      <td>127</td>\n",
       "      <td>7</td>\n",
       "      <td>65</td>\n",
       "      <td>48</td>\n",
       "      <td>37</td>\n",
       "      <td>5</td>\n",
       "      <td>2703</td>\n",
       "      <td>806</td>\n",
       "      <td>...</td>\n",
       "      <td>379</td>\n",
       "      <td>311</td>\n",
       "      <td>138</td>\n",
       "      <td>0</td>\n",
       "      <td>1</td>\n",
       "      <td>325</td>\n",
       "      <td>9</td>\n",
       "      <td>3</td>\n",
       "      <td>0</td>\n",
       "      <td>700.000000</td>\n",
       "    </tr>\n",
       "    <tr>\n",
       "      <th>318</th>\n",
       "      <td>-Willie Randolph</td>\n",
       "      <td>492</td>\n",
       "      <td>136</td>\n",
       "      <td>5</td>\n",
       "      <td>76</td>\n",
       "      <td>50</td>\n",
       "      <td>94</td>\n",
       "      <td>12</td>\n",
       "      <td>5511</td>\n",
       "      <td>1511</td>\n",
       "      <td>...</td>\n",
       "      <td>897</td>\n",
       "      <td>451</td>\n",
       "      <td>875</td>\n",
       "      <td>1</td>\n",
       "      <td>1</td>\n",
       "      <td>313</td>\n",
       "      <td>381</td>\n",
       "      <td>20</td>\n",
       "      <td>1</td>\n",
       "      <td>875.000000</td>\n",
       "    </tr>\n",
       "    <tr>\n",
       "      <th>319</th>\n",
       "      <td>-Wayne Tolleson</td>\n",
       "      <td>475</td>\n",
       "      <td>126</td>\n",
       "      <td>3</td>\n",
       "      <td>61</td>\n",
       "      <td>43</td>\n",
       "      <td>52</td>\n",
       "      <td>6</td>\n",
       "      <td>1700</td>\n",
       "      <td>433</td>\n",
       "      <td>...</td>\n",
       "      <td>217</td>\n",
       "      <td>93</td>\n",
       "      <td>146</td>\n",
       "      <td>1</td>\n",
       "      <td>0</td>\n",
       "      <td>37</td>\n",
       "      <td>113</td>\n",
       "      <td>7</td>\n",
       "      <td>1</td>\n",
       "      <td>385.000000</td>\n",
       "    </tr>\n",
       "    <tr>\n",
       "      <th>320</th>\n",
       "      <td>-Willie Upshaw</td>\n",
       "      <td>573</td>\n",
       "      <td>144</td>\n",
       "      <td>9</td>\n",
       "      <td>85</td>\n",
       "      <td>60</td>\n",
       "      <td>78</td>\n",
       "      <td>8</td>\n",
       "      <td>3198</td>\n",
       "      <td>857</td>\n",
       "      <td>...</td>\n",
       "      <td>470</td>\n",
       "      <td>420</td>\n",
       "      <td>332</td>\n",
       "      <td>1</td>\n",
       "      <td>1</td>\n",
       "      <td>1314</td>\n",
       "      <td>131</td>\n",
       "      <td>12</td>\n",
       "      <td>1</td>\n",
       "      <td>960.000000</td>\n",
       "    </tr>\n",
       "    <tr>\n",
       "      <th>321</th>\n",
       "      <td>-Willie Wilson</td>\n",
       "      <td>631</td>\n",
       "      <td>170</td>\n",
       "      <td>9</td>\n",
       "      <td>77</td>\n",
       "      <td>44</td>\n",
       "      <td>31</td>\n",
       "      <td>11</td>\n",
       "      <td>4908</td>\n",
       "      <td>1457</td>\n",
       "      <td>...</td>\n",
       "      <td>775</td>\n",
       "      <td>357</td>\n",
       "      <td>249</td>\n",
       "      <td>1</td>\n",
       "      <td>0</td>\n",
       "      <td>408</td>\n",
       "      <td>4</td>\n",
       "      <td>3</td>\n",
       "      <td>1</td>\n",
       "      <td>1000.000000</td>\n",
       "    </tr>\n",
       "  </tbody>\n",
       "</table>\n",
       "<p>322 rows × 21 columns</p>\n",
       "</div>"
      ],
      "text/plain": [
       "            Unnamed: 0  AtBat  Hits  HmRun  Runs  RBI  Walks  Years  CAtBat  \\\n",
       "0       -Andy Allanson    293    66      1    30   29     14      1     293   \n",
       "1          -Alan Ashby    315    81      7    24   38     39     14    3449   \n",
       "2         -Alvin Davis    479   130     18    66   72     76      3    1624   \n",
       "3        -Andre Dawson    496   141     20    65   78     37     11    5628   \n",
       "4    -Andres Galarraga    321    87     10    39   42     30      2     396   \n",
       "..                 ...    ...   ...    ...   ...  ...    ...    ...     ...   \n",
       "317      -Willie McGee    497   127      7    65   48     37      5    2703   \n",
       "318   -Willie Randolph    492   136      5    76   50     94     12    5511   \n",
       "319    -Wayne Tolleson    475   126      3    61   43     52      6    1700   \n",
       "320     -Willie Upshaw    573   144      9    85   60     78      8    3198   \n",
       "321     -Willie Wilson    631   170      9    77   44     31     11    4908   \n",
       "\n",
       "     CHits  ...  CRuns  CRBI  CWalks  League  Division  PutOuts  Assists  \\\n",
       "0       66  ...     30    29      14       1         1      446       33   \n",
       "1      835  ...    321   414     375       0         0      632       43   \n",
       "2      457  ...    224   266     263       1         0      880       82   \n",
       "3     1575  ...    828   838     354       0         1      200       11   \n",
       "4      101  ...     48    46      33       0         1      805       40   \n",
       "..     ...  ...    ...   ...     ...     ...       ...      ...      ...   \n",
       "317    806  ...    379   311     138       0         1      325        9   \n",
       "318   1511  ...    897   451     875       1         1      313      381   \n",
       "319    433  ...    217    93     146       1         0       37      113   \n",
       "320    857  ...    470   420     332       1         1     1314      131   \n",
       "321   1457  ...    775   357     249       1         0      408        4   \n",
       "\n",
       "     Errors  NewLeague       Salary  \n",
       "0        20          1   535.925882  \n",
       "1        10          0   475.000000  \n",
       "2        14          1   480.000000  \n",
       "3         3          0   500.000000  \n",
       "4         4          0    91.500000  \n",
       "..      ...        ...          ...  \n",
       "317       3          0   700.000000  \n",
       "318      20          1   875.000000  \n",
       "319       7          1   385.000000  \n",
       "320      12          1   960.000000  \n",
       "321       3          1  1000.000000  \n",
       "\n",
       "[322 rows x 21 columns]"
      ]
     },
     "execution_count": 158,
     "metadata": {},
     "output_type": "execute_result"
    }
   ],
   "source": [
    "raw00[[c for c in raw00 if c not in ['Salary', 'NewLeague']] \n",
    "       + ['NewLeague', 'Salary']]"
   ]
  },
  {
   "cell_type": "markdown",
   "metadata": {},
   "source": [
    "### <font color='purple'> 2. Performing LASSO and CV/AIC/BIC Regression"
   ]
  },
  {
   "cell_type": "code",
   "execution_count": 159,
   "metadata": {},
   "outputs": [],
   "source": [
    "raw00 = raw00.iloc[:,1:].values\n",
    "Y = raw00[:,-1]\n",
    "X = raw00[:,1:-1]"
   ]
  },
  {
   "cell_type": "code",
   "execution_count": 160,
   "metadata": {},
   "outputs": [],
   "source": [
    "from sklearn.preprocessing import StandardScaler\n",
    "\n",
    "scaler = StandardScaler()\n",
    "scaler.fit(X)\n",
    "Xn = scaler.transform(X)\n"
   ]
  },
  {
   "cell_type": "code",
   "execution_count": 161,
   "metadata": {},
   "outputs": [],
   "source": [
    "import matplotlib.pyplot as plt\n",
    "from sklearn.linear_model import lasso_path\n",
    "from itertools import cycle"
   ]
  },
  {
   "cell_type": "code",
   "execution_count": 162,
   "metadata": {},
   "outputs": [],
   "source": [
    "eps = .001\n",
    "alphas_lasso, coefs_lasso, _ = lasso_path(Xn, Y, eps = eps)"
   ]
  },
  {
   "cell_type": "code",
   "execution_count": 163,
   "metadata": {},
   "outputs": [
    {
     "data": {
      "image/png": "[encoded data removed]",
      "text/plain": [
       "<Figure size 640x560 with 1 Axes>"
      ]
     },
     "metadata": {
      "needs_background": "light"
     },
     "output_type": "display_data"
    }
   ],
   "source": [
    "# Display the solution path\n",
    "plt.figure(figsize=(8, 7), dpi=80)\n",
    "colors = cycle(['b', 'r', 'g','orange', 'purple', 'brown', 'pink', 'c','m', 'y', 'k'])\n",
    "\n",
    "# Take the log of the alpha values to adjust the scale of X-axis\n",
    "log_alphas_lasso = np.log10(alphas_lasso) \n",
    "\n",
    "# Use a for-loop to plot several paths on a figure \n",
    "# Zip temporarily holds the values in ()\n",
    "## Coef_L grabs a row for a coefficient at each lasso\n",
    "for coef_l, c, vn in zip(coefs_lasso, colors, varname):\n",
    "    l1 = plt.plot(log_alphas_lasso, coef_l, c=c, label=vn)\n",
    "    \n",
    "plt.xlabel('Log(alpha)')\n",
    "plt.ylabel('Coefficient Estimtes')\n",
    "plt.title('Lasso Solution Path')\n",
    "plt.legend()\n",
    "plt.savefig('lassopath.png')\n",
    "plt.show()"
   ]
  },
  {
   "cell_type": "code",
   "execution_count": 164,
   "metadata": {},
   "outputs": [],
   "source": [
    "t1 = time.time() # Get the current time\n",
    "lascv = LassoLarsCV(cv=10).fit(Xn, Y)\n",
    "t_lasso_lars_cv = time.time() - t1 # Calculate running time"
   ]
  },
  {
   "cell_type": "code",
   "execution_count": 61,
   "metadata": {},
   "outputs": [
    {
     "data": {
      "image/png": "[encoded data removed]",
      "text/plain": [
       "<Figure size 640x560 with 1 Axes>"
      ]
     },
     "metadata": {
      "needs_background": "light"
     },
     "output_type": "display_data"
    }
   ],
   "source": [
    "# Display the results\n",
    "eps = 5e-10\n",
    "\n",
    "# cv_alphas : set of lambda values used\n",
    "# alpha: The best one\n",
    "\n",
    "lascv_log_alphas = np.log10(lascv.cv_alphas_ + eps) \n",
    "lascv_log_alpha = np.log10(lascv.alpha_)\n",
    "# Caution: lascv.alphas contains the alpha at the lowest MSE whereas lascv.cv_alphas_ contains the set of alphas used in the path\n",
    "# The smallest value in lascv.cv_alphas_ is 0 so we add eps (a small number) to avoid log(0)\n",
    "\n",
    "plt.figure(figsize=(8, 7), dpi=80)\n",
    "plt.plot(lascv_log_alphas, lascv.mse_path_.mean(axis=1), 'k',\n",
    "         label='Average of the MSEs over the Folds', linewidth=2)\n",
    "plt.axvline(lascv_log_alpha, linestyle='--', color='k',\n",
    "            label='alpha selected by CV')\n",
    "plt.legend()\n",
    "\n",
    "plt.xlabel('Log(alpha)')\n",
    "plt.ylabel('Mean Square Error')\n",
    "plt.title('Model Selection by Cross Validation (train time: %.2fs)'\n",
    "          % t_lasso_lars_cv)\n",
    "plt.show()"
   ]
  },
  {
   "cell_type": "code",
   "execution_count": 62,
   "metadata": {},
   "outputs": [
    {
     "name": "stdout",
     "output_type": "stream",
     "text": [
      "[0.    0.    0.    0.    0.    0.    0.    0.    0.    0.    0.    0.\n",
      " 0.425 0.    0.    0.    0.    0.   ]\n"
     ]
    }
   ],
   "source": [
    "print(lascv.coef_)"
   ]
  },
  {
   "cell_type": "code",
   "execution_count": 63,
   "metadata": {},
   "outputs": [
    {
     "name": "stdout",
     "output_type": "stream",
     "text": [
      "153.32574771974558\n",
      "193.02386744645017\n"
     ]
    },
    {
     "data": {
      "image/png": "[encoded data removed]",
      "text/plain": [
       "<Figure size 640x560 with 1 Axes>"
      ]
     },
     "metadata": {
      "needs_background": "light"
     },
     "output_type": "display_data"
    }
   ],
   "source": [
    "# Display results\n",
    "# make a fn to produce figures with the same features repeatedly\n",
    "\n",
    "LassoAIC = 0\n",
    "LassoBIC = 0\n",
    "\n",
    "def plot_ic_criterion(model, name, color): \n",
    "    # alpha - the best one\n",
    "    alpha_ = model.alpha_ + eps\n",
    "    alphas_ = model.alphas_ + eps\n",
    "    criterion_ = model.criterion_ # BIC or AIC values over the alpha values\n",
    "    plt.plot(np.log10(alphas_), criterion_, '--', color=color,\n",
    "             linewidth=3, label='%s' % name)\n",
    "    plt.axvline(np.log10(alpha_), color=color, linewidth=3,\n",
    "                label='$\\lambda$ selected by %s ' % name)\n",
    "    plt.xlabel('Log($\\lambda$)')\n",
    "    plt.ylabel('Criterion Value')\n",
    "    return np.min(criterion_)\n",
    "    \n",
    "## AIC tends to choose a smaller lambda/ more complex model\n",
    "plt.figure(figsize=(8, 7), dpi=80)\n",
    "LassoAIC = plot_ic_criterion(lasic_aic, 'AIC', 'b')\n",
    "print(LassoAIC)\n",
    "LassoBIC = plot_ic_criterion(lasic_bic, 'BIC', 'r')\n",
    "print(LassoBIC)\n",
    "plt.legend()\n",
    "plt.title('Model Selection by Information Criteria')\n",
    "#plt.show()\n",
    "plt.savefig('lasso.png')"
   ]
  },
  {
   "cell_type": "code",
   "execution_count": 64,
   "metadata": {},
   "outputs": [
    {
     "name": "stdout",
     "output_type": "stream",
     "text": [
      "[ 0.     0.     0.     0.258  0.     2.883  0.     0.     0.     0.\n",
      " -1.501  0.408 -3.59 ]\n"
     ]
    }
   ],
   "source": [
    "print(lasic_bic.coef_)"
   ]
  },
  {
   "cell_type": "code",
   "execution_count": 65,
   "metadata": {},
   "outputs": [
    {
     "name": "stdout",
     "output_type": "stream",
     "text": [
      "[-0.887  1.014  0.     0.685 -1.946  2.692  0.    -3.032  2.394 -1.812\n",
      " -2.028  0.835 -3.728]\n"
     ]
    }
   ],
   "source": [
    "print(lasic_aic.coef_)"
   ]
  },
  {
   "cell_type": "markdown",
   "metadata": {},
   "source": [
    "### <font color='purple'> 3. Performing Forward Selection"
   ]
  },
  {
   "cell_type": "code",
   "execution_count": 66,
   "metadata": {},
   "outputs": [],
   "source": [
    "import statsmodels.api as sm\n",
    "# Code for forward selection based on BIC\n",
    "ncol=Xn.shape[1]\n",
    "\n",
    "pcand = list(range(ncol)) # A list to keep track of the set of predictors left to add to the model at each iteration\n",
    "psel = [] # A list to keep track of the selected predictors at each iteration (the order of the selected predictors)\n",
    "tb = np.zeros(ncol) # A vector to store the BIC of the selected model at each iteration\n",
    "p = 0 # Iteration idex\n",
    "\n",
    "while len(psel) != ncol: # Repeat below until the model includes all the predictors\n",
    "    tb0 = np.zeros((len(pcand),2)) # Store Rsquare(s) and BIC(s) of the models under consideration at each iteration\n",
    "\n",
    "    for i in range(0,len(pcand)):\n",
    "        psel0 = psel + [pcand[i]] # \"psel0\" is a temporary version of psel which includes one of the predictors in pcan and those in psel\n",
    "        # Caution: \"+\" combines two lists, but not a list and an integer (i.e pcan[i])\n",
    "        #psel0 includes column number - variables associated with column numbers\n",
    "        XX = Xn[:,psel0]\n",
    "        XX = sm.add_constant(XX)\n",
    "        model = sm.OLS(Y, XX)\n",
    "        res = model.fit()\n",
    "        tb0[i,:] = [res.rsquared, res.bic]\n",
    "    \n",
    "    ind = np.argmax(tb0[:,0]) # Find the regressor that results in the largest Rsquare when added to the model\n",
    "    psel = psel + [pcand[ind]] # Add the selected regressor to psel\n",
    "    pcand.remove(pcand[ind]) # Remove the selected regressor from pcand\n",
    "    tb[p] =  tb0[ind,1] # Store the BIC of the selected model at this iteration\n",
    "    p += 1"
   ]
  },
  {
   "cell_type": "code",
   "execution_count": 67,
   "metadata": {},
   "outputs": [
    {
     "data": {
      "text/plain": [
       "[12]"
      ]
     },
     "execution_count": 67,
     "metadata": {},
     "output_type": "execute_result"
    }
   ],
   "source": [
    "# Select the model that has the smallest BIC among the selected models over the iterations\n",
    "psel[:(np.argmin(tb)+1)]"
   ]
  },
  {
   "cell_type": "code",
   "execution_count": 68,
   "metadata": {},
   "outputs": [
    {
     "data": {
      "text/plain": [
       "51.920116959680996"
      ]
     },
     "execution_count": 68,
     "metadata": {},
     "output_type": "execute_result"
    }
   ],
   "source": [
    "ForwardBICNumber = len(psel[:(np.argmin(tb)+1)])\n",
    "#print(ForwardBICNumber)\n",
    "\n",
    "ForwardBIC = tb[psel[:(np.argmin(tb))]]\n",
    "ForwardBIC = tb[12]\n",
    "\n",
    "ForwardBIC"
   ]
  },
  {
   "cell_type": "code",
   "execution_count": 69,
   "metadata": {},
   "outputs": [],
   "source": [
    "import statsmodels.api as sm\n",
    "# Code for forward selection based on BIC\n",
    "ncol=Xn.shape[1]\n",
    "\n",
    "pcand = list(range(ncol)) # A list to keep track of the set of predictors left to add to the model at each iteration\n",
    "psel = [] # A list to keep track of the selected predictors at each iteration (the order of the selected predictors)\n",
    "tb = np.zeros(ncol) # A vector to store the BIC of the selected model at each iteration\n",
    "p = 0 # Iteration idex\n",
    "\n",
    "while len(psel) != ncol: # Repeat below until the model includes all the predictors\n",
    "    tb0 = np.zeros((len(pcand),2)) # Store Rsquare(s) and BIC(s) of the models under consideration at each iteration\n",
    "\n",
    "    for i in range(0,len(pcand)):\n",
    "        psel0 = psel + [pcand[i]] # \"psel0\" is a temporary version of psel which includes one of the predictors in pcan and those in psel\n",
    "        # Caution: \"+\" combines two lists, but not a list and an integer (i.e pcan[i])\n",
    "        #psel0 includes column number - variables associated with column numbers\n",
    "        XX = Xn[:,psel0]\n",
    "        XX = sm.add_constant(XX)\n",
    "        model = sm.OLS(Y, XX)\n",
    "        res = model.fit()\n",
    "        tb0[i,:] = [res.rsquared, res.aic]\n",
    "    \n",
    "    ind = np.argmax(tb0[:,0]) # Find the regressor that results in the largest Rsquare when added to the model\n",
    "    psel = psel + [pcand[ind]] # Add the selected regressor to psel\n",
    "    pcand.remove(pcand[ind]) # Remove the selected regressor from pcand\n",
    "    tb[p] =  tb0[ind,1] # Store the BIC of the selected model at this iteration\n",
    "    p += 1"
   ]
  },
  {
   "cell_type": "code",
   "execution_count": 70,
   "metadata": {},
   "outputs": [
    {
     "data": {
      "text/plain": [
       "[12, 0, 1, 16, 2, 4, 11, 7, 9, 5, 10, 8, 13, 17, 6, 15, 3, 14]"
      ]
     },
     "execution_count": 70,
     "metadata": {},
     "output_type": "execute_result"
    }
   ],
   "source": [
    "psel"
   ]
  },
  {
   "cell_type": "code",
   "execution_count": 71,
   "metadata": {},
   "outputs": [
    {
     "data": {
      "text/plain": [
       "[12]"
      ]
     },
     "execution_count": 71,
     "metadata": {},
     "output_type": "execute_result"
    }
   ],
   "source": [
    "# Select the model that has the smallest AIC among the selected models over the iterations\n",
    "psel[:(np.argmin(tb)+1)]"
   ]
  },
  {
   "cell_type": "code",
   "execution_count": 72,
   "metadata": {},
   "outputs": [],
   "source": [
    "ForwardAICNumber = len(psel[:(np.argmin(tb)+1)])\n",
    "#ForwardAICNumber\n",
    "\n",
    "ForwardAIC = tb[psel[:(np.argmin(tb))]]\n",
    "ForwardAIC = tb[12]\n",
    "\n",
    "\n"
   ]
  },
  {
   "cell_type": "markdown",
   "metadata": {},
   "source": [
    "### <font color='purple'> 4. Performing Backward Selection"
   ]
  },
  {
   "cell_type": "code",
   "execution_count": 97,
   "metadata": {},
   "outputs": [],
   "source": [
    "pcand = list(range(ncol)) \n",
    "psel = [] \n",
    "tb = np.zeros(ncol) \n",
    "p = 0 \n",
    "\n",
    "while len(psel) != ncol: \n",
    "    tb0 = np.zeros((len(pcand),2)) \n",
    "\n",
    "    for i in range(0,len(pcand)):\n",
    "        psel0 = pcand.copy() # line 1\n",
    "        psel0.remove(psel0[i]) # line 2\n",
    "        XX = X[:,psel0]\n",
    "        XX = sm.add_constant(XX)\n",
    "        res = sm.OLS(Y, XX).fit()\n",
    "        tb0[i,:] = [res.rsquared, res.bic]\n",
    "    \n",
    "    ind = np.argmax(tb0[:,0]) \n",
    "    psel = psel + [pcand[ind]] \n",
    "    pcand.remove(pcand[ind]) \n",
    "    tb[p] =  tb0[ind,1] \n",
    "    p += 1\n"
   ]
  },
  {
   "cell_type": "code",
   "execution_count": 98,
   "metadata": {},
   "outputs": [],
   "source": [
    "pselr = psel[:(np.argmin(tb)+1)]"
   ]
  },
  {
   "cell_type": "code",
   "execution_count": 113,
   "metadata": {},
   "outputs": [
    {
     "data": {
      "text/plain": [
       "6.867425552494975"
      ]
     },
     "execution_count": 113,
     "metadata": {},
     "output_type": "execute_result"
    }
   ],
   "source": [
    "BackwardBICNumber = len(psel) - len(psel[:(np.argmin(tb)+1)])\n",
    "#BackwardBICNumber\n",
    "\n",
    "#list(set(psel) - set(pselr))\n",
    "\n",
    "BackwardBIC = tb[13]\n",
    "BackwardBIC\n"
   ]
  },
  {
   "cell_type": "code",
   "execution_count": 181,
   "metadata": {},
   "outputs": [
    {
     "ename": "AttributeError",
     "evalue": "'int' object has no attribute 'copy'",
     "output_type": "error",
     "traceback": [
      "\u001b[1;31m---------------------------------------------------------------------------\u001b[0m",
      "\u001b[1;31mAttributeError\u001b[0m                            Traceback (most recent call last)",
      "\u001b[1;32m<ipython-input-181-0acf9d7d0216>\u001b[0m in \u001b[0;36m<module>\u001b[1;34m\u001b[0m\n\u001b[0;32m      8\u001b[0m \u001b[1;33m\u001b[0m\u001b[0m\n\u001b[0;32m      9\u001b[0m     \u001b[1;32mfor\u001b[0m \u001b[0mi\u001b[0m \u001b[1;32min\u001b[0m \u001b[0mrange\u001b[0m\u001b[1;33m(\u001b[0m\u001b[1;36m0\u001b[0m\u001b[1;33m,\u001b[0m\u001b[1;36m18\u001b[0m\u001b[1;33m)\u001b[0m\u001b[1;33m:\u001b[0m\u001b[1;33m\u001b[0m\u001b[1;33m\u001b[0m\u001b[0m\n\u001b[1;32m---> 10\u001b[1;33m         \u001b[0mpsel0\u001b[0m \u001b[1;33m=\u001b[0m \u001b[0mpcand\u001b[0m\u001b[1;33m.\u001b[0m\u001b[0mcopy\u001b[0m\u001b[1;33m(\u001b[0m\u001b[1;33m)\u001b[0m \u001b[1;31m# line 1\u001b[0m\u001b[1;33m\u001b[0m\u001b[1;33m\u001b[0m\u001b[0m\n\u001b[0m\u001b[0;32m     11\u001b[0m         \u001b[0mpsel0\u001b[0m\u001b[1;33m.\u001b[0m\u001b[0mremove\u001b[0m\u001b[1;33m(\u001b[0m\u001b[0mpsel0\u001b[0m\u001b[1;33m[\u001b[0m\u001b[0mi\u001b[0m\u001b[1;33m]\u001b[0m\u001b[1;33m)\u001b[0m \u001b[1;31m# line 2\u001b[0m\u001b[1;33m\u001b[0m\u001b[1;33m\u001b[0m\u001b[0m\n\u001b[0;32m     12\u001b[0m         \u001b[0mXX\u001b[0m \u001b[1;33m=\u001b[0m \u001b[0mX\u001b[0m\u001b[1;33m[\u001b[0m\u001b[1;33m:\u001b[0m\u001b[1;33m,\u001b[0m\u001b[0mpsel0\u001b[0m\u001b[1;33m]\u001b[0m\u001b[1;33m\u001b[0m\u001b[1;33m\u001b[0m\u001b[0m\n",
      "\u001b[1;31mAttributeError\u001b[0m: 'int' object has no attribute 'copy'"
     ]
    }
   ],
   "source": [
    "pcand = list(range(ncol)) \n",
    "psel = [] \n",
    "tb = np.zeros(ncol) \n",
    "p = 0 \n",
    "\n",
    "while len(psel) != ncol: \n",
    "    tb0 = np.zeros((len(pcand),2)) \n",
    "\n",
    "    for i in range(0,len(pcand)):\n",
    "        psel0 = pcand.copy() # line 1\n",
    "        psel0.remove(psel0[i]) # line 2\n",
    "        XX = X[:,psel0]\n",
    "        XX = sm.add_constant(XX)\n",
    "        res = sm.OLS(Y, XX).fit()\n",
    "        tb0[i,:] = [res.rsquared, res.aic]\n",
    "    \n",
    "    ind = np.argmax(tb0[:,0]) \n",
    "    psel = psel + [pcand[ind]] \n",
    "    pcand.remove(pcand[ind]) \n",
    "    tb[p] =  tb0[ind,1] \n",
    "    p += 1"
   ]
  },
  {
   "cell_type": "code",
   "execution_count": 169,
   "metadata": {},
   "outputs": [
    {
     "data": {
      "text/plain": [
       "[0, 14, 3, 2, 15, 6, 17, 13, 11, 1, 5, 8, 10, 16, 4, 9, 7]"
      ]
     },
     "execution_count": 169,
     "metadata": {},
     "output_type": "execute_result"
    }
   ],
   "source": [
    "psel[:(np.argmin(tb)+1)]"
   ]
  },
  {
   "cell_type": "code",
   "execution_count": 170,
   "metadata": {},
   "outputs": [
    {
     "name": "stdout",
     "output_type": "stream",
     "text": [
      "[0, 14, 3, 2, 15, 6, 17, 13, 11, 1, 5, 8, 10, 16, 4, 9, 7, 12]\n"
     ]
    }
   ],
   "source": [
    "print(psel)"
   ]
  },
  {
   "cell_type": "code",
   "execution_count": 175,
   "metadata": {},
   "outputs": [
    {
     "data": {
      "text/plain": [
       "6.867425552494975"
      ]
     },
     "execution_count": 175,
     "metadata": {},
     "output_type": "execute_result"
    }
   ],
   "source": [
    "BackwardAICNumber = len(psel) - len(psel[:(np.argmin(tb)+1)])\n",
    "BackwardAICNumber\n",
    "\n",
    "BackwardAIC = tb[13]\n",
    "BackwardAIC "
   ]
  },
  {
   "cell_type": "markdown",
   "metadata": {},
   "source": [
    "### <font color='purple'> 5. Results"
   ]
  },
  {
   "cell_type": "code",
   "execution_count": 176,
   "metadata": {},
   "outputs": [
    {
     "name": "stdout",
     "output_type": "stream",
     "text": [
      "************************BIC************************\n",
      "Lasso - Coefficients: 1  - BIC:  193.02386744645017\n",
      "Forward - Coefficients:  1  - BIC:  51.920116959680996\n",
      "Backwards - Coefficients:  1  - BIC:  6.867425552494975\n",
      "************************AIC************************\n",
      "Lasso - Coefficients: 1  -  AIC:  153.32574771974558\n",
      "Forward - Coefficients:  1  - AIC:  -0.9236046779407161\n",
      "Backwards - Coefficients:  1  - AIC:  6.867425552494975\n"
     ]
    }
   ],
   "source": [
    "np.set_printoptions(precision=10)\n",
    "\n",
    "print('************************BIC************************')\n",
    "\n",
    "print('Lasso - Coefficients: 1  - BIC: ', LassoBIC)\n",
    "print('Forward - Coefficients: ', ForwardBICNumber, ' - BIC: ', ForwardBIC)\n",
    "print('Backwards - Coefficients: ', BackwardBICNumber, ' - BIC: ', BackwardBIC)\n",
    "\n",
    "print('************************AIC************************')\n",
    "\n",
    "print('Lasso - Coefficients: 1  -  AIC: ', LassoAIC)\n",
    "print('Forward - Coefficients: ', ForwardAICNumber, ' - AIC: ', ForwardAIC)\n",
    "print('Backwards - Coefficients: ', BackwardAICNumber, ' - AIC: ', BackwardAIC)"
   ]
  },
  {
   "cell_type": "code",
   "execution_count": null,
   "metadata": {},
   "outputs": [],
   "source": []
  }
 ],
 "metadata": {
  "kernelspec": {
   "display_name": "Python 3",
   "language": "python",
   "name": "python3"
  },
  "language_info": {
   "codemirror_mode": {
    "name": "ipython",
    "version": 3
   },
   "file_extension": ".py",
   "mimetype": "text/x-python",
   "name": "python",
   "nbconvert_exporter": "python",
   "pygments_lexer": "ipython3",
   "version": "3.8.8"
  }
 },
 "nbformat": 4,
 "nbformat_minor": 2
}
