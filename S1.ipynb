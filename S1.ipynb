{
 "cells": [
  {
   "cell_type": "code",
   "execution_count": null,
   "metadata": {},
   "outputs": [],
   "source": [
    "import os\n",
    "os.chdir('/Users/hj020/Desktop/2022/EconomicAnalytics-master/Python_/Data')\n",
    "# Set up a working directory to the folder where your datasets are included\n",
    "# The figures, etc that are produced from your program will be stored in the folder as well"
   ]
  },
  {
   "cell_type": "code",
   "execution_count": null,
   "metadata": {},
   "outputs": [],
   "source": [
    "# install modules and packages\n",
    "import numpy as np # module for data manipulation (similar to matlab)\n",
    "import pandas as pd # module for data manipulation (similar to stata)\n",
    "import math # math fns"
   ]
  },
  {
   "cell_type": "code",
   "execution_count": null,
   "metadata": {},
   "outputs": [],
   "source": [
    "# load data using pd.read_csv (data.csv will be uploaded to your workspace)\n",
    "raw0 = pd.read_csv('data0.csv')"
   ]
  },
  {
   "cell_type": "markdown",
   "metadata": {},
   "source": [
    "### <font color='green'> Differences between Numpy and Panda </font>\n",
    "https://discuss.codecademy.com/t/what-are-some-differences-between-pandas-numpy-and-matplotlib/354475\n",
    "\n",
    "\n",
    "* The biggest difference is that Panda creates and uses tabular data (\"Panda Frame\" table form -> user friendly) that can be easily visualized. However it accompanies many built-in functions (e.g. row, column names) it may be very slow in optimization/computation. In contrast, Numpy create and uses very simple numerical arrays (e.g. vector and matrix) that are superior in mathmatical/numerical computation.\n",
    "\n",
    "\n",
    "* We will learn how to convert panda dataframe to numpy array using raw0.values, and see the differences between the two in accessing and manipulating data."
   ]
  },
  {
   "cell_type": "code",
   "execution_count": null,
   "metadata": {},
   "outputs": [],
   "source": [
    "# check how data is uploaded \n",
    "# the column for observation numbers and the row for variable names are not part of data\n",
    "# Python index starts from 0 (0-indexed)\n",
    "raw0.head()"
   ]
  },
  {
   "cell_type": "code",
   "execution_count": null,
   "metadata": {},
   "outputs": [],
   "source": [
    "raw0.values"
   ]
  },
  {
   "cell_type": "code",
   "execution_count": null,
   "metadata": {},
   "outputs": [],
   "source": [
    "# drop missing values\n",
    "raw0=raw0.dropna()"
   ]
  },
  {
   "cell_type": "code",
   "execution_count": null,
   "metadata": {},
   "outputs": [],
   "source": [
    "# check the length of data (= n)\n",
    "len(raw0)"
   ]
  },
  {
   "cell_type": "code",
   "execution_count": null,
   "metadata": {},
   "outputs": [],
   "source": [
    "# check the shape of data (n,p)\n",
    "raw0.shape"
   ]
  },
  {
   "cell_type": "markdown",
   "metadata": {},
   "source": [
    "### <font color='green'> Datatypes\n",
    "https://pbpython.com/pandas_dtypes.html\n",
    "    \n",
    "https://docs.python.org/3/tutorial/floatingpoint.html\n",
    "\n",
    "* Most frequently used types are integer, float (similar to decimal number; see the second reference for more information about float) and string.\n",
    "\n",
    "* Each type takes different space in computer and some function only work for specific types, so sometimes we need to change the type of data."
   ]
  },
  {
   "cell_type": "code",
   "execution_count": null,
   "metadata": {},
   "outputs": [],
   "source": [
    "# check the datatypes of data\n",
    "raw0.dtypes"
   ]
  },
  {
   "cell_type": "code",
   "execution_count": null,
   "metadata": {},
   "outputs": [],
   "source": [
    "# change data types (census, traffic and blacktract to integer)\n",
    "# astype() produces a copy so the copy should be assigned to the column of the original data for the change to be effective\n",
    "raw0['census'] = raw0.census.astype(int)\n",
    "raw0['traffic'] = raw0.traffic.astype(int)\n",
    "raw0['blacktract'] = raw0.blacktract.astype(int)"
   ]
  },
  {
   "cell_type": "code",
   "execution_count": null,
   "metadata": {},
   "outputs": [],
   "source": [
    "# check the datatypes of data again\n",
    "raw0.dtypes"
   ]
  },
  {
   "cell_type": "markdown",
   "metadata": {},
   "source": [
    "### <font color='green'> Accessing/selecting row(s), column(s) and cell(s) in Panda\n",
    "https://www.shanelynn.ie/select-pandas-dataframe-rows-and-columns-using-iloc-loc-and-ix/\n",
    "\n",
    "https://towardsdatascience.com/a-python-beginners-look-at-loc-part-1-cb1e1e565ec2\n",
    "    \n",
    "* iloc - locate data points based on \"updated\" row \\& column numbers when some rows or columns are removed \n",
    "* using variable name - locate data points based on \"original\" row \\& column numbers assigned when data was read\n",
    "* loc - useful when selecting rows or columns that satisfies certain conditions (e.g. >, ==)"
   ]
  },
  {
   "cell_type": "code",
   "execution_count": null,
   "metadata": {},
   "outputs": [],
   "source": [
    "# select a cell using iloc\n",
    "raw0.iloc[1, 0]"
   ]
  },
  {
   "cell_type": "code",
   "execution_count": null,
   "metadata": {},
   "outputs": [],
   "source": [
    "raw0.iloc[99277,0] \n",
    "# the last element in a list can be accessed using index -1 (this, however, doesn't work when variable name is used to select a column)"
   ]
  },
  {
   "cell_type": "code",
   "execution_count": null,
   "metadata": {},
   "outputs": [],
   "source": [
    "# access a part of a string in a cell using iloc\n",
    "raw0.iloc[0, 0][2]"
   ]
  },
  {
   "cell_type": "code",
   "execution_count": null,
   "metadata": {},
   "outputs": [],
   "source": [
    "# select a column using a variable name\n",
    "raw0[['date','census']]"
   ]
  },
  {
   "cell_type": "code",
   "execution_count": null,
   "metadata": {},
   "outputs": [],
   "source": [
    "# access a part of a string in cell\n",
    "raw0['date'][0][:3]"
   ]
  },
  {
   "cell_type": "code",
   "execution_count": null,
   "metadata": {},
   "outputs": [],
   "source": [
    "raw0['date'][102509]"
   ]
  },
  {
   "cell_type": "markdown",
   "metadata": {},
   "source": [
    "### <font color='red'> In-Class Exercise 1: Creating a dummy for person's gender\n",
    "\n",
    "* We want to create a dummy variable that assigns 1 if driver is female (F), 0 otherwise"
   ]
  },
  {
   "cell_type": "code",
   "execution_count": null,
   "metadata": {},
   "outputs": [],
   "source": [
    "# check a list of unque elements (categories)\n",
    "set(raw0['person_gender'])"
   ]
  },
  {
   "cell_type": "markdown",
   "metadata": {},
   "source": [
    "### <font color='green'> Important Operators in Python\n",
    "https://www.programiz.com/python-programming/operators\n",
    "    \n",
    "https://www.geeksforgeeks.org/python-operators/\n",
    "    \n",
    "* Arithmetic\n",
    "* Logical/Identity/Comparison\n",
    "* Assignment"
   ]
  },
  {
   "cell_type": "code",
   "execution_count": null,
   "metadata": {},
   "outputs": [],
   "source": [
    "raw0.person_gender == 'F'"
   ]
  },
  {
   "cell_type": "code",
   "execution_count": null,
   "metadata": {},
   "outputs": [],
   "source": [
    "raw0.person_gender == 'M'"
   ]
  },
  {
   "cell_type": "code",
   "execution_count": null,
   "metadata": {},
   "outputs": [],
   "source": [
    "(raw0.person_gender == 'F') | (raw0.person_gender == 'M')"
   ]
  },
  {
   "cell_type": "code",
   "execution_count": null,
   "metadata": {},
   "outputs": [],
   "source": [
    "# remove the rows with \"u\"\n",
    "raw0 = raw0.loc[(raw0.person_gender == 'F') | (raw0.person_gender == 'M')]"
   ]
  },
  {
   "cell_type": "code",
   "execution_count": null,
   "metadata": {},
   "outputs": [],
   "source": [
    "(raw0.person_gender == 'M')|(raw0.person_gender == 'F')"
   ]
  },
  {
   "cell_type": "code",
   "execution_count": null,
   "metadata": {},
   "outputs": [],
   "source": [
    "set(raw0['person_gender'])"
   ]
  },
  {
   "cell_type": "code",
   "execution_count": null,
   "metadata": {},
   "outputs": [],
   "source": [
    "# replace \"person_gender\" with a dummy that is 1 if F, 0 otherwise\n",
    "raw0.person_gender = (raw0.person_gender == 'F')*1"
   ]
  },
  {
   "cell_type": "code",
   "execution_count": null,
   "metadata": {},
   "outputs": [],
   "source": [
    "set(raw0['sex_1'])"
   ]
  },
  {
   "cell_type": "code",
   "execution_count": null,
   "metadata": {},
   "outputs": [],
   "source": [
    "# do the same for sex_1\n",
    "raw0['sex_1']= (raw0.sex_1 == 'F')*1"
   ]
  },
  {
   "cell_type": "code",
   "execution_count": null,
   "metadata": {},
   "outputs": [],
   "source": [
    "raw0.head()"
   ]
  },
  {
   "cell_type": "markdown",
   "metadata": {},
   "source": [
    "### <font color='red'> In-Class Exercise 2: Creating a set of dummies for person's race\n",
    "\n",
    "* we want to create two dummies\n",
    "    - First dummy that is 1 if driver is B, 0 otherwise\n",
    "    - Second dummy that is 1 if driver is A or I or O or U (W is a baseline group)"
   ]
  },
  {
   "cell_type": "code",
   "execution_count": null,
   "metadata": {},
   "outputs": [],
   "source": [
    "# check a list of unque elements in person_race and create/add a dummy, D_B, to data\n",
    "# there are many other ways to add new columns to data in Panda (see https://www.geeksforgeeks.org/adding-new-column-to-existing-dataframe-in-pandas/)\n",
    "\n",
    "raw0['D_B'] = (raw0.person_race == 'B')*1"
   ]
  },
  {
   "cell_type": "code",
   "execution_count": null,
   "metadata": {},
   "outputs": [],
   "source": [
    "set(raw0['person_race'])"
   ]
  },
  {
   "cell_type": "code",
   "execution_count": null,
   "metadata": {},
   "outputs": [],
   "source": [
    "raw0.head()"
   ]
  },
  {
   "cell_type": "code",
   "execution_count": null,
   "metadata": {},
   "outputs": [],
   "source": [
    "# do the same for the other dummy\n",
    "temp2 = ((raw0.person_race == 'A')|(raw0.person_race == 'I')|(raw0.person_race == 'O')|(raw0.person_race == 'U'))*1\n",
    "raw0['D_Other'] = temp2"
   ]
  },
  {
   "cell_type": "code",
   "execution_count": null,
   "metadata": {},
   "outputs": [],
   "source": [
    "raw0.head()"
   ]
  },
  {
   "cell_type": "markdown",
   "metadata": {},
   "source": [
    "### <font color='red'> In-Class Exercise 3: creating age variable for driver\n",
    "\n",
    "* Definition of age: age = date(string, yyyy-mm-dd) -person_dob(string, yyyy-mm-dd)"
   ]
  },
  {
   "cell_type": "code",
   "execution_count": null,
   "metadata": {},
   "outputs": [],
   "source": [
    "# [Step 1]\n",
    "# access the years in \"person_dob\" and \"date\" and store them in \"dyear\" and \"byear\"\n",
    "# covert the strings to integers and calculate the difference\n",
    "dyear=raw0['date'][0][:4]\n",
    "byear=raw0['person_dob'][0][:4]\n",
    "dyearn = int(dyear)\n",
    "byearn = int(byear)\n",
    "age = dyearn - byearn\n",
    "age"
   ]
  },
  {
   "cell_type": "code",
   "execution_count": null,
   "metadata": {},
   "outputs": [],
   "source": [
    "# [Step 2]\n",
    "# access the months in \"person_dob\" and \"date\" and store them in \"dmon\" and \"bmon\"\n",
    "# covert the strings to integers and calculate the difference\n",
    "# if the difference in month is negative, then subtract one from age\n",
    "dmon=raw0['date'][0][5:7]\n",
    "bmon=raw0['person_dob'][0][5:7]\n",
    "dmonn = int(dmon)\n",
    "bmonn = int(bmon)\n",
    "mond = dmonn - bmonn\n",
    "if mond < 0:\n",
    "    age = age -1\n",
    "age"
   ]
  },
  {
   "cell_type": "markdown",
   "metadata": {},
   "source": [
    "### <font color='green'> For-Loops in Python\n",
    "https://www.w3schools.com/python/python_for_loops.asp\n",
    "    \n",
    "### <font color='green'> If statements in Python\n",
    "https://www.w3schools.com/python/python_conditions.asp\n"
   ]
  },
  {
   "cell_type": "code",
   "execution_count": null,
   "metadata": {},
   "outputs": [],
   "source": [
    "# use a loop to repeat this for all the observations\n",
    "D_age = np.zeros((len(raw0),),dtype=int)\n",
    "for i in range(0,len(raw0)):\n",
    "    age=int(raw0.iloc[i,0][:4]) - int(raw0.iloc[i,4][:4])\n",
    "    mond=int(raw0.iloc[i,0][5:7]) - int(raw0.iloc[i,4][5:7])\n",
    "    if mond < 0:\n",
    "        age = age -1\n",
    "    D_age[i]=age"
   ]
  },
  {
   "cell_type": "code",
   "execution_count": null,
   "metadata": {},
   "outputs": [],
   "source": [
    "# add it to raw0\n",
    "raw0['D_age'] = D_age"
   ]
  },
  {
   "cell_type": "code",
   "execution_count": null,
   "metadata": {},
   "outputs": [],
   "source": [
    "raw0.head()"
   ]
  },
  {
   "cell_type": "markdown",
   "metadata": {},
   "source": [
    "### <font color='darkred'> HW1: Similarly as we have done for D_age,\n",
    "1. create an age variable for officer: O_age\n",
    "2. create a tenure variable for officer: Exp, which is defined as exp = date - apptdate_1\n",
    "3. Append the two variables to raw0"
   ]
  }
 ],
 "metadata": {
  "kernelspec": {
   "display_name": "Python 3",
   "language": "python",
   "name": "python3"
  },
  "language_info": {
   "codemirror_mode": {
    "name": "ipython",
    "version": 3
   },
   "file_extension": ".py",
   "mimetype": "text/x-python",
   "name": "python",
   "nbconvert_exporter": "python",
   "pygments_lexer": "ipython3",
   "version": "3.8.2"
  }
 },
 "nbformat": 4,
 "nbformat_minor": 2
}
