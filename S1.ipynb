{
 "cells": [
  {
   "cell_type": "code",
   "execution_count": null,
   "metadata": {},
   "outputs": [],
   "source": [
    "import os\n",
    "os.chdir('')\n",
    "# Set up a working directory to the folder where your datasets are included\n",
    "# The figures, etc that are produced from your program will be stored in the folder as well"
   ]
  },

  {
   "cell_type": "markdown",
   "metadata": {},
   "source": [
    "### <font color='red'> Exercise 1: Creating a dummy for person's gender\n",
    "\n",
    "* We want to create a dummy variable that assigns 1 if driver is female (F), 0 otherwise"
   ]
  },
  {
   "cell_type": "code",
   "execution_count": null,
   "metadata": {},
   "outputs": [],
   "source": [
    "# check a list of unque elements (categories)\n",
    "set(raw0['person_gender'])"
   ]
  },
  {
   "cell_type": "markdown",
   "metadata": {},
   "source": [
    "### <font color='green'> Important Operators in Python\n",
    "https://www.programiz.com/python-programming/operators\n",
    "    \n",
    "https://www.geeksforgeeks.org/python-operators/\n",
    "    \n",
    "* Arithmetic\n",
    "* Logical/Identity/Comparison\n",
    "* Assignment"
   ]
  },
  {
   "cell_type": "code",
   "execution_count": null,
   "metadata": {},
   "outputs": [],
   "source": [
    "raw0.person_gender == 'F'"
   ]
  },
  {
   "cell_type": "code",
   "execution_count": null,
   "metadata": {},
   "outputs": [],
   "source": [
    "raw0.person_gender == 'M'"
   ]
  },
  {
   "cell_type": "code",
   "execution_count": null,
   "metadata": {},
   "outputs": [],
   "source": [
    "(raw0.person_gender == 'F') | (raw0.person_gender == 'M')"
   ]
  },
  {
   "cell_type": "code",
   "execution_count": null,
   "metadata": {},
   "outputs": [],
   "source": [
    "# remove the rows with \"u\"\n",
    "raw0 = raw0.loc[(raw0.person_gender == 'F') | (raw0.person_gender == 'M')]"
   ]
  },
  {
   "cell_type": "code",
   "execution_count": null,
   "metadata": {},
   "outputs": [],
   "source": [
    "(raw0.person_gender == 'M')|(raw0.person_gender == 'F')"
   ]
  },
  {
   "cell_type": "code",
   "execution_count": null,
   "metadata": {},
   "outputs": [],
   "source": [
    "set(raw0['person_gender'])"
   ]
  },
  {
   "cell_type": "code",
   "execution_count": null,
   "metadata": {},
   "outputs": [],
   "source": [
    "# replace \"person_gender\" with a dummy that is 1 if F, 0 otherwise\n",
    "raw0.person_gender = (raw0.person_gender == 'F')*1"
   ]
  },
  {
   "cell_type": "code",
   "execution_count": null,
   "metadata": {},
   "outputs": [],
   "source": [
    "set(raw0['sex_1'])"
   ]
  },
  {
   "cell_type": "code",
   "execution_count": null,
   "metadata": {},
   "outputs": [],
   "source": [
    "# do the same for sex_1\n",
    "raw0['sex_1']= (raw0.sex_1 == 'F')*1"
   ]
  },
  {
   "cell_type": "code",
   "execution_count": null,
   "metadata": {},
   "outputs": [],
   "source": [
    "raw0.head()"
   ]
  },
  {
   "cell_type": "markdown",
   "metadata": {},
   "source": [
    "### <font color='red'> Exercise 2: Creating a set of dummies for person's race\n",
    "\n",
    "* we want to create two dummies\n",
    "    - First dummy that is 1 if driver is B, 0 otherwise\n",
    "    - Second dummy that is 1 if driver is A or I or O or U (W is a baseline group)"
   ]
  },
  {
   "cell_type": "code",
   "execution_count": null,
   "metadata": {},
   "outputs": [],
   "source": [
    "# check a list of unque elements in person_race and create/add a dummy, D_B, to data\n",
    "# there are many other ways to add new columns to data in Panda (see https://www.geeksforgeeks.org/adding-new-column-to-existing-dataframe-in-pandas/)\n",
    "\n",
    "raw0['D_B'] = (raw0.person_race == 'B')*1"
   ]
  },
  {
   "cell_type": "code",
   "execution_count": null,
   "metadata": {},
   "outputs": [],
   "source": [
    "set(raw0['person_race'])"
   ]
  },
  {
   "cell_type": "code",
   "execution_count": null,
   "metadata": {},
   "outputs": [],
   "source": [
    "raw0.head()"
   ]
  },
  {
   "cell_type": "code",
   "execution_count": null,
   "metadata": {},
   "outputs": [],
   "source": [
    "# do the same for the other dummy\n",
    "temp2 = ((raw0.person_race == 'A')|(raw0.person_race == 'I')|(raw0.person_race == 'O')|(raw0.person_race == 'U'))*1\n",
    "raw0['D_Other'] = temp2"
   ]
  },
  {
   "cell_type": "code",
   "execution_count": null,
   "metadata": {},
   "outputs": [],
   "source": [
    "raw0.head()"
   ]
  },
  {
   "cell_type": "markdown",
   "metadata": {},
   "source": [
    "### <font color='red'> In-Class Exercise 3: creating age variable for driver\n",
    "\n",
    "* Definition of age: age = date(string, yyyy-mm-dd) -person_dob(string, yyyy-mm-dd)"
   ]
  },
  {
   "cell_type": "code",
   "execution_count": null,
   "metadata": {},
   "outputs": [],
   "source": [
    "# [Step 1]\n",
    "# access the years in \"person_dob\" and \"date\" and store them in \"dyear\" and \"byear\"\n",
    "# covert the strings to integers and calculate the difference\n",
    "dyear=raw0['date'][0][:4]\n",
    "byear=raw0['person_dob'][0][:4]\n",
    "dyearn = int(dyear)\n",
    "byearn = int(byear)\n",
    "age = dyearn - byearn\n",
    "age"
   ]
  },
  {
   "cell_type": "code",
   "execution_count": null,
   "metadata": {},
   "outputs": [],
   "source": [
    "# [Step 2]\n",
    "# access the months in \"person_dob\" and \"date\" and store them in \"dmon\" and \"bmon\"\n",
    "# covert the strings to integers and calculate the difference\n",
    "# if the difference in month is negative, then subtract one from age\n",
    "dmon=raw0['date'][0][5:7]\n",
    "bmon=raw0['person_dob'][0][5:7]\n",
    "dmonn = int(dmon)\n",
    "bmonn = int(bmon)\n",
    "mond = dmonn - bmonn\n",
    "if mond < 0:\n",
    "    age = age -1\n",
    "age"
   ]
  },
  {
   "cell_type": "markdown",
   "metadata": {},
   "source": [
    "### <font color='green'> For-Loops in Python\n",
    "https://www.w3schools.com/python/python_for_loops.asp\n",
    "    \n",
    "### <font color='green'> If statements in Python\n",
    "https://www.w3schools.com/python/python_conditions.asp\n"
   ]
  },
  {
   "cell_type": "code",
   "execution_count": null,
   "metadata": {},
   "outputs": [],
   "source": [
    "# use a loop to repeat this for all the observations\n",
    "D_age = np.zeros((len(raw0),),dtype=int)\n",
    "for i in range(0,len(raw0)):\n",
    "    age=int(raw0.iloc[i,0][:4]) - int(raw0.iloc[i,4][:4])\n",
    "    mond=int(raw0.iloc[i,0][5:7]) - int(raw0.iloc[i,4][5:7])\n",
    "    if mond < 0:\n",
    "        age = age -1\n",
    "    D_age[i]=age"
   ]
  },
  {
   "cell_type": "code",
   "execution_count": null,
   "metadata": {},
   "outputs": [],
   "source": [
    "# add it to raw0\n",
    "raw0['D_age'] = D_age"
   ]
  },
  {
   "cell_type": "code",
   "execution_count": null,
   "metadata": {},
   "outputs": [],
   "source": [
    "raw0.head()"
   ]
  },
  {
   "cell_type": "markdown",
   "metadata": {},
   "source": [
    "### <font color='darkred'> HW1: Similarly as we have done for D_age,\n",
    "1. create an age variable for officer: O_age\n",
    "2. create a tenure variable for officer: Exp, which is defined as exp = date - apptdate_1\n",
    "3. Append the two variables to raw0"
   ]
  }
 ],
 "metadata": {
  "kernelspec": {
   "display_name": "Python 3",
   "language": "python",
   "name": "python3"
  },
  "language_info": {
   "codemirror_mode": {
    "name": "ipython",
    "version": 3
   },
   "file_extension": ".py",
   "mimetype": "text/x-python",
   "name": "python",
   "nbconvert_exporter": "python",
   "pygments_lexer": "ipython3",
   "version": "3.8.2"
  }
 },
 "nbformat": 4,
 "nbformat_minor": 2
}
