{
 "cells": [
  {
   "cell_type": "markdown",
   "metadata": {},
   "source": [
    "## <font color='green'> Least Squares Estimation using Matrix Algebra and Numerical Optimization\n",
    "\n",
    "* Lecture note 2: p.19"
   ]
  },
  {
   "cell_type": "code",
   "execution_count": 53,
   "metadata": {},
   "outputs": [],
   "source": [
    "import os\n",
    "os.chdir('')"
   ]
  },
  {
   "cell_type": "code",
   "execution_count": 54,
   "metadata": {},
   "outputs": [
    {
     "data": {
      "text/html": [
       "<div>\n",
       "<style scoped>\n",
       "    .dataframe tbody tr th:only-of-type {\n",
       "        vertical-align: middle;\n",
       "    }\n",
       "\n",
       "    .dataframe tbody tr th {\n",
       "        vertical-align: top;\n",
       "    }\n",
       "\n",
       "    .dataframe thead th {\n",
       "        text-align: right;\n",
       "    }\n",
       "</style>\n",
       "<table border=\"1\" class=\"dataframe\">\n",
       "  <thead>\n",
       "    <tr style=\"text-align: right;\">\n",
       "      <th></th>\n",
       "      <th>Unnamed: 0</th>\n",
       "      <th>Private</th>\n",
       "      <th>Apps</th>\n",
       "      <th>Accept</th>\n",
       "      <th>Enroll</th>\n",
       "      <th>Top10perc</th>\n",
       "      <th>Top25perc</th>\n",
       "      <th>F.Undergrad</th>\n",
       "      <th>P.Undergrad</th>\n",
       "      <th>Outstate</th>\n",
       "      <th>Room.Board</th>\n",
       "      <th>Books</th>\n",
       "      <th>Personal</th>\n",
       "      <th>PhD</th>\n",
       "      <th>Terminal</th>\n",
       "      <th>S.F.Ratio</th>\n",
       "      <th>perc.alumni</th>\n",
       "      <th>Expend</th>\n",
       "      <th>Grad.Rate</th>\n",
       "    </tr>\n",
       "  </thead>\n",
       "  <tbody>\n",
       "    <tr>\n",
       "      <th>0</th>\n",
       "      <td>Abilene Christian University</td>\n",
       "      <td>1</td>\n",
       "      <td>1660</td>\n",
       "      <td>1232</td>\n",
       "      <td>721</td>\n",
       "      <td>23</td>\n",
       "      <td>52</td>\n",
       "      <td>2885</td>\n",
       "      <td>537</td>\n",
       "      <td>7440</td>\n",
       "      <td>3300</td>\n",
       "      <td>450</td>\n",
       "      <td>2200</td>\n",
       "      <td>70</td>\n",
       "      <td>78</td>\n",
       "      <td>18.1</td>\n",
       "      <td>12</td>\n",
       "      <td>7041</td>\n",
       "      <td>60</td>\n",
       "    </tr>\n",
       "    <tr>\n",
       "      <th>1</th>\n",
       "      <td>Adelphi University</td>\n",
       "      <td>1</td>\n",
       "      <td>2186</td>\n",
       "      <td>1924</td>\n",
       "      <td>512</td>\n",
       "      <td>16</td>\n",
       "      <td>29</td>\n",
       "      <td>2683</td>\n",
       "      <td>1227</td>\n",
       "      <td>12280</td>\n",
       "      <td>6450</td>\n",
       "      <td>750</td>\n",
       "      <td>1500</td>\n",
       "      <td>29</td>\n",
       "      <td>30</td>\n",
       "      <td>12.2</td>\n",
       "      <td>16</td>\n",
       "      <td>10527</td>\n",
       "      <td>56</td>\n",
       "    </tr>\n",
       "    <tr>\n",
       "      <th>2</th>\n",
       "      <td>Adrian College</td>\n",
       "      <td>1</td>\n",
       "      <td>1428</td>\n",
       "      <td>1097</td>\n",
       "      <td>336</td>\n",
       "      <td>22</td>\n",
       "      <td>50</td>\n",
       "      <td>1036</td>\n",
       "      <td>99</td>\n",
       "      <td>11250</td>\n",
       "      <td>3750</td>\n",
       "      <td>400</td>\n",
       "      <td>1165</td>\n",
       "      <td>53</td>\n",
       "      <td>66</td>\n",
       "      <td>12.9</td>\n",
       "      <td>30</td>\n",
       "      <td>8735</td>\n",
       "      <td>54</td>\n",
       "    </tr>\n",
       "    <tr>\n",
       "      <th>3</th>\n",
       "      <td>Agnes Scott College</td>\n",
       "      <td>1</td>\n",
       "      <td>417</td>\n",
       "      <td>349</td>\n",
       "      <td>137</td>\n",
       "      <td>60</td>\n",
       "      <td>89</td>\n",
       "      <td>510</td>\n",
       "      <td>63</td>\n",
       "      <td>12960</td>\n",
       "      <td>5450</td>\n",
       "      <td>450</td>\n",
       "      <td>875</td>\n",
       "      <td>92</td>\n",
       "      <td>97</td>\n",
       "      <td>7.7</td>\n",
       "      <td>37</td>\n",
       "      <td>19016</td>\n",
       "      <td>59</td>\n",
       "    </tr>\n",
       "    <tr>\n",
       "      <th>4</th>\n",
       "      <td>Alaska Pacific University</td>\n",
       "      <td>1</td>\n",
       "      <td>193</td>\n",
       "      <td>146</td>\n",
       "      <td>55</td>\n",
       "      <td>16</td>\n",
       "      <td>44</td>\n",
       "      <td>249</td>\n",
       "      <td>869</td>\n",
       "      <td>7560</td>\n",
       "      <td>4120</td>\n",
       "      <td>800</td>\n",
       "      <td>1500</td>\n",
       "      <td>76</td>\n",
       "      <td>72</td>\n",
       "      <td>11.9</td>\n",
       "      <td>2</td>\n",
       "      <td>10922</td>\n",
       "      <td>15</td>\n",
       "    </tr>\n",
       "  </tbody>\n",
       "</table>\n",
       "</div>"
      ],
      "text/plain": [
       "                     Unnamed: 0  Private  Apps  Accept  Enroll  Top10perc  \\\n",
       "0  Abilene Christian University        1  1660    1232     721         23   \n",
       "1            Adelphi University        1  2186    1924     512         16   \n",
       "2                Adrian College        1  1428    1097     336         22   \n",
       "3           Agnes Scott College        1   417     349     137         60   \n",
       "4     Alaska Pacific University        1   193     146      55         16   \n",
       "\n",
       "   Top25perc  F.Undergrad  P.Undergrad  Outstate  Room.Board  Books  Personal  \\\n",
       "0         52         2885          537      7440        3300    450      2200   \n",
       "1         29         2683         1227     12280        6450    750      1500   \n",
       "2         50         1036           99     11250        3750    400      1165   \n",
       "3         89          510           63     12960        5450    450       875   \n",
       "4         44          249          869      7560        4120    800      1500   \n",
       "\n",
       "   PhD  Terminal  S.F.Ratio  perc.alumni  Expend  Grad.Rate  \n",
       "0   70        78       18.1           12    7041         60  \n",
       "1   29        30       12.2           16   10527         56  \n",
       "2   53        66       12.9           30    8735         54  \n",
       "3   92        97        7.7           37   19016         59  \n",
       "4   76        72       11.9            2   10922         15  "
      ]
     },
     "execution_count": 54,
     "metadata": {},
     "output_type": "execute_result"
    }
   ],
   "source": [
    "import numpy as np \n",
    "import pandas as pd \n",
    "import math \n",
    "\n",
    "raw0 = pd.read_csv('College.csv')\n",
    "raw0['Private']=pd.get_dummies(raw0['Private'],drop_first=True)\n",
    "raw0.head()"
   ]
  },
  {
   "cell_type": "markdown",
   "metadata": {},
   "source": [
    "### <font color='green'> 1) Least Squares Estimation using Matrix Algebra\n",
    "\n",
    "https://web.stanford.edu/~mrosenfe/soc_meth_proj3/matrix_OLS_NYU_notes.pdf"
   ]
  },
  {
   "cell_type": "code",
   "execution_count": 55,
   "metadata": {},
   "outputs": [],
   "source": [
    "# convert the dataframe to a numpy array (excluding the first column-college names)\n",
    "# Exclude column 0 go to the end\n",
    "raw00 = raw0.iloc[:,1:].values "
   ]
  },
  {
   "cell_type": "markdown",
   "metadata": {},
   "source": [
    "* We can suppress scientific notation using \"np.set_printoptions\" (e.g. np.set_printoptions(precision=2, suppress=True))\n",
    "* Scientific notation: https://en.wikipedia.org/wiki/Scientific_notation\n",
    "* np.set_printoptions: https://numpy.org/doc/stable/reference/generated/numpy.set_printoptions.html"
   ]
  },
  {
   "cell_type": "code",
   "execution_count": 56,
   "metadata": {},
   "outputs": [
    {
     "data": {
      "text/plain": [
       "array([[    1.,  1660.,  1232., ...,    12.,  7041.,    60.],\n",
       "       [    1.,  2186.,  1924., ...,    16., 10527.,    56.],\n",
       "       [    1.,  1428.,  1097., ...,    30.,  8735.,    54.],\n",
       "       ...,\n",
       "       [    1.,  2097.,  1915., ...,    20.,  8323.,    49.],\n",
       "       [    1., 10705.,  2453., ...,    49., 40386.,    99.],\n",
       "       [    1.,  2989.,  1855., ...,    28.,  4509.,    99.]])"
      ]
     },
     "execution_count": 56,
     "metadata": {},
     "output_type": "execute_result"
    }
   ],
   "source": [
    "raw00"
   ]
  },
  {
   "cell_type": "code",
   "execution_count": 57,
   "metadata": {},
   "outputs": [],
   "source": [
    "# Number will show up to second decimal place\n",
    "np.set_printoptions(precision=2, suppress=True)"
   ]
  },
  {
   "cell_type": "code",
   "execution_count": 58,
   "metadata": {},
   "outputs": [
    {
     "data": {
      "text/plain": [
       "array([[    1.,  1660.,  1232., ...,    12.,  7041.,    60.],\n",
       "       [    1.,  2186.,  1924., ...,    16., 10527.,    56.],\n",
       "       [    1.,  1428.,  1097., ...,    30.,  8735.,    54.],\n",
       "       ...,\n",
       "       [    1.,  2097.,  1915., ...,    20.,  8323.,    49.],\n",
       "       [    1., 10705.,  2453., ...,    49., 40386.,    99.],\n",
       "       [    1.,  2989.,  1855., ...,    28.,  4509.,    99.]])"
      ]
     },
     "execution_count": 58,
     "metadata": {},
     "output_type": "execute_result"
    }
   ],
   "source": [
    "raw00"
   ]
  },
  {
   "cell_type": "code",
   "execution_count": 59,
   "metadata": {},
   "outputs": [],
   "source": [
    "# Construct X matrix\n",
    "X=raw00[:,(4,0,8,11,16)] # select predictors (note that the first column was removed)\n",
    "nrow = X.shape[0]\n",
    "intcpt = np.ones( (nrow,1), ) # create an intercept\n",
    "X = np.concatenate((intcpt, X), axis=1) # add the intercept to X (i.e X = [intcpt,X] )"
   ]
  },
  {
   "cell_type": "code",
   "execution_count": 60,
   "metadata": {},
   "outputs": [],
   "source": [
    "# Construct Y vector\n",
    "Y=raw00[:,15]"
   ]
  },
  {
   "cell_type": "markdown",
   "metadata": {},
   "source": [
    "* The code above didn't specify whether it is a row or column vector\n",
    "* Use Y=raw00[:,[15]] to specify it is a column vector"
   ]
  },
  {
   "cell_type": "markdown",
   "metadata": {},
   "source": [
    "####  <font color='green'> i) Compute LS estimates\n",
    "\n",
    "$\\hat{\\beta} = (X^{'}X)^{-1}X^{'}Y$\n",
    "    \n",
    "* inv( ) from numpy.linalg\n",
    "* transpose function\n",
    "* matrix multiplication"
   ]
  },
  {
   "cell_type": "code",
   "execution_count": 61,
   "metadata": {},
   "outputs": [
    {
     "name": "stdout",
     "output_type": "stream",
     "text": [
      "[ 7.94  0.18  4.86  0.   -0.   -0.  ]\n"
     ]
    }
   ],
   "source": [
    "from numpy.linalg import inv\n",
    "# X transpose and metric multiplication\n",
    "OLSres = inv(X.T@X)@(X.T@Y)\n",
    "print(OLSres) # Compare this to the previous result obtained from the statsmodels package"
   ]
  },
  {
   "cell_type": "markdown",
   "metadata": {},
   "source": [
    "####  <font color='green'> ii) Compute the Standard Errors of the Estimates & t-statistics p is regressors\n",
    "\n",
    "$\\hat{\\sigma}_{\\beta} = Diag \\left(\\sqrt{\\hat{\\sigma}^2(X^{'}X)^{-1}} \\right)$ where $\\hat{\\sigma}^2 = \\hat{U}^{'}\\hat{U}/(n-p-1)$ and $\\hat{U} = Y - X\\hat{\\beta}$\n",
    "    \n",
    "$t_{\\beta} = | \\hat{\\beta}/\\hat{\\sigma}_{\\beta} |$\n",
    "    "
   ]
  },
  {
   "cell_type": "code",
   "execution_count": 62,
   "metadata": {},
   "outputs": [],
   "source": [
    "# Calculate Residuals\n",
    "resid = Y-X@OLSres\n",
    "# Calculate SER (Standard error of the regression)\n",
    "SER = (resid.T@resid)/(nrow-X.shape[1])\n",
    "# Calculate SE\n",
    "SE = np.sqrt(np.diag(SER*inv(X.T@X))) # Compare this to the previous result from the statsmodels package"
   ]
  },
  {
   "cell_type": "code",
   "execution_count": 63,
   "metadata": {},
   "outputs": [],
   "source": [
    "# Calculate T statistics\n",
    "Tstat = abs(OLSres/SE)"
   ]
  },
  {
   "cell_type": "code",
   "execution_count": 64,
   "metadata": {},
   "outputs": [
    {
     "data": {
      "text/plain": [
       "array([5.57, 6.51, 4.97, 6.2 , 4.02, 0.1 ])"
      ]
     },
     "execution_count": 64,
     "metadata": {},
     "output_type": "execute_result"
    }
   ],
   "source": [
    "Tstat"
   ]
  },
  {
   "cell_type": "markdown",
   "metadata": {},
   "source": [
    "### <font color='green'> 2) Least Squares Estimation using Numerical Optimization\n",
    "\n",
    "$\\hat{\\beta} = argmin_{\\beta} (Y - X\\beta)^{'}(Y - X\\beta)/n$\n",
    "    \n",
    "* Newton Method : https://en.wikipedia.org/wiki/Newton%27s_method_in_optimization\n",
    "* Optimization in Python: https://scipy-lectures.org/advanced/mathematical_optimization/ & https://realpython.com/python-scipy-cluster-optimize/"
   ]
  },
  {
   "cell_type": "code",
   "execution_count": 65,
   "metadata": {},
   "outputs": [],
   "source": [
    "from scipy import optimize"
   ]
  },
  {
   "cell_type": "code",
   "execution_count": 66,
   "metadata": {},
   "outputs": [],
   "source": [
    "# Define loss fn in two ways\n",
    "\n",
    "# loss function 1\n",
    "def loss(inpt,Y,X):\n",
    "    nrow=Y.shape[0]\n",
    "    loss0=0\n",
    "\n",
    "    for i in range(0,nrow):\n",
    "        \n",
    "            resid = Y[i]-X[i,:]@inpt\n",
    "            loss0 = loss0+resid*resid\n",
    "            # can be done simply: loss0+=resid*resid (add and assign)\n",
    "            \n",
    "    return loss0\n",
    "\n",
    "# loss function 2\n",
    "def loss2(inpt,Y,X):\n",
    "\n",
    "    resid = Y-X@inpt\n",
    "    loss0 = resid.T@resid\n",
    "            \n",
    "    return loss0"
   ]
  },
  {
   "cell_type": "markdown",
   "metadata": {},
   "source": [
    "* Optimizer \"fmin\" : https://docs.scipy.org/doc/scipy/reference/generated/scipy.optimize.fmin.html"
   ]
  },
  {
   "cell_type": "code",
   "execution_count": 67,
   "metadata": {},
   "outputs": [
    {
     "name": "stdout",
     "output_type": "stream",
     "text": [
      "Optimization terminated successfully.\n",
      "         Current function value: 73023.898799\n",
      "         Iterations: 1486\n",
      "         Function evaluations: 2368\n"
     ]
    }
   ],
   "source": [
    "# Optimize\n",
    "## Create a vector of 0 for the start of Beta, dimensioned by the number of variables/columns - column vector\n",
    "## 0 - number of rows, 1- number of columns\n",
    "## maxfun and maxiter are stopping functions -\n",
    "## ftol - if the function almost doesn't change, it will stop\n",
    "## xtol - if the number is getting close to that value it will stop the smaller the ftol and xtol, the longer it takes\n",
    "inpt = np.zeros((X.shape[1],1)) # starting value\n",
    "OLSres2=optimize.fmin(loss2,\n",
    "                      inpt,\n",
    "                      args=(Y,X),\n",
    "                      maxfun=40000,\n",
    "                      maxiter=40000,\n",
    "                      ftol=1e-10,\n",
    "                      xtol=1e-10,\n",
    "                      disp=True\n",
    "                     )"
   ]
  },
  {
   "cell_type": "code",
   "execution_count": 68,
   "metadata": {},
   "outputs": [
    {
     "name": "stdout",
     "output_type": "stream",
     "text": [
      "[ 7.94  0.18  4.86  0.   -0.   -0.  ]\n"
     ]
    }
   ],
   "source": [
    "print(OLSres2)"
   ]
  },
  {
   "cell_type": "markdown",
   "metadata": {},
   "source": [
    "### <font color='darkred'> HW3\n",
    "* Pick one of your linear regression models in HW2 \n",
    "* Compute least squares estimates, standard errors of the estimates and t-statistics <ins> using the matrix algebra and optimization algorithm as described above </ins>\n",
    "* Compare them to the results previously obtained from the statsmodels package"
   ]
  },
  {
   "cell_type": "markdown",
   "metadata": {},
   "source": [
    "*Matrix Algebra*\n",
    "This worked well and calculated the coefficients accurately\n"
   ]
  },
  {
   "cell_type": "code",
   "execution_count": 69,
   "metadata": {},
   "outputs": [],
   "source": [
    "# Construct X matrix\n",
    "XH=raw00[:,(0,2,3,4,11,9,17,12,8,14)] # select predictors (note that the first column was removed)\n",
    "##XH= np.concatenate[XH, XH[:,2]*XH[:,3]]\n",
    "nrow = XH.shape[0]\n",
    "intcpt = np.ones( (nrow,1), ) # create an intercept\n",
    "XH = np.concatenate((intcpt, XH), axis=1) # add the intercept to X (i.e X = [intcpt,X] )"
   ]
  },
  {
   "cell_type": "code",
   "execution_count": 75,
   "metadata": {},
   "outputs": [],
   "source": [
    "# Construct Y vector\n",
    "Y=raw00[:,15]"
   ]
  },
  {
   "cell_type": "code",
   "execution_count": 76,
   "metadata": {},
   "outputs": [
    {
     "name": "stdout",
     "output_type": "stream",
     "text": [
      "[ 7.43  3.   -0.    0.    0.1  -0.   -0.    0.15  0.06  0.   -0.24]\n"
     ]
    }
   ],
   "source": [
    "from numpy.linalg import inv\n",
    "# X transpose and metric multiplication\n",
    "OLSres = inv(XH.T@XH)@(XH.T@Y)\n",
    "print(OLSres) # Compare this to the previous result obtained from the statsmodels package"
   ]
  },
  {
   "cell_type": "code",
   "execution_count": 77,
   "metadata": {},
   "outputs": [],
   "source": [
    "# Calculate Residuals\n",
    "resid = Y-XH@OLSres\n",
    "# Calculate SER (Standard error of the regression)\n",
    "SER = (resid.T@resid)/(nrow-XH.shape[1])\n",
    "# Calculate SE\n",
    "SE = np.sqrt(np.diag(SER*inv(XH.T@XH))) # Compare this to the previous result from the statsmodels package"
   ]
  },
  {
   "cell_type": "code",
   "execution_count": 78,
   "metadata": {
    "scrolled": true
   },
   "outputs": [
    {
     "name": "stdout",
     "output_type": "stream",
     "text": [
      "[2.31 2.52 4.45 2.78 3.87 3.39 4.48 6.14 2.25 6.47 2.22]\n"
     ]
    }
   ],
   "source": [
    "# Calculate T statistics\n",
    "Tstat = abs(OLSres/SE)\n",
    "print(Tstat)"
   ]
  },
  {
   "cell_type": "markdown",
   "metadata": {},
   "source": [
    "*Optimization Algorithm* This one did not work as well. This could be due to the number of coefficients I had"
   ]
  },
  {
   "cell_type": "code",
   "execution_count": 92,
   "metadata": {
    "scrolled": false
   },
   "outputs": [
    {
     "name": "stdout",
     "output_type": "stream",
     "text": [
      "Warning: Maximum number of function evaluations has been exceeded.\n"
     ]
    }
   ],
   "source": [
    "# Optimize\n",
    "inpt = np.zeros((XH.shape[1],1)) # starting value\n",
    "OLSReg=optimize.fmin(loss2,\n",
    "                      inpt,\n",
    "                      args=(Y,XH),\n",
    "                      ftol=1e-20,\n",
    "                      xtol=1e-20,\n",
    "                      disp=True\n",
    "                     )"
   ]
  },
  {
   "cell_type": "code",
   "execution_count": 93,
   "metadata": {},
   "outputs": [
    {
     "name": "stdout",
     "output_type": "stream",
     "text": [
      "[-0.1   0.06 -0.    0.    0.09 -0.   -0.    0.19  0.09  0.   -0.13]\n"
     ]
    }
   ],
   "source": [
    "print(OLSReg)"
   ]
  },
  {
   "cell_type": "markdown",
   "metadata": {},
   "source": [
    "*Previous Regression Result* For comparison, here is the original third model from the previous homework."
   ]
  },
  {
   "cell_type": "code",
   "execution_count": 82,
   "metadata": {},
   "outputs": [
    {
     "data": {
      "text/html": [
       "<div>\n",
       "<style scoped>\n",
       "    .dataframe tbody tr th:only-of-type {\n",
       "        vertical-align: middle;\n",
       "    }\n",
       "\n",
       "    .dataframe tbody tr th {\n",
       "        vertical-align: top;\n",
       "    }\n",
       "\n",
       "    .dataframe thead th {\n",
       "        text-align: right;\n",
       "    }\n",
       "</style>\n",
       "<table border=\"1\" class=\"dataframe\">\n",
       "  <thead>\n",
       "    <tr style=\"text-align: right;\">\n",
       "      <th></th>\n",
       "      <th>Unnamed: 0</th>\n",
       "      <th>Private</th>\n",
       "      <th>Apps</th>\n",
       "      <th>Accept</th>\n",
       "      <th>Enroll</th>\n",
       "      <th>Top10perc</th>\n",
       "      <th>Top25perc</th>\n",
       "      <th>fullundergra</th>\n",
       "      <th>partundergra</th>\n",
       "      <th>Outstate</th>\n",
       "      <th>roomboar</th>\n",
       "      <th>Books</th>\n",
       "      <th>Personal</th>\n",
       "      <th>PhD</th>\n",
       "      <th>Terminal</th>\n",
       "      <th>sfrati</th>\n",
       "      <th>palum</th>\n",
       "      <th>Expend</th>\n",
       "      <th>grarate</th>\n",
       "    </tr>\n",
       "  </thead>\n",
       "  <tbody>\n",
       "    <tr>\n",
       "      <th>0</th>\n",
       "      <td>Abilene Christian University</td>\n",
       "      <td>Yes</td>\n",
       "      <td>1660</td>\n",
       "      <td>1232</td>\n",
       "      <td>721</td>\n",
       "      <td>23</td>\n",
       "      <td>52</td>\n",
       "      <td>2885</td>\n",
       "      <td>537</td>\n",
       "      <td>7440</td>\n",
       "      <td>3300</td>\n",
       "      <td>450</td>\n",
       "      <td>2200</td>\n",
       "      <td>70</td>\n",
       "      <td>78</td>\n",
       "      <td>18.1</td>\n",
       "      <td>12</td>\n",
       "      <td>7041</td>\n",
       "      <td>60</td>\n",
       "    </tr>\n",
       "    <tr>\n",
       "      <th>1</th>\n",
       "      <td>Adelphi University</td>\n",
       "      <td>Yes</td>\n",
       "      <td>2186</td>\n",
       "      <td>1924</td>\n",
       "      <td>512</td>\n",
       "      <td>16</td>\n",
       "      <td>29</td>\n",
       "      <td>2683</td>\n",
       "      <td>1227</td>\n",
       "      <td>12280</td>\n",
       "      <td>6450</td>\n",
       "      <td>750</td>\n",
       "      <td>1500</td>\n",
       "      <td>29</td>\n",
       "      <td>30</td>\n",
       "      <td>12.2</td>\n",
       "      <td>16</td>\n",
       "      <td>10527</td>\n",
       "      <td>56</td>\n",
       "    </tr>\n",
       "    <tr>\n",
       "      <th>2</th>\n",
       "      <td>Adrian College</td>\n",
       "      <td>Yes</td>\n",
       "      <td>1428</td>\n",
       "      <td>1097</td>\n",
       "      <td>336</td>\n",
       "      <td>22</td>\n",
       "      <td>50</td>\n",
       "      <td>1036</td>\n",
       "      <td>99</td>\n",
       "      <td>11250</td>\n",
       "      <td>3750</td>\n",
       "      <td>400</td>\n",
       "      <td>1165</td>\n",
       "      <td>53</td>\n",
       "      <td>66</td>\n",
       "      <td>12.9</td>\n",
       "      <td>30</td>\n",
       "      <td>8735</td>\n",
       "      <td>54</td>\n",
       "    </tr>\n",
       "    <tr>\n",
       "      <th>3</th>\n",
       "      <td>Agnes Scott College</td>\n",
       "      <td>Yes</td>\n",
       "      <td>417</td>\n",
       "      <td>349</td>\n",
       "      <td>137</td>\n",
       "      <td>60</td>\n",
       "      <td>89</td>\n",
       "      <td>510</td>\n",
       "      <td>63</td>\n",
       "      <td>12960</td>\n",
       "      <td>5450</td>\n",
       "      <td>450</td>\n",
       "      <td>875</td>\n",
       "      <td>92</td>\n",
       "      <td>97</td>\n",
       "      <td>7.7</td>\n",
       "      <td>37</td>\n",
       "      <td>19016</td>\n",
       "      <td>59</td>\n",
       "    </tr>\n",
       "    <tr>\n",
       "      <th>4</th>\n",
       "      <td>Alaska Pacific University</td>\n",
       "      <td>Yes</td>\n",
       "      <td>193</td>\n",
       "      <td>146</td>\n",
       "      <td>55</td>\n",
       "      <td>16</td>\n",
       "      <td>44</td>\n",
       "      <td>249</td>\n",
       "      <td>869</td>\n",
       "      <td>7560</td>\n",
       "      <td>4120</td>\n",
       "      <td>800</td>\n",
       "      <td>1500</td>\n",
       "      <td>76</td>\n",
       "      <td>72</td>\n",
       "      <td>11.9</td>\n",
       "      <td>2</td>\n",
       "      <td>10922</td>\n",
       "      <td>15</td>\n",
       "    </tr>\n",
       "  </tbody>\n",
       "</table>\n",
       "</div>"
      ],
      "text/plain": [
       "                     Unnamed: 0 Private  Apps  Accept  Enroll  Top10perc  \\\n",
       "0  Abilene Christian University     Yes  1660    1232     721         23   \n",
       "1            Adelphi University     Yes  2186    1924     512         16   \n",
       "2                Adrian College     Yes  1428    1097     336         22   \n",
       "3           Agnes Scott College     Yes   417     349     137         60   \n",
       "4     Alaska Pacific University     Yes   193     146      55         16   \n",
       "\n",
       "   Top25perc  fullundergra  partundergra  Outstate  roomboar  Books  Personal  \\\n",
       "0         52          2885           537      7440      3300    450      2200   \n",
       "1         29          2683          1227     12280      6450    750      1500   \n",
       "2         50          1036            99     11250      3750    400      1165   \n",
       "3         89           510            63     12960      5450    450       875   \n",
       "4         44           249           869      7560      4120    800      1500   \n",
       "\n",
       "   PhD  Terminal  sfrati  palum  Expend  grarate  \n",
       "0   70        78    18.1     12    7041       60  \n",
       "1   29        30    12.2     16   10527       56  \n",
       "2   53        66    12.9     30    8735       54  \n",
       "3   92        97     7.7     37   19016       59  \n",
       "4   76        72    11.9      2   10922       15  "
      ]
     },
     "execution_count": 82,
     "metadata": {},
     "output_type": "execute_result"
    }
   ],
   "source": [
    "# Result from previous regression\n",
    "import statsmodels.formula.api as smf\n",
    "import pandas as pd\n",
    "raw = pd.read_csv('College.csv')\n",
    "\n",
    "raw.rename(columns = {'perc.alumni':'palum'}, inplace = True)\n",
    "raw.rename(columns = {'Grad.Rate':'grarate'}, inplace = True)\n",
    "raw.rename(columns = {'Room.Board':'roomboar'}, inplace = True)\n",
    "raw.rename(columns = {'F.Undergrad':'fullundergra'}, inplace = True)\n",
    "raw.rename(columns = {'P.Undergrad':'partundergra'}, inplace = True)\n",
    "raw.rename(columns = {'S.F.Ratio':'sfrati'}, inplace = True)\n",
    "\n",
    "raw.head()"
   ]
  },
  {
   "cell_type": "code",
   "execution_count": 83,
   "metadata": {},
   "outputs": [
    {
     "data": {
      "text/plain": [
       "Intercept         7.426620\n",
       "Private[T.Yes]    2.999127\n",
       "Accept           -0.001578\n",
       "Enroll            0.002756\n",
       "Top10perc         0.104682\n",
       "Personal         -0.001831\n",
       "roomboar         -0.001838\n",
       "grarate           0.153611\n",
       "PhD               0.061424\n",
       "Outstate          0.001013\n",
       "sfrati           -0.236981\n",
       "dtype: float64"
      ]
     },
     "execution_count": 83,
     "metadata": {},
     "output_type": "execute_result"
    }
   ],
   "source": [
    "Reg3 = smf.ols('palum ~ Private + Accept + Enroll + Top10perc + Personal + roomboar + grarate + PhD + Outstate + sfrati', data=raw).fit()\n",
    "Reg3.params"
   ]
  }
 ],
 "metadata": {
  "kernelspec": {
   "display_name": "Python 3",
   "language": "python",
   "name": "python3"
  },
  "language_info": {
   "codemirror_mode": {
    "name": "ipython",
    "version": 3
   },
   "file_extension": ".py",
   "mimetype": "text/x-python",
   "name": "python",
   "nbconvert_exporter": "python",
   "pygments_lexer": "ipython3",
   "version": "3.8.8"
  }
 },
 "nbformat": 4,
 "nbformat_minor": 2
}
