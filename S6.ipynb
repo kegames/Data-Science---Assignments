{
 "cells": [
  {
   "cell_type": "markdown",
   "metadata": {},
   "source": [
    "## <font color='green'> Application of the Logit model (logistic regression) to Default Data"
   ]
  },
  {
   "cell_type": "code",
   "execution_count": 2,
   "metadata": {},
   "outputs": [
    {
     "data": {
      "text/html": [
       "<div>\n",
       "<style scoped>\n",
       "    .dataframe tbody tr th:only-of-type {\n",
       "        vertical-align: middle;\n",
       "    }\n",
       "\n",
       "    .dataframe tbody tr th {\n",
       "        vertical-align: top;\n",
       "    }\n",
       "\n",
       "    .dataframe thead th {\n",
       "        text-align: right;\n",
       "    }\n",
       "</style>\n",
       "<table border=\"1\" class=\"dataframe\">\n",
       "  <thead>\n",
       "    <tr style=\"text-align: right;\">\n",
       "      <th></th>\n",
       "      <th>Unnamed: 0</th>\n",
       "      <th>default</th>\n",
       "      <th>student</th>\n",
       "      <th>balance</th>\n",
       "      <th>income</th>\n",
       "    </tr>\n",
       "  </thead>\n",
       "  <tbody>\n",
       "    <tr>\n",
       "      <th>0</th>\n",
       "      <td>1</td>\n",
       "      <td>No</td>\n",
       "      <td>No</td>\n",
       "      <td>729.526495</td>\n",
       "      <td>44361.625074</td>\n",
       "    </tr>\n",
       "    <tr>\n",
       "      <th>1</th>\n",
       "      <td>2</td>\n",
       "      <td>No</td>\n",
       "      <td>Yes</td>\n",
       "      <td>817.180407</td>\n",
       "      <td>12106.134700</td>\n",
       "    </tr>\n",
       "    <tr>\n",
       "      <th>2</th>\n",
       "      <td>3</td>\n",
       "      <td>No</td>\n",
       "      <td>No</td>\n",
       "      <td>1073.549164</td>\n",
       "      <td>31767.138947</td>\n",
       "    </tr>\n",
       "    <tr>\n",
       "      <th>3</th>\n",
       "      <td>4</td>\n",
       "      <td>No</td>\n",
       "      <td>No</td>\n",
       "      <td>529.250605</td>\n",
       "      <td>35704.493935</td>\n",
       "    </tr>\n",
       "    <tr>\n",
       "      <th>4</th>\n",
       "      <td>5</td>\n",
       "      <td>No</td>\n",
       "      <td>No</td>\n",
       "      <td>785.655883</td>\n",
       "      <td>38463.495879</td>\n",
       "    </tr>\n",
       "  </tbody>\n",
       "</table>\n",
       "</div>"
      ],
      "text/plain": [
       "   Unnamed: 0 default student      balance        income\n",
       "0           1      No      No   729.526495  44361.625074\n",
       "1           2      No     Yes   817.180407  12106.134700\n",
       "2           3      No      No  1073.549164  31767.138947\n",
       "3           4      No      No   529.250605  35704.493935\n",
       "4           5      No      No   785.655883  38463.495879"
      ]
     },
     "execution_count": 2,
     "metadata": {},
     "output_type": "execute_result"
    }
   ],
   "source": [
    "import os\n",
    "os.chdir('')\n",
    "\n",
    "import numpy as np\n",
    "import pandas as pd\n",
    "import math\n",
    "import matplotlib.pyplot as plt\n",
    "\n",
    "raw0 = pd.read_csv('Default.csv')\n",
    "\n",
    "# drop the observations that contain missing values\n",
    "raw0.dropna()\n",
    "\n",
    "raw0.head()"
   ]
  },
  {
   "cell_type": "markdown",
   "metadata": {},
   "source": [
    "### <font color='green'> 1) Produce descriptive statistics and visualize data"
   ]
  },
  {
   "cell_type": "markdown",
   "metadata": {},
   "source": [
    "#### <font color='green'> i) .describe()\n",
    "* panda .describe(): https://pandas.pydata.org/pandas-docs/stable/reference/api/pandas.DataFrame.describe.html"
   ]
  },
  {
   "cell_type": "code",
   "execution_count": 3,
   "metadata": {},
   "outputs": [
    {
     "data": {
      "text/html": [
       "<div>\n",
       "<style scoped>\n",
       "    .dataframe tbody tr th:only-of-type {\n",
       "        vertical-align: middle;\n",
       "    }\n",
       "\n",
       "    .dataframe tbody tr th {\n",
       "        vertical-align: top;\n",
       "    }\n",
       "\n",
       "    .dataframe thead th {\n",
       "        text-align: right;\n",
       "    }\n",
       "</style>\n",
       "<table border=\"1\" class=\"dataframe\">\n",
       "  <thead>\n",
       "    <tr style=\"text-align: right;\">\n",
       "      <th></th>\n",
       "      <th>Unnamed: 0</th>\n",
       "      <th>default</th>\n",
       "      <th>student</th>\n",
       "      <th>balance</th>\n",
       "      <th>income</th>\n",
       "    </tr>\n",
       "  </thead>\n",
       "  <tbody>\n",
       "    <tr>\n",
       "      <th>count</th>\n",
       "      <td>10000.00000</td>\n",
       "      <td>10000</td>\n",
       "      <td>10000</td>\n",
       "      <td>10000.000000</td>\n",
       "      <td>10000.000000</td>\n",
       "    </tr>\n",
       "    <tr>\n",
       "      <th>unique</th>\n",
       "      <td>NaN</td>\n",
       "      <td>2</td>\n",
       "      <td>2</td>\n",
       "      <td>NaN</td>\n",
       "      <td>NaN</td>\n",
       "    </tr>\n",
       "    <tr>\n",
       "      <th>top</th>\n",
       "      <td>NaN</td>\n",
       "      <td>No</td>\n",
       "      <td>No</td>\n",
       "      <td>NaN</td>\n",
       "      <td>NaN</td>\n",
       "    </tr>\n",
       "    <tr>\n",
       "      <th>freq</th>\n",
       "      <td>NaN</td>\n",
       "      <td>9667</td>\n",
       "      <td>7056</td>\n",
       "      <td>NaN</td>\n",
       "      <td>NaN</td>\n",
       "    </tr>\n",
       "    <tr>\n",
       "      <th>mean</th>\n",
       "      <td>5000.50000</td>\n",
       "      <td>NaN</td>\n",
       "      <td>NaN</td>\n",
       "      <td>835.374886</td>\n",
       "      <td>33516.981876</td>\n",
       "    </tr>\n",
       "    <tr>\n",
       "      <th>std</th>\n",
       "      <td>2886.89568</td>\n",
       "      <td>NaN</td>\n",
       "      <td>NaN</td>\n",
       "      <td>483.714985</td>\n",
       "      <td>13336.639563</td>\n",
       "    </tr>\n",
       "    <tr>\n",
       "      <th>min</th>\n",
       "      <td>1.00000</td>\n",
       "      <td>NaN</td>\n",
       "      <td>NaN</td>\n",
       "      <td>0.000000</td>\n",
       "      <td>771.967729</td>\n",
       "    </tr>\n",
       "    <tr>\n",
       "      <th>25%</th>\n",
       "      <td>2500.75000</td>\n",
       "      <td>NaN</td>\n",
       "      <td>NaN</td>\n",
       "      <td>481.731105</td>\n",
       "      <td>21340.462903</td>\n",
       "    </tr>\n",
       "    <tr>\n",
       "      <th>50%</th>\n",
       "      <td>5000.50000</td>\n",
       "      <td>NaN</td>\n",
       "      <td>NaN</td>\n",
       "      <td>823.636973</td>\n",
       "      <td>34552.644802</td>\n",
       "    </tr>\n",
       "    <tr>\n",
       "      <th>75%</th>\n",
       "      <td>7500.25000</td>\n",
       "      <td>NaN</td>\n",
       "      <td>NaN</td>\n",
       "      <td>1166.308386</td>\n",
       "      <td>43807.729272</td>\n",
       "    </tr>\n",
       "    <tr>\n",
       "      <th>max</th>\n",
       "      <td>10000.00000</td>\n",
       "      <td>NaN</td>\n",
       "      <td>NaN</td>\n",
       "      <td>2654.322576</td>\n",
       "      <td>73554.233495</td>\n",
       "    </tr>\n",
       "  </tbody>\n",
       "</table>\n",
       "</div>"
      ],
      "text/plain": [
       "         Unnamed: 0 default student       balance        income\n",
       "count   10000.00000   10000   10000  10000.000000  10000.000000\n",
       "unique          NaN       2       2           NaN           NaN\n",
       "top             NaN      No      No           NaN           NaN\n",
       "freq            NaN    9667    7056           NaN           NaN\n",
       "mean     5000.50000     NaN     NaN    835.374886  33516.981876\n",
       "std      2886.89568     NaN     NaN    483.714985  13336.639563\n",
       "min         1.00000     NaN     NaN      0.000000    771.967729\n",
       "25%      2500.75000     NaN     NaN    481.731105  21340.462903\n",
       "50%      5000.50000     NaN     NaN    823.636973  34552.644802\n",
       "75%      7500.25000     NaN     NaN   1166.308386  43807.729272\n",
       "max     10000.00000     NaN     NaN   2654.322576  73554.233495"
      ]
     },
     "execution_count": 3,
     "metadata": {},
     "output_type": "execute_result"
    }
   ],
   "source": [
    "# Not enough data for a default of yes\n",
    "raw0.describe(include = 'all')"
   ]
  },
  {
   "cell_type": "markdown",
   "metadata": {},
   "source": [
    "#### <font color='green'> ii) crosstab\n",
    "* Crosstab: https://pbpython.com/pandas-crosstab.html\n",
    "    - pd.crosstab(A,B): produce a frequency table with the groups in A on the rows and groups in B on the columns"
   ]
  },
  {
   "cell_type": "code",
   "execution_count": 4,
   "metadata": {},
   "outputs": [
    {
     "name": "stdout",
     "output_type": "stream",
     "text": [
      "0.02919501133786848\n",
      "0.043138586956521736\n"
     ]
    }
   ],
   "source": [
    "pd.crosstab(raw0.student,raw0.default)\n",
    "\n",
    "default_notstudent = (206/(6850+206))\n",
    "default_student = (127/(127+2817))\n",
    "\n",
    "print(default_notstudent)\n",
    "print(default_student)"
   ]
  },
  {
   "cell_type": "code",
   "execution_count": 5,
   "metadata": {},
   "outputs": [
    {
     "data": {
      "image/png": "[encoded data removed]",
      "text/plain": [
       "<Figure size 432x288 with 1 Axes>"
      ]
     },
     "metadata": {
      "needs_background": "light"
     },
     "output_type": "display_data"
    }
   ],
   "source": [
    "pd.crosstab(raw0.student,raw0.default).plot(kind='bar')\n",
    "\n",
    "plt.title('Default Frequency')\n",
    "plt.xlabel('Student status')\n",
    "plt.ylabel('Frequency')\n",
    "plt.show()"
   ]
  },
  {
   "cell_type": "markdown",
   "metadata": {},
   "source": [
    "#### <font color='green'> iii) Histogram\n",
    "* Histogram: https://jakevdp.github.io/PythonDataScienceHandbook/04.05-histograms-and-binnings.html"
   ]
  },
  {
   "cell_type": "code",
   "execution_count": 6,
   "metadata": {},
   "outputs": [
    {
     "data": {
      "image/png": "[encoded data removed]",
      "text/plain": [
       "<Figure size 1000x300 with 2 Axes>"
      ]
     },
     "metadata": {
      "needs_background": "light"
     },
     "output_type": "display_data"
    }
   ],
   "source": [
    "plt.figure(figsize=(10, 3), dpi=100)\n",
    "\n",
    "#subplot - number of plots and location\n",
    "plt.subplot(1, 2, 1)\n",
    "plt.hist(raw0.balance.loc[raw0.default == 'No'],label='Non-defaulter',alpha=0.7) \n",
    "plt.hist(raw0.balance.loc[raw0.default == 'Yes'],label='Defaulter',alpha=0.7) \n",
    "plt.xlabel('Credit Card Balance')\n",
    "plt.ylabel('Frequency')\n",
    "plt.legend()\n",
    "\n",
    "plt.subplot(1, 2, 2)\n",
    "plt.hist(raw0.income.loc[raw0.default == 'No'],label='Non-defaulter',alpha=0.7) \n",
    "plt.hist(raw0.income.loc[raw0.default == 'Yes'],label='Defaulter',alpha=0.7) \n",
    "plt.xlabel('Annual Income')\n",
    "plt.ylabel('Frequency')\n",
    "plt.legend()\n",
    "\n",
    "plt.show()"
   ]
  },
  {
   "cell_type": "markdown",
   "metadata": {},
   "source": [
    "#### <font color='green'> iv) Boxplot\n",
    "* boxplot: https://matplotlib.org/3.1.1/api/_as_gen/matplotlib.pyplot.boxplot.html"
   ]
  },
  {
   "cell_type": "code",
   "execution_count": 7,
   "metadata": {},
   "outputs": [
    {
     "data": {
      "image/png": "[encoded data removed]",
      "text/plain": [
       "<Figure size 432x432 with 1 Axes>"
      ]
     },
     "metadata": {
      "needs_background": "light"
     },
     "output_type": "display_data"
    },
    {
     "data": {
      "image/png": "[encoded data removed]",
      "text/plain": [
       "<Figure size 432x432 with 1 Axes>"
      ]
     },
     "metadata": {
      "needs_background": "light"
     },
     "output_type": "display_data"
    }
   ],
   "source": [
    "# by default breaks it into categories\n",
    "# balance will most probably be useful\n",
    "\n",
    "boxplot = raw0.boxplot(column='balance', by=['default'], figsize=(6,6))\n",
    "boxplot = raw0.boxplot(column='income', by=['default'], figsize=(6,6))"
   ]
  },
  {
   "cell_type": "markdown",
   "metadata": {},
   "source": [
    "### <font color='green'> 2) Run a logistic regression on the default data\n",
    "\n",
    "* Two packages to run a logistic regression\n",
    "    - statsmodels: ***.Logit\n",
    "    - sklearn.linear_model: LogisticRegression"
   ]
  },
  {
   "cell_type": "code",
   "execution_count": 8,
   "metadata": {},
   "outputs": [],
   "source": [
    "# create dummies\n",
    "raw0.default=pd.get_dummies(raw0.default,drop_first=True) # default = 1\n",
    "raw0.student=pd.get_dummies(raw0.student,drop_first=True) # student = 1"
   ]
  },
  {
   "cell_type": "code",
   "execution_count": 9,
   "metadata": {},
   "outputs": [
    {
     "name": "stdout",
     "output_type": "stream",
     "text": [
      "Optimization terminated successfully.\n",
      "         Current function value: inf\n",
      "         Iterations 10\n",
      "                       Results: Logit\n",
      "=============================================================\n",
      "Model:              Logit            Pseudo R-squared: inf   \n",
      "Dependent Variable: default          AIC:              inf   \n",
      "Date:               2022-03-10 15:20 BIC:              inf   \n",
      "No. Observations:   10000            Log-Likelihood:   -inf  \n",
      "Df Model:           3                LL-Null:          0.0000\n",
      "Df Residuals:       9996             LLR p-value:      1.0000\n",
      "Converged:          1.0000           Scale:            1.0000\n",
      "No. Iterations:     10.0000                                  \n",
      "-------------------------------------------------------------\n",
      "            Coef.   Std.Err.    z     P>|z|   [0.025   0.975]\n",
      "-------------------------------------------------------------\n",
      "const      -10.8690   0.4923 -22.0793 0.0000 -11.8339 -9.9042\n",
      "student     -0.6468   0.2363  -2.7376 0.0062  -1.1098 -0.1837\n",
      "balance      0.0057   0.0002  24.7365 0.0000   0.0053  0.0062\n",
      "income       0.0000   0.0000   0.3698 0.7115  -0.0000  0.0000\n",
      "=============================================================\n",
      "\n"
     ]
    },
    {
     "name": "stderr",
     "output_type": "stream",
     "text": [
      "C:\\Users\\kgame\\anaconda3\\lib\\site-packages\\statsmodels\\discrete\\discrete_model.py:1810: RuntimeWarning: overflow encountered in exp\n",
      "  return 1/(1+np.exp(-X))\n",
      "C:\\Users\\kgame\\anaconda3\\lib\\site-packages\\statsmodels\\discrete\\discrete_model.py:1863: RuntimeWarning: divide by zero encountered in log\n",
      "  return np.sum(np.log(self.cdf(q*np.dot(X,params))))\n",
      "C:\\Users\\kgame\\anaconda3\\lib\\site-packages\\statsmodels\\discrete\\discrete_model.py:1810: RuntimeWarning: overflow encountered in exp\n",
      "  return 1/(1+np.exp(-X))\n",
      "C:\\Users\\kgame\\anaconda3\\lib\\site-packages\\statsmodels\\discrete\\discrete_model.py:1863: RuntimeWarning: divide by zero encountered in log\n",
      "  return np.sum(np.log(self.cdf(q*np.dot(X,params))))\n",
      "C:\\Users\\kgame\\anaconda3\\lib\\site-packages\\statsmodels\\base\\model.py:547: HessianInversionWarning: Inverting hessian failed, no bse or cov_params available\n",
      "  warnings.warn('Inverting hessian failed, no bse or cov_params '\n",
      "C:\\Users\\kgame\\anaconda3\\lib\\site-packages\\statsmodels\\base\\model.py:547: HessianInversionWarning: Inverting hessian failed, no bse or cov_params available\n",
      "  warnings.warn('Inverting hessian failed, no bse or cov_params '\n"
     ]
    }
   ],
   "source": [
    "# Run a logistic regression\n",
    "import statsmodels.api as sm\n",
    "import statsmodels.formula.api as smf\n",
    "\n",
    "Y = raw0.default\n",
    "X = raw0.iloc[:,2:]\n",
    "X = sm.add_constant(X)\n",
    "\n",
    "logitres=sm.Logit(Y,X).fit() # plug in Y first; case sensitive: Logit (o) logit(x)\n",
    "\n",
    "print(logitres.summary2())\n",
    "\n",
    "## interpretation is contrary to what we observed before - probability/ likelihood is negative"
   ]
  },
  {
   "cell_type": "code",
   "execution_count": 10,
   "metadata": {},
   "outputs": [
    {
     "name": "stdout",
     "output_type": "stream",
     "text": [
      "Optimization terminated successfully.\n",
      "         Current function value: 0.078496\n",
      "         Iterations 12\n",
      "                           Results: Logit\n",
      "=====================================================================\n",
      "Model:               Logit             Pseudo R-squared:  0.462      \n",
      "Dependent Variable:  default           AIC:               1585.9225  \n",
      "Date:                2022-03-10 15:20  BIC:               1643.6052  \n",
      "No. Observations:    10000             Log-Likelihood:    -784.96    \n",
      "Df Model:            7                 LL-Null:           -1460.3    \n",
      "Df Residuals:        9992              LLR p-value:       1.7668e-287\n",
      "Converged:           1.0000            Scale:             1.0000     \n",
      "No. Iterations:      12.0000                                         \n",
      "---------------------------------------------------------------------\n",
      "                      Coef.  Std.Err.    z    P>|z|   [0.025   0.975]\n",
      "---------------------------------------------------------------------\n",
      "Intercept            -9.9217   1.5375 -6.4530 0.0000 -12.9352 -6.9082\n",
      "student              -1.3795   1.2559 -1.0984 0.2720  -3.8411  1.0821\n",
      "income               -0.0001   0.0000 -1.0465 0.2953  -0.0001  0.0000\n",
      "balance               0.0058   0.0016  3.7009 0.0002   0.0027  0.0089\n",
      "student:balance      -0.0002   0.0005 -0.4416 0.6588  -0.0012  0.0008\n",
      "student:income        0.0000   0.0000  1.1431 0.2530  -0.0000  0.0001\n",
      "np.power(income, 2)   0.0000   0.0000  1.0951 0.2735  -0.0000  0.0000\n",
      "np.power(balance, 2)  0.0000   0.0000  0.0116 0.9907  -0.0000  0.0000\n",
      "=====================================================================\n",
      "\n"
     ]
    }
   ],
   "source": [
    "# logistic regression with interaction and higer order\n",
    "\n",
    "logitres2=smf.logit('default ~ student + income + balance + student*balance + student*income + np.power(income,2) + np.power(balance,2)', data=raw0).fit() # logit (o), Logit(x)\n",
    "\n",
    "print(logitres2.summary2())"
   ]
  },
  {
   "cell_type": "markdown",
   "metadata": {},
   "source": [
    "### <font color='green'> 3) Calculate/show default probability for students and non-students, separately, as a function of balance, holding income at its mean\n",
    "\n",
    "* see the lecture note 6, page 6-7 (or textbook chapter 4.3)"
   ]
  },
  {
   "cell_type": "code",
   "execution_count": 11,
   "metadata": {},
   "outputs": [
    {
     "data": {
      "image/png": "[encoded data removed]",
      "text/plain": [
       "<Figure size 640x560 with 1 Axes>"
      ]
     },
     "metadata": {
      "needs_background": "light"
     },
     "output_type": "display_data"
    }
   ],
   "source": [
    "# Include result from logitres\n",
    "# Predict the probability for a row of covariates\n",
    "# Reshape from row vector to column vector\n",
    "grid0 = np.linspace(raw0.balance.min(), raw0.balance.max(), 100).reshape((100,1))\n",
    "xx1 = np.concatenate((np.ones((100,1)),np.ones((100,1)),grid0,np.ones((100,1))*raw0.income.mean()), axis=1)\n",
    "xx2 = np.concatenate((np.ones((100,1)),np.zeros((100,1)),grid0,np.ones((100,1))*raw0.income.mean()), axis=1)\n",
    "prd1 = logitres.predict(xx1)\n",
    "prd2 = logitres.predict(xx2)\n",
    "\n",
    "\n",
    "\n",
    "plt.figure(figsize=(8, 7), dpi=80)\n",
    "plt.plot(grid0,prd1,label='Student')\n",
    "plt.plot(grid0,prd2,label='Non-student')\n",
    "plt.xlabel('Balance')\n",
    "plt.ylabel('Prob of Default')\n",
    "plt.legend()\n",
    "plt.show()"
   ]
  },
  {
   "cell_type": "markdown",
   "metadata": {},
   "source": [
    "### <font color='green'> 4) Calculate marginal effect of a variable on default probability\n",
    "\n",
    "* For the calculation of marginal effect of a continuous variable (e.g. balance or income) on default probability, \n",
    "    \n",
    "    1. you can use the formula (1) on page 6 of the lecture note 6. \n",
    "    2. Or you can use \".get_margeff( )\" function in statsmodels \n",
    "     * see: https://towardsdatascience.com/binary-logistic-regression-using-python-research-oriented-modelling-and-interpretation-49b025f1b510 and https://www.statsmodels.org/stable/generated/statsmodels.discrete.discrete_model.DiscreteResults.get_margeff.html\n",
    "     * However, remember that the five different types of the marginal effects calculated from the \".get_margeff( )\" doesn't include the marginal effect computed by the formula (1)."
   ]
  },
  {
   "cell_type": "code",
   "execution_count": 12,
   "metadata": {},
   "outputs": [
    {
     "name": "stdout",
     "output_type": "stream",
     "text": [
      "        Logit Marginal Effects       \n",
      "=====================================\n",
      "Dep. Variable:                default\n",
      "Method:                          dydx\n",
      "At:                              mean\n",
      "==============================================================================\n",
      "                dy/dx    std err          z      P>|z|      [0.025      0.975]\n",
      "------------------------------------------------------------------------------\n",
      "student       -0.0012      0.000     -2.794      0.005      -0.002      -0.000\n",
      "balance       1.2e-05   1.83e-06      6.568      0.000    8.42e-06    1.56e-05\n",
      "income      6.345e-09   1.72e-08      0.369      0.712   -2.74e-08    4.01e-08\n",
      "==============================================================================\n"
     ]
    }
   ],
   "source": [
    "# mean is the marginal effect at the mean of each regressor\n",
    "## HAVE TO DO ME to GET IMPACT ON PROBABLITY\n",
    "meff=logitres.get_margeff(at = 'mean', method = 'dydx', dummy = True)\n",
    "print(meff.summary())"
   ]
  },
  {
   "cell_type": "markdown",
   "metadata": {},
   "source": [
    "### <font color='darkred'> HW6: Calculate the marginal effect of the student status on default probability, holding income and balance at their means, using the formula (2) on page 7 of the lecture note 6 \n",
    "\n",
    "* Note that the student variable is binary - use .predict()"
   ]
  },
  {
   "cell_type": "code",
   "execution_count": 22,
   "metadata": {},
   "outputs": [
    {
     "name": "stdout",
     "output_type": "stream",
     "text": [
      "[-0.00120547]\n"
     ]
    }
   ],
   "source": [
    "## Predict using predict function\n",
    "xx3 = [1,1, raw0.balance.mean(), raw0.income.mean()]\n",
    "xx4 = [1,0, raw0.balance.mean(), raw0.income.mean()]\n",
    "prd3 = logitres.predict(xx3)\n",
    "prd4 = logitres.predict(xx4)\n",
    "\n",
    "print(prd3-prd4)"
   ]
  },
  {
   "cell_type": "code",
   "execution_count": 21,
   "metadata": {},
   "outputs": [
    {
     "name": "stdout",
     "output_type": "stream",
     "text": [
      "-0.0010603985906214796\n"
     ]
    }
   ],
   "source": [
    "## Predict using formula\n",
    "\n",
    "expfunc = math.exp(-10.869+(-.6468*1)+(.0057*raw0.balance.mean())+(0*raw0.income.mean()))\n",
    "expfunc0 = math.exp(-10.869+(-.6468*0)+(.0057*raw0.balance.mean())+(0*raw0.income.mean()))\n",
    "\n",
    "\n",
    "prd4 = (expfunc-expfunc0)\n",
    "\n",
    "print(prd4)\n"
   ]
  },
  {
   "cell_type": "markdown",
   "metadata": {},
   "source": [
    "### <font color='green'> 5) Evaluate the logit regression"
   ]
  },
  {
   "cell_type": "markdown",
   "metadata": {},
   "source": [
    "#### <font color='green'> i) Out of sample prediction accuracy: test error"
   ]
  },
  {
   "cell_type": "code",
   "execution_count": 20,
   "metadata": {},
   "outputs": [
    {
     "data": {
      "text/plain": [
       "0.97"
      ]
     },
     "execution_count": 20,
     "metadata": {},
     "output_type": "execute_result"
    }
   ],
   "source": [
    "# Note: logit in statsmodels provides the summary table but logit in sklearn.linear_model doesn't.\n",
    "# However, logit in sklearn.linear_model has some useful attributes like prediction score\n",
    "\n",
    "from sklearn.linear_model import LogisticRegression\n",
    "from sklearn.model_selection import train_test_split\n",
    "\n",
    "X_train, X_test, y_train, y_test = train_test_split(X, Y, test_size=0.3)\n",
    "\n",
    "## lbfgs uses gradiant method with 1st and 2nd derivative\n",
    "logreg = LogisticRegression(fit_intercept=1, solver = 'lbfgs').fit(X_train, y_train)\n",
    "\n",
    "## score predicts the outcomes for default in test and compare with the actual - naive model achives the same accuracy at 96%\n",
    "logreg.score(X_test, y_test)"
   ]
  },
  {
   "cell_type": "markdown",
   "metadata": {},
   "source": [
    "#### <font color='green'> ii) Confusion Matrix\n",
    "    \n",
    "* https://en.wikipedia.org/wiki/Confusion_matrix\n",
    "* https://scikit-learn.org/stable/modules/generated/sklearn.metrics.confusion_matrix.html"
   ]
  },
  {
   "cell_type": "code",
   "execution_count": 21,
   "metadata": {},
   "outputs": [
    {
     "name": "stdout",
     "output_type": "stream",
     "text": [
      "[[2885   15]\n",
      " [  75   25]]\n"
     ]
    }
   ],
   "source": [
    "# Confusion matrix - 0 top row - 1 bottom row, 0, 1 column\n",
    "from sklearn.metrics import confusion_matrix\n",
    "\n",
    "y_pred = logreg.predict(X_test) # prediction\n",
    "cm_logit = confusion_matrix(y_test, y_pred)\n",
    "print(cm_logit)"
   ]
  },
  {
   "cell_type": "code",
   "execution_count": 22,
   "metadata": {},
   "outputs": [
    {
     "name": "stdout",
     "output_type": "stream",
     "text": [
      "0.030927835051546393\n"
     ]
    }
   ],
   "source": [
    "# The result depends\n",
    "misclass = (75+15)/(2885+25)\n",
    "print(misclass)"
   ]
  },
  {
   "cell_type": "code",
   "execution_count": 23,
   "metadata": {},
   "outputs": [
    {
     "name": "stdout",
     "output_type": "stream",
     "text": [
      "0.00375\n"
     ]
    }
   ],
   "source": [
    "# Very good at predicting non-default\n",
    "FP = 9/(2391+9)\n",
    "print(FP)"
   ]
  },
  {
   "cell_type": "code",
   "execution_count": 24,
   "metadata": {},
   "outputs": [
    {
     "name": "stdout",
     "output_type": "stream",
     "text": [
      "0.75\n"
     ]
    }
   ],
   "source": [
    "# Very poor at predicting default\n",
    "FN = 75/(75+25)\n",
    "print(FN)"
   ]
  },
  {
   "cell_type": "code",
   "execution_count": null,
   "metadata": {},
   "outputs": [],
   "source": []
  }
 ],
 "metadata": {
  "kernelspec": {
   "display_name": "Python 3",
   "language": "python",
   "name": "python3"
  },
  "language_info": {
   "codemirror_mode": {
    "name": "ipython",
    "version": 3
   },
   "file_extension": ".py",
   "mimetype": "text/x-python",
   "name": "python",
   "nbconvert_exporter": "python",
   "pygments_lexer": "ipython3",
   "version": "3.8.8"
  }
 },
 "nbformat": 4,
 "nbformat_minor": 2
}
